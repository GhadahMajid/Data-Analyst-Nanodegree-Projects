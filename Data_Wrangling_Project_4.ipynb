{
 "cells": [
  {
   "cell_type": "markdown",
   "metadata": {
    "extensions": {
     "jupyter_dashboards": {
      "version": 1,
      "views": {
       "grid_default": {
        "col": 0,
        "height": 4,
        "hidden": false,
        "row": 0,
        "width": 4
       },
       "report_default": {
        "hidden": false
       }
      }
     }
    }
   },
   "source": [
    "# Project: Wrangling and Analyze Data\n",
    ">   **Project 4 - Ghadah Alabduljabbar**\n",
    "\n",
    "## Table of Contents\n",
    "- [Introduction](#intro)\n",
    "- [Part I - Data Gathering](#gathering)\n",
    "- [Part II - Assessing Data](#assessing)\n",
    "- [Part III - Cleaning Data](#cleaning)\n",
    "- [Part IV - Storing Data](#storing)\n",
    "- [Part V - Analyzing and Visualizing Data](#analyzing)\n",
    "\n",
    "\n",
    "<a id='intro'></a>\n",
    "### Introduction\n",
    "\n",
    "This project is about working on data from a popular Twitter account called WeRateDogs, which that rates people's dogs with humorous and funny comments about the dog, even though the ratings have a denominator of 10, the numerator is almost always greater than 10, which is one of the attractive things about the account.\n"
   ]
  },
  {
   "cell_type": "code",
   "execution_count": 1,
   "metadata": {
    "extensions": {
     "jupyter_dashboards": {
      "version": 1,
      "views": {
       "grid_default": {
        "hidden": true
       },
       "report_default": {
        "hidden": true
       }
      }
     }
    }
   },
   "outputs": [],
   "source": [
    "import pandas as pd\n",
    "import numpy as np\n",
    "import requests\n",
    "import json\n",
    "import re\n",
    "import matplotlib.pyplot as plt\n",
    "import seaborn as sns\n",
    "import warnings\n",
    "warnings.filterwarnings(\"ignore\")"
   ]
  },
  {
   "cell_type": "markdown",
   "metadata": {},
   "source": [
    "<a id='gathering'></a>\n",
    "## Data Gathering\n",
    "In the cell below, gather **all** three pieces of data for this project and load them in the notebook. **Note:** the methods required to gather each data are different.\n",
    "1. Directly download the WeRateDogs Twitter archive data (twitter-archive-enhanced.csv)"
   ]
  },
  {
   "cell_type": "code",
   "execution_count": 2,
   "metadata": {
    "extensions": {
     "jupyter_dashboards": {
      "version": 1,
      "views": {
       "grid_default": {
        "hidden": true
       },
       "report_default": {
        "hidden": true
       }
      }
     }
    }
   },
   "outputs": [
    {
     "data": {
      "text/html": [
       "<div>\n",
       "<style scoped>\n",
       "    .dataframe tbody tr th:only-of-type {\n",
       "        vertical-align: middle;\n",
       "    }\n",
       "\n",
       "    .dataframe tbody tr th {\n",
       "        vertical-align: top;\n",
       "    }\n",
       "\n",
       "    .dataframe thead th {\n",
       "        text-align: right;\n",
       "    }\n",
       "</style>\n",
       "<table border=\"1\" class=\"dataframe\">\n",
       "  <thead>\n",
       "    <tr style=\"text-align: right;\">\n",
       "      <th></th>\n",
       "      <th>tweet_id</th>\n",
       "      <th>in_reply_to_status_id</th>\n",
       "      <th>in_reply_to_user_id</th>\n",
       "      <th>timestamp</th>\n",
       "      <th>source</th>\n",
       "      <th>text</th>\n",
       "      <th>retweeted_status_id</th>\n",
       "      <th>retweeted_status_user_id</th>\n",
       "      <th>retweeted_status_timestamp</th>\n",
       "      <th>expanded_urls</th>\n",
       "      <th>rating_numerator</th>\n",
       "      <th>rating_denominator</th>\n",
       "      <th>name</th>\n",
       "      <th>doggo</th>\n",
       "      <th>floofer</th>\n",
       "      <th>pupper</th>\n",
       "      <th>puppo</th>\n",
       "    </tr>\n",
       "  </thead>\n",
       "  <tbody>\n",
       "    <tr>\n",
       "      <th>0</th>\n",
       "      <td>892420643555336193</td>\n",
       "      <td>NaN</td>\n",
       "      <td>NaN</td>\n",
       "      <td>2017-08-01 16:23:56 +0000</td>\n",
       "      <td>&lt;a href=\"http://twitter.com/download/iphone\" r...</td>\n",
       "      <td>This is Phineas. He's a mystical boy. Only eve...</td>\n",
       "      <td>NaN</td>\n",
       "      <td>NaN</td>\n",
       "      <td>NaN</td>\n",
       "      <td>https://twitter.com/dog_rates/status/892420643...</td>\n",
       "      <td>13</td>\n",
       "      <td>10</td>\n",
       "      <td>Phineas</td>\n",
       "      <td>None</td>\n",
       "      <td>None</td>\n",
       "      <td>None</td>\n",
       "      <td>None</td>\n",
       "    </tr>\n",
       "    <tr>\n",
       "      <th>1</th>\n",
       "      <td>892177421306343426</td>\n",
       "      <td>NaN</td>\n",
       "      <td>NaN</td>\n",
       "      <td>2017-08-01 00:17:27 +0000</td>\n",
       "      <td>&lt;a href=\"http://twitter.com/download/iphone\" r...</td>\n",
       "      <td>This is Tilly. She's just checking pup on you....</td>\n",
       "      <td>NaN</td>\n",
       "      <td>NaN</td>\n",
       "      <td>NaN</td>\n",
       "      <td>https://twitter.com/dog_rates/status/892177421...</td>\n",
       "      <td>13</td>\n",
       "      <td>10</td>\n",
       "      <td>Tilly</td>\n",
       "      <td>None</td>\n",
       "      <td>None</td>\n",
       "      <td>None</td>\n",
       "      <td>None</td>\n",
       "    </tr>\n",
       "    <tr>\n",
       "      <th>2</th>\n",
       "      <td>891815181378084864</td>\n",
       "      <td>NaN</td>\n",
       "      <td>NaN</td>\n",
       "      <td>2017-07-31 00:18:03 +0000</td>\n",
       "      <td>&lt;a href=\"http://twitter.com/download/iphone\" r...</td>\n",
       "      <td>This is Archie. He is a rare Norwegian Pouncin...</td>\n",
       "      <td>NaN</td>\n",
       "      <td>NaN</td>\n",
       "      <td>NaN</td>\n",
       "      <td>https://twitter.com/dog_rates/status/891815181...</td>\n",
       "      <td>12</td>\n",
       "      <td>10</td>\n",
       "      <td>Archie</td>\n",
       "      <td>None</td>\n",
       "      <td>None</td>\n",
       "      <td>None</td>\n",
       "      <td>None</td>\n",
       "    </tr>\n",
       "    <tr>\n",
       "      <th>3</th>\n",
       "      <td>891689557279858688</td>\n",
       "      <td>NaN</td>\n",
       "      <td>NaN</td>\n",
       "      <td>2017-07-30 15:58:51 +0000</td>\n",
       "      <td>&lt;a href=\"http://twitter.com/download/iphone\" r...</td>\n",
       "      <td>This is Darla. She commenced a snooze mid meal...</td>\n",
       "      <td>NaN</td>\n",
       "      <td>NaN</td>\n",
       "      <td>NaN</td>\n",
       "      <td>https://twitter.com/dog_rates/status/891689557...</td>\n",
       "      <td>13</td>\n",
       "      <td>10</td>\n",
       "      <td>Darla</td>\n",
       "      <td>None</td>\n",
       "      <td>None</td>\n",
       "      <td>None</td>\n",
       "      <td>None</td>\n",
       "    </tr>\n",
       "    <tr>\n",
       "      <th>4</th>\n",
       "      <td>891327558926688256</td>\n",
       "      <td>NaN</td>\n",
       "      <td>NaN</td>\n",
       "      <td>2017-07-29 16:00:24 +0000</td>\n",
       "      <td>&lt;a href=\"http://twitter.com/download/iphone\" r...</td>\n",
       "      <td>This is Franklin. He would like you to stop ca...</td>\n",
       "      <td>NaN</td>\n",
       "      <td>NaN</td>\n",
       "      <td>NaN</td>\n",
       "      <td>https://twitter.com/dog_rates/status/891327558...</td>\n",
       "      <td>12</td>\n",
       "      <td>10</td>\n",
       "      <td>Franklin</td>\n",
       "      <td>None</td>\n",
       "      <td>None</td>\n",
       "      <td>None</td>\n",
       "      <td>None</td>\n",
       "    </tr>\n",
       "  </tbody>\n",
       "</table>\n",
       "</div>"
      ],
      "text/plain": [
       "             tweet_id  in_reply_to_status_id  in_reply_to_user_id  \\\n",
       "0  892420643555336193                    NaN                  NaN   \n",
       "1  892177421306343426                    NaN                  NaN   \n",
       "2  891815181378084864                    NaN                  NaN   \n",
       "3  891689557279858688                    NaN                  NaN   \n",
       "4  891327558926688256                    NaN                  NaN   \n",
       "\n",
       "                   timestamp  \\\n",
       "0  2017-08-01 16:23:56 +0000   \n",
       "1  2017-08-01 00:17:27 +0000   \n",
       "2  2017-07-31 00:18:03 +0000   \n",
       "3  2017-07-30 15:58:51 +0000   \n",
       "4  2017-07-29 16:00:24 +0000   \n",
       "\n",
       "                                              source  \\\n",
       "0  <a href=\"http://twitter.com/download/iphone\" r...   \n",
       "1  <a href=\"http://twitter.com/download/iphone\" r...   \n",
       "2  <a href=\"http://twitter.com/download/iphone\" r...   \n",
       "3  <a href=\"http://twitter.com/download/iphone\" r...   \n",
       "4  <a href=\"http://twitter.com/download/iphone\" r...   \n",
       "\n",
       "                                                text  retweeted_status_id  \\\n",
       "0  This is Phineas. He's a mystical boy. Only eve...                  NaN   \n",
       "1  This is Tilly. She's just checking pup on you....                  NaN   \n",
       "2  This is Archie. He is a rare Norwegian Pouncin...                  NaN   \n",
       "3  This is Darla. She commenced a snooze mid meal...                  NaN   \n",
       "4  This is Franklin. He would like you to stop ca...                  NaN   \n",
       "\n",
       "   retweeted_status_user_id retweeted_status_timestamp  \\\n",
       "0                       NaN                        NaN   \n",
       "1                       NaN                        NaN   \n",
       "2                       NaN                        NaN   \n",
       "3                       NaN                        NaN   \n",
       "4                       NaN                        NaN   \n",
       "\n",
       "                                       expanded_urls  rating_numerator  \\\n",
       "0  https://twitter.com/dog_rates/status/892420643...                13   \n",
       "1  https://twitter.com/dog_rates/status/892177421...                13   \n",
       "2  https://twitter.com/dog_rates/status/891815181...                12   \n",
       "3  https://twitter.com/dog_rates/status/891689557...                13   \n",
       "4  https://twitter.com/dog_rates/status/891327558...                12   \n",
       "\n",
       "   rating_denominator      name doggo floofer pupper puppo  \n",
       "0                  10   Phineas  None    None   None  None  \n",
       "1                  10     Tilly  None    None   None  None  \n",
       "2                  10    Archie  None    None   None  None  \n",
       "3                  10     Darla  None    None   None  None  \n",
       "4                  10  Franklin  None    None   None  None  "
      ]
     },
     "execution_count": 2,
     "metadata": {},
     "output_type": "execute_result"
    }
   ],
   "source": [
    "df_WeRateDogs = pd.read_csv('twitter-archive-enhanced.csv')\n",
    "df_WeRateDogs.head()"
   ]
  },
  {
   "cell_type": "markdown",
   "metadata": {},
   "source": [
    "2. Use the Requests library to download the tweet image prediction (image_predictions.tsv)"
   ]
  },
  {
   "cell_type": "code",
   "execution_count": 3,
   "metadata": {},
   "outputs": [
    {
     "data": {
      "text/html": [
       "<div>\n",
       "<style scoped>\n",
       "    .dataframe tbody tr th:only-of-type {\n",
       "        vertical-align: middle;\n",
       "    }\n",
       "\n",
       "    .dataframe tbody tr th {\n",
       "        vertical-align: top;\n",
       "    }\n",
       "\n",
       "    .dataframe thead th {\n",
       "        text-align: right;\n",
       "    }\n",
       "</style>\n",
       "<table border=\"1\" class=\"dataframe\">\n",
       "  <thead>\n",
       "    <tr style=\"text-align: right;\">\n",
       "      <th></th>\n",
       "      <th>tweet_id</th>\n",
       "      <th>jpg_url</th>\n",
       "      <th>img_num</th>\n",
       "      <th>p1</th>\n",
       "      <th>p1_conf</th>\n",
       "      <th>p1_dog</th>\n",
       "      <th>p2</th>\n",
       "      <th>p2_conf</th>\n",
       "      <th>p2_dog</th>\n",
       "      <th>p3</th>\n",
       "      <th>p3_conf</th>\n",
       "      <th>p3_dog</th>\n",
       "    </tr>\n",
       "  </thead>\n",
       "  <tbody>\n",
       "    <tr>\n",
       "      <th>0</th>\n",
       "      <td>666020888022790149</td>\n",
       "      <td>https://pbs.twimg.com/media/CT4udn0WwAA0aMy.jpg</td>\n",
       "      <td>1</td>\n",
       "      <td>Welsh_springer_spaniel</td>\n",
       "      <td>0.465074</td>\n",
       "      <td>True</td>\n",
       "      <td>collie</td>\n",
       "      <td>0.156665</td>\n",
       "      <td>True</td>\n",
       "      <td>Shetland_sheepdog</td>\n",
       "      <td>0.061428</td>\n",
       "      <td>True</td>\n",
       "    </tr>\n",
       "    <tr>\n",
       "      <th>1</th>\n",
       "      <td>666029285002620928</td>\n",
       "      <td>https://pbs.twimg.com/media/CT42GRgUYAA5iDo.jpg</td>\n",
       "      <td>1</td>\n",
       "      <td>redbone</td>\n",
       "      <td>0.506826</td>\n",
       "      <td>True</td>\n",
       "      <td>miniature_pinscher</td>\n",
       "      <td>0.074192</td>\n",
       "      <td>True</td>\n",
       "      <td>Rhodesian_ridgeback</td>\n",
       "      <td>0.072010</td>\n",
       "      <td>True</td>\n",
       "    </tr>\n",
       "    <tr>\n",
       "      <th>2</th>\n",
       "      <td>666033412701032449</td>\n",
       "      <td>https://pbs.twimg.com/media/CT4521TWwAEvMyu.jpg</td>\n",
       "      <td>1</td>\n",
       "      <td>German_shepherd</td>\n",
       "      <td>0.596461</td>\n",
       "      <td>True</td>\n",
       "      <td>malinois</td>\n",
       "      <td>0.138584</td>\n",
       "      <td>True</td>\n",
       "      <td>bloodhound</td>\n",
       "      <td>0.116197</td>\n",
       "      <td>True</td>\n",
       "    </tr>\n",
       "    <tr>\n",
       "      <th>3</th>\n",
       "      <td>666044226329800704</td>\n",
       "      <td>https://pbs.twimg.com/media/CT5Dr8HUEAA-lEu.jpg</td>\n",
       "      <td>1</td>\n",
       "      <td>Rhodesian_ridgeback</td>\n",
       "      <td>0.408143</td>\n",
       "      <td>True</td>\n",
       "      <td>redbone</td>\n",
       "      <td>0.360687</td>\n",
       "      <td>True</td>\n",
       "      <td>miniature_pinscher</td>\n",
       "      <td>0.222752</td>\n",
       "      <td>True</td>\n",
       "    </tr>\n",
       "    <tr>\n",
       "      <th>4</th>\n",
       "      <td>666049248165822465</td>\n",
       "      <td>https://pbs.twimg.com/media/CT5IQmsXIAAKY4A.jpg</td>\n",
       "      <td>1</td>\n",
       "      <td>miniature_pinscher</td>\n",
       "      <td>0.560311</td>\n",
       "      <td>True</td>\n",
       "      <td>Rottweiler</td>\n",
       "      <td>0.243682</td>\n",
       "      <td>True</td>\n",
       "      <td>Doberman</td>\n",
       "      <td>0.154629</td>\n",
       "      <td>True</td>\n",
       "    </tr>\n",
       "  </tbody>\n",
       "</table>\n",
       "</div>"
      ],
      "text/plain": [
       "             tweet_id                                          jpg_url  \\\n",
       "0  666020888022790149  https://pbs.twimg.com/media/CT4udn0WwAA0aMy.jpg   \n",
       "1  666029285002620928  https://pbs.twimg.com/media/CT42GRgUYAA5iDo.jpg   \n",
       "2  666033412701032449  https://pbs.twimg.com/media/CT4521TWwAEvMyu.jpg   \n",
       "3  666044226329800704  https://pbs.twimg.com/media/CT5Dr8HUEAA-lEu.jpg   \n",
       "4  666049248165822465  https://pbs.twimg.com/media/CT5IQmsXIAAKY4A.jpg   \n",
       "\n",
       "   img_num                      p1   p1_conf  p1_dog                  p2  \\\n",
       "0        1  Welsh_springer_spaniel  0.465074    True              collie   \n",
       "1        1                 redbone  0.506826    True  miniature_pinscher   \n",
       "2        1         German_shepherd  0.596461    True            malinois   \n",
       "3        1     Rhodesian_ridgeback  0.408143    True             redbone   \n",
       "4        1      miniature_pinscher  0.560311    True          Rottweiler   \n",
       "\n",
       "    p2_conf  p2_dog                   p3   p3_conf  p3_dog  \n",
       "0  0.156665    True    Shetland_sheepdog  0.061428    True  \n",
       "1  0.074192    True  Rhodesian_ridgeback  0.072010    True  \n",
       "2  0.138584    True           bloodhound  0.116197    True  \n",
       "3  0.360687    True   miniature_pinscher  0.222752    True  \n",
       "4  0.243682    True             Doberman  0.154629    True  "
      ]
     },
     "execution_count": 3,
     "metadata": {},
     "output_type": "execute_result"
    }
   ],
   "source": [
    "URL = \"https://d17h27t6h515a5.cloudfront.net/topher/2017/August/599fd2ad_image-predictions/image-predictions.tsv\"\n",
    "response = requests.get(URL)\n",
    "open(\"image_predictions.tsv\", \"wb\").write(response.content)\n",
    "df_image_predictions = pd.read_csv(\"image_predictions.tsv\", sep='\\t')\n",
    "df_image_predictions.head()"
   ]
  },
  {
   "cell_type": "markdown",
   "metadata": {},
   "source": [
    "3. Use the Tweepy library to query additional data via the Twitter API (tweet_json.txt)"
   ]
  },
  {
   "cell_type": "code",
   "execution_count": 4,
   "metadata": {},
   "outputs": [],
   "source": [
    "%%script false --no-raise-error\n",
    "\n",
    "import tweepy\n",
    "from tweepy import OAuthHandler\n",
    "import json\n",
    "from timeit import default_timer as timer\n",
    "\n",
    "# Query Twitter API for each tweet in the Twitter archive and save JSON in a text file\n",
    "# These are hidden to comply with Twitter's API terms and conditions\n",
    "consumer_key = 'HIDDEN'\n",
    "consumer_secret = 'HIDDEN'\n",
    "access_token = 'HIDDEN'\n",
    "access_secret = 'HIDDEN'\n",
    "\n",
    "auth = OAuthHandler(consumer_key, consumer_secret)\n",
    "auth.set_access_token(access_token, access_secret)\n",
    "\n",
    "api = tweepy.API(auth, wait_on_rate_limit=True)\n",
    "\n",
    "# NOTE TO STUDENT WITH MOBILE VERIFICATION ISSUES:\n",
    "# df_1 is a DataFrame with the twitter_archive_enhanced.csv file. You may have to\n",
    "# change line 17 to match the name of your DataFrame with twitter_archive_enhanced.csv\n",
    "# NOTE TO REVIEWER: this student had mobile verification issues so the following\n",
    "# Twitter API code was sent to this student from a Udacity instructor\n",
    "# Tweet IDs for which to gather additional data via Twitter's API\n",
    "tweet_ids = df_1.tweet_id.values\n",
    "len(tweet_ids)\n",
    "\n",
    "# Query Twitter's API for JSON data for each tweet ID in the Twitter archive\n",
    "count = 0\n",
    "fails_dict = {}\n",
    "start = timer()\n",
    "# Save each tweet's returned JSON as a new line in a .txt file\n",
    "with open('tweet_json.txt', 'w') as outfile:\n",
    "    # This loop will likely take 20-30 minutes to run because of Twitter's rate limit\n",
    "    for tweet_id in tweet_ids:\n",
    "        count += 1\n",
    "        print(str(count) + \": \" + str(tweet_id))\n",
    "        try:\n",
    "            tweet = api.get_status(tweet_id, tweet_mode='extended')\n",
    "            print(\"Success\")\n",
    "            json.dump(tweet._json, outfile)\n",
    "            outfile.write('\\n')\n",
    "        except tweepy.TweepError as e:\n",
    "            print(\"Fail\")\n",
    "            fails_dict[tweet_id] = e\n",
    "            pass\n",
    "end = timer()\n",
    "print(end - start)\n",
    "print(fails_dict)"
   ]
  },
  {
   "cell_type": "code",
   "execution_count": 5,
   "metadata": {
    "scrolled": true
   },
   "outputs": [
    {
     "data": {
      "text/plain": [
       "{'created_at': 'Tue Aug 01 16:23:56 +0000 2017',\n",
       " 'id': 892420643555336193,\n",
       " 'id_str': '892420643555336193',\n",
       " 'full_text': \"This is Phineas. He's a mystical boy. Only ever appears in the hole of a donut. 13/10 https://t.co/MgUWQ76dJU\",\n",
       " 'truncated': False,\n",
       " 'display_text_range': [0, 85],\n",
       " 'entities': {'hashtags': [],\n",
       "  'symbols': [],\n",
       "  'user_mentions': [],\n",
       "  'urls': [],\n",
       "  'media': [{'id': 892420639486877696,\n",
       "    'id_str': '892420639486877696',\n",
       "    'indices': [86, 109],\n",
       "    'media_url': 'http://pbs.twimg.com/media/DGKD1-bXoAAIAUK.jpg',\n",
       "    'media_url_https': 'https://pbs.twimg.com/media/DGKD1-bXoAAIAUK.jpg',\n",
       "    'url': 'https://t.co/MgUWQ76dJU',\n",
       "    'display_url': 'pic.twitter.com/MgUWQ76dJU',\n",
       "    'expanded_url': 'https://twitter.com/dog_rates/status/892420643555336193/photo/1',\n",
       "    'type': 'photo',\n",
       "    'sizes': {'large': {'w': 540, 'h': 528, 'resize': 'fit'},\n",
       "     'thumb': {'w': 150, 'h': 150, 'resize': 'crop'},\n",
       "     'small': {'w': 540, 'h': 528, 'resize': 'fit'},\n",
       "     'medium': {'w': 540, 'h': 528, 'resize': 'fit'}}}]},\n",
       " 'extended_entities': {'media': [{'id': 892420639486877696,\n",
       "    'id_str': '892420639486877696',\n",
       "    'indices': [86, 109],\n",
       "    'media_url': 'http://pbs.twimg.com/media/DGKD1-bXoAAIAUK.jpg',\n",
       "    'media_url_https': 'https://pbs.twimg.com/media/DGKD1-bXoAAIAUK.jpg',\n",
       "    'url': 'https://t.co/MgUWQ76dJU',\n",
       "    'display_url': 'pic.twitter.com/MgUWQ76dJU',\n",
       "    'expanded_url': 'https://twitter.com/dog_rates/status/892420643555336193/photo/1',\n",
       "    'type': 'photo',\n",
       "    'sizes': {'large': {'w': 540, 'h': 528, 'resize': 'fit'},\n",
       "     'thumb': {'w': 150, 'h': 150, 'resize': 'crop'},\n",
       "     'small': {'w': 540, 'h': 528, 'resize': 'fit'},\n",
       "     'medium': {'w': 540, 'h': 528, 'resize': 'fit'}}}]},\n",
       " 'source': '<a href=\"http://twitter.com/download/iphone\" rel=\"nofollow\">Twitter for iPhone</a>',\n",
       " 'in_reply_to_status_id': None,\n",
       " 'in_reply_to_status_id_str': None,\n",
       " 'in_reply_to_user_id': None,\n",
       " 'in_reply_to_user_id_str': None,\n",
       " 'in_reply_to_screen_name': None,\n",
       " 'user': {'id': 4196983835,\n",
       "  'id_str': '4196983835',\n",
       "  'name': 'WeRateDogs™ (author)',\n",
       "  'screen_name': 'dog_rates',\n",
       "  'location': 'DM YOUR DOGS, WE WILL RATE',\n",
       "  'description': '#1 Source for Professional Dog Ratings | STORE: @ShopWeRateDogs | IG, FB & SC: WeRateDogs MOBILE APP: @GoodDogsGame | Business: dogratingtwitter@gmail.com',\n",
       "  'url': 'https://t.co/N7sNNHAEXS',\n",
       "  'entities': {'url': {'urls': [{'url': 'https://t.co/N7sNNHAEXS',\n",
       "      'expanded_url': 'http://weratedogs.com',\n",
       "      'display_url': 'weratedogs.com',\n",
       "      'indices': [0, 23]}]},\n",
       "   'description': {'urls': []}},\n",
       "  'protected': False,\n",
       "  'followers_count': 3200889,\n",
       "  'friends_count': 104,\n",
       "  'listed_count': 2784,\n",
       "  'created_at': 'Sun Nov 15 21:41:29 +0000 2015',\n",
       "  'favourites_count': 114031,\n",
       "  'utc_offset': None,\n",
       "  'time_zone': None,\n",
       "  'geo_enabled': True,\n",
       "  'verified': True,\n",
       "  'statuses_count': 5288,\n",
       "  'lang': 'en',\n",
       "  'contributors_enabled': False,\n",
       "  'is_translator': False,\n",
       "  'is_translation_enabled': False,\n",
       "  'profile_background_color': '000000',\n",
       "  'profile_background_image_url': 'http://abs.twimg.com/images/themes/theme1/bg.png',\n",
       "  'profile_background_image_url_https': 'https://abs.twimg.com/images/themes/theme1/bg.png',\n",
       "  'profile_background_tile': False,\n",
       "  'profile_image_url': 'http://pbs.twimg.com/profile_images/861415328504569856/R2xOOfwe_normal.jpg',\n",
       "  'profile_image_url_https': 'https://pbs.twimg.com/profile_images/861415328504569856/R2xOOfwe_normal.jpg',\n",
       "  'profile_banner_url': 'https://pbs.twimg.com/profile_banners/4196983835/1501129017',\n",
       "  'profile_link_color': 'F5ABB5',\n",
       "  'profile_sidebar_border_color': '000000',\n",
       "  'profile_sidebar_fill_color': '000000',\n",
       "  'profile_text_color': '000000',\n",
       "  'profile_use_background_image': False,\n",
       "  'has_extended_profile': True,\n",
       "  'default_profile': False,\n",
       "  'default_profile_image': False,\n",
       "  'following': True,\n",
       "  'follow_request_sent': False,\n",
       "  'notifications': False,\n",
       "  'translator_type': 'none'},\n",
       " 'geo': None,\n",
       " 'coordinates': None,\n",
       " 'place': None,\n",
       " 'contributors': None,\n",
       " 'is_quote_status': False,\n",
       " 'retweet_count': 8853,\n",
       " 'favorite_count': 39467,\n",
       " 'favorited': False,\n",
       " 'retweeted': False,\n",
       " 'possibly_sensitive': False,\n",
       " 'possibly_sensitive_appealable': False,\n",
       " 'lang': 'en'}"
      ]
     },
     "execution_count": 5,
     "metadata": {},
     "output_type": "execute_result"
    }
   ],
   "source": [
    "with open('tweet-json.txt') as file:\n",
    "    dic_tweet_json = []\n",
    "    for line in file:\n",
    "        dic_tweet_json.append(json.loads(line))\n",
    "        \n",
    "dic_tweet_json[0]"
   ]
  },
  {
   "cell_type": "code",
   "execution_count": 6,
   "metadata": {},
   "outputs": [
    {
     "data": {
      "text/html": [
       "<div>\n",
       "<style scoped>\n",
       "    .dataframe tbody tr th:only-of-type {\n",
       "        vertical-align: middle;\n",
       "    }\n",
       "\n",
       "    .dataframe tbody tr th {\n",
       "        vertical-align: top;\n",
       "    }\n",
       "\n",
       "    .dataframe thead th {\n",
       "        text-align: right;\n",
       "    }\n",
       "</style>\n",
       "<table border=\"1\" class=\"dataframe\">\n",
       "  <thead>\n",
       "    <tr style=\"text-align: right;\">\n",
       "      <th></th>\n",
       "      <th>tweet_id</th>\n",
       "      <th>retweet_count</th>\n",
       "      <th>favorite_count</th>\n",
       "    </tr>\n",
       "  </thead>\n",
       "  <tbody>\n",
       "    <tr>\n",
       "      <th>0</th>\n",
       "      <td>892420643555336193</td>\n",
       "      <td>8853</td>\n",
       "      <td>39467</td>\n",
       "    </tr>\n",
       "    <tr>\n",
       "      <th>1</th>\n",
       "      <td>892177421306343426</td>\n",
       "      <td>6514</td>\n",
       "      <td>33819</td>\n",
       "    </tr>\n",
       "    <tr>\n",
       "      <th>2</th>\n",
       "      <td>891815181378084864</td>\n",
       "      <td>4328</td>\n",
       "      <td>25461</td>\n",
       "    </tr>\n",
       "    <tr>\n",
       "      <th>3</th>\n",
       "      <td>891689557279858688</td>\n",
       "      <td>8964</td>\n",
       "      <td>42908</td>\n",
       "    </tr>\n",
       "    <tr>\n",
       "      <th>4</th>\n",
       "      <td>891327558926688256</td>\n",
       "      <td>9774</td>\n",
       "      <td>41048</td>\n",
       "    </tr>\n",
       "  </tbody>\n",
       "</table>\n",
       "</div>"
      ],
      "text/plain": [
       "             tweet_id  retweet_count  favorite_count\n",
       "0  892420643555336193           8853           39467\n",
       "1  892177421306343426           6514           33819\n",
       "2  891815181378084864           4328           25461\n",
       "3  891689557279858688           8964           42908\n",
       "4  891327558926688256           9774           41048"
      ]
     },
     "execution_count": 6,
     "metadata": {},
     "output_type": "execute_result"
    }
   ],
   "source": [
    "tweets_list = []\n",
    "for i in range(len(dic_tweet_json)):\n",
    "    tweet = {'tweet_id': dic_tweet_json[i]['id'],'retweet_count': dic_tweet_json[i]['retweet_count'],\\\n",
    "             'favorite_count':dic_tweet_json[i]['favorite_count'] }\n",
    "    tweets_list.append(tweet)\n",
    "\n",
    "df_tweet_json = pd.DataFrame(tweets_list, columns=['tweet_id','retweet_count','favorite_count'])\n",
    "df_tweet_json.head()"
   ]
  },
  {
   "cell_type": "markdown",
   "metadata": {
    "extensions": {
     "jupyter_dashboards": {
      "version": 1,
      "views": {
       "grid_default": {
        "col": 4,
        "height": 4,
        "hidden": false,
        "row": 28,
        "width": 4
       },
       "report_default": {
        "hidden": false
       }
      }
     }
    }
   },
   "source": [
    "<a id='assessing'></a>\n",
    "\n",
    "## Assessing Data\n",
    "In this section, detect and document at least **eight (8) quality issues and two (2) tidiness issue**. You must use **both** visual assessment\n",
    "programmatic assessement to assess the data.\n",
    "\n",
    "**Note:** pay attention to the following key points when you access the data.\n",
    "\n",
    "* You only want original ratings (no retweets) that have images. Though there are 5000+ tweets in the dataset, not all are dog ratings and some are retweets.\n",
    "* Assessing and cleaning the entire dataset completely would require a lot of time, and is not necessary to practice and demonstrate your skills in data wrangling. Therefore, the requirements of this project are only to assess and clean at least 8 quality issues and at least 2 tidiness issues in this dataset.\n",
    "* The fact that the rating numerators are greater than the denominators does not need to be cleaned. This [unique rating system](http://knowyourmeme.com/memes/theyre-good-dogs-brent) is a big part of the popularity of WeRateDogs.\n",
    "* You do not need to gather the tweets beyond August 1st, 2017. You can, but note that you won't be able to gather the image predictions for these tweets since you don't have access to the algorithm used.\n",
    "\n"
   ]
  },
  {
   "cell_type": "markdown",
   "metadata": {},
   "source": [
    "## Dataset 1: WeRateDogs Tweets"
   ]
  },
  {
   "cell_type": "code",
   "execution_count": 7,
   "metadata": {},
   "outputs": [
    {
     "data": {
      "text/html": [
       "<div>\n",
       "<style scoped>\n",
       "    .dataframe tbody tr th:only-of-type {\n",
       "        vertical-align: middle;\n",
       "    }\n",
       "\n",
       "    .dataframe tbody tr th {\n",
       "        vertical-align: top;\n",
       "    }\n",
       "\n",
       "    .dataframe thead th {\n",
       "        text-align: right;\n",
       "    }\n",
       "</style>\n",
       "<table border=\"1\" class=\"dataframe\">\n",
       "  <thead>\n",
       "    <tr style=\"text-align: right;\">\n",
       "      <th></th>\n",
       "      <th>tweet_id</th>\n",
       "      <th>in_reply_to_status_id</th>\n",
       "      <th>in_reply_to_user_id</th>\n",
       "      <th>timestamp</th>\n",
       "      <th>source</th>\n",
       "      <th>text</th>\n",
       "      <th>retweeted_status_id</th>\n",
       "      <th>retweeted_status_user_id</th>\n",
       "      <th>retweeted_status_timestamp</th>\n",
       "      <th>expanded_urls</th>\n",
       "      <th>rating_numerator</th>\n",
       "      <th>rating_denominator</th>\n",
       "      <th>name</th>\n",
       "      <th>doggo</th>\n",
       "      <th>floofer</th>\n",
       "      <th>pupper</th>\n",
       "      <th>puppo</th>\n",
       "    </tr>\n",
       "  </thead>\n",
       "  <tbody>\n",
       "    <tr>\n",
       "      <th>1953</th>\n",
       "      <td>673662677122719744</td>\n",
       "      <td>NaN</td>\n",
       "      <td>NaN</td>\n",
       "      <td>2015-12-07 00:37:52 +0000</td>\n",
       "      <td>&lt;a href=\"http://twitter.com/download/iphone\" r...</td>\n",
       "      <td>This is Kendall. 12/10 would cuddle the hell o...</td>\n",
       "      <td>NaN</td>\n",
       "      <td>NaN</td>\n",
       "      <td>NaN</td>\n",
       "      <td>https://twitter.com/dog_rates/status/673662677...</td>\n",
       "      <td>12</td>\n",
       "      <td>10</td>\n",
       "      <td>Kendall</td>\n",
       "      <td>None</td>\n",
       "      <td>None</td>\n",
       "      <td>None</td>\n",
       "      <td>None</td>\n",
       "    </tr>\n",
       "    <tr>\n",
       "      <th>2111</th>\n",
       "      <td>670442337873600512</td>\n",
       "      <td>NaN</td>\n",
       "      <td>NaN</td>\n",
       "      <td>2015-11-28 03:21:24 +0000</td>\n",
       "      <td>&lt;a href=\"http://twitter.com/download/iphone\" r...</td>\n",
       "      <td>Meet Koda. He's large. Looks very soft. Great ...</td>\n",
       "      <td>NaN</td>\n",
       "      <td>NaN</td>\n",
       "      <td>NaN</td>\n",
       "      <td>https://twitter.com/dog_rates/status/670442337...</td>\n",
       "      <td>11</td>\n",
       "      <td>10</td>\n",
       "      <td>Koda</td>\n",
       "      <td>None</td>\n",
       "      <td>None</td>\n",
       "      <td>None</td>\n",
       "      <td>None</td>\n",
       "    </tr>\n",
       "    <tr>\n",
       "      <th>2059</th>\n",
       "      <td>671186162933985280</td>\n",
       "      <td>NaN</td>\n",
       "      <td>NaN</td>\n",
       "      <td>2015-11-30 04:37:05 +0000</td>\n",
       "      <td>&lt;a href=\"http://twitter.com/download/iphone\" r...</td>\n",
       "      <td>This is Sparky. That's his pancake now. He wil...</td>\n",
       "      <td>NaN</td>\n",
       "      <td>NaN</td>\n",
       "      <td>NaN</td>\n",
       "      <td>https://twitter.com/dog_rates/status/671186162...</td>\n",
       "      <td>10</td>\n",
       "      <td>10</td>\n",
       "      <td>Sparky</td>\n",
       "      <td>None</td>\n",
       "      <td>None</td>\n",
       "      <td>None</td>\n",
       "      <td>None</td>\n",
       "    </tr>\n",
       "    <tr>\n",
       "      <th>1805</th>\n",
       "      <td>676942428000112642</td>\n",
       "      <td>NaN</td>\n",
       "      <td>NaN</td>\n",
       "      <td>2015-12-16 01:50:26 +0000</td>\n",
       "      <td>&lt;a href=\"http://twitter.com/download/iphone\" r...</td>\n",
       "      <td>Who leaves the last cupcake just sitting there...</td>\n",
       "      <td>NaN</td>\n",
       "      <td>NaN</td>\n",
       "      <td>NaN</td>\n",
       "      <td>https://twitter.com/dog_rates/status/676942428...</td>\n",
       "      <td>9</td>\n",
       "      <td>10</td>\n",
       "      <td>None</td>\n",
       "      <td>None</td>\n",
       "      <td>None</td>\n",
       "      <td>None</td>\n",
       "      <td>None</td>\n",
       "    </tr>\n",
       "    <tr>\n",
       "      <th>976</th>\n",
       "      <td>750026558547456000</td>\n",
       "      <td>NaN</td>\n",
       "      <td>NaN</td>\n",
       "      <td>2016-07-04 18:00:41 +0000</td>\n",
       "      <td>&lt;a href=\"https://about.twitter.com/products/tw...</td>\n",
       "      <td>Meet Jax &amp;amp; Jil. Jil is yelling the pledge ...</td>\n",
       "      <td>NaN</td>\n",
       "      <td>NaN</td>\n",
       "      <td>NaN</td>\n",
       "      <td>https://twitter.com/dog_rates/status/750026558...</td>\n",
       "      <td>10</td>\n",
       "      <td>10</td>\n",
       "      <td>Jax</td>\n",
       "      <td>None</td>\n",
       "      <td>None</td>\n",
       "      <td>None</td>\n",
       "      <td>None</td>\n",
       "    </tr>\n",
       "    <tr>\n",
       "      <th>1105</th>\n",
       "      <td>734912297295085568</td>\n",
       "      <td>NaN</td>\n",
       "      <td>NaN</td>\n",
       "      <td>2016-05-24 01:02:00 +0000</td>\n",
       "      <td>&lt;a href=\"http://twitter.com/download/iphone\" r...</td>\n",
       "      <td>This is Jax. He's a literal fluffball. Sneaky ...</td>\n",
       "      <td>NaN</td>\n",
       "      <td>NaN</td>\n",
       "      <td>NaN</td>\n",
       "      <td>https://twitter.com/dog_rates/status/734912297...</td>\n",
       "      <td>10</td>\n",
       "      <td>10</td>\n",
       "      <td>Jax</td>\n",
       "      <td>None</td>\n",
       "      <td>None</td>\n",
       "      <td>None</td>\n",
       "      <td>None</td>\n",
       "    </tr>\n",
       "    <tr>\n",
       "      <th>1640</th>\n",
       "      <td>684147889187209216</td>\n",
       "      <td>NaN</td>\n",
       "      <td>NaN</td>\n",
       "      <td>2016-01-04 23:02:22 +0000</td>\n",
       "      <td>&lt;a href=\"http://vine.co\" rel=\"nofollow\"&gt;Vine -...</td>\n",
       "      <td>This is Sweets the English Bulldog. Waves back...</td>\n",
       "      <td>NaN</td>\n",
       "      <td>NaN</td>\n",
       "      <td>NaN</td>\n",
       "      <td>https://vine.co/v/ib2nTOEuuOI</td>\n",
       "      <td>12</td>\n",
       "      <td>10</td>\n",
       "      <td>Sweets</td>\n",
       "      <td>None</td>\n",
       "      <td>None</td>\n",
       "      <td>pupper</td>\n",
       "      <td>None</td>\n",
       "    </tr>\n",
       "    <tr>\n",
       "      <th>2216</th>\n",
       "      <td>668537837512433665</td>\n",
       "      <td>NaN</td>\n",
       "      <td>NaN</td>\n",
       "      <td>2015-11-22 21:13:35 +0000</td>\n",
       "      <td>&lt;a href=\"http://twitter.com/download/iphone\" r...</td>\n",
       "      <td>This is Spark. He's nervous. Other dog hasn't ...</td>\n",
       "      <td>NaN</td>\n",
       "      <td>NaN</td>\n",
       "      <td>NaN</td>\n",
       "      <td>https://twitter.com/dog_rates/status/668537837...</td>\n",
       "      <td>8</td>\n",
       "      <td>10</td>\n",
       "      <td>Spark</td>\n",
       "      <td>None</td>\n",
       "      <td>None</td>\n",
       "      <td>None</td>\n",
       "      <td>None</td>\n",
       "    </tr>\n",
       "    <tr>\n",
       "      <th>361</th>\n",
       "      <td>829501995190984704</td>\n",
       "      <td>NaN</td>\n",
       "      <td>NaN</td>\n",
       "      <td>2017-02-09 01:27:41 +0000</td>\n",
       "      <td>&lt;a href=\"http://twitter.com/download/iphone\" r...</td>\n",
       "      <td>This is Leo. He was a skater pup. She said see...</td>\n",
       "      <td>NaN</td>\n",
       "      <td>NaN</td>\n",
       "      <td>NaN</td>\n",
       "      <td>https://twitter.com/dog_rates/status/829501995...</td>\n",
       "      <td>12</td>\n",
       "      <td>10</td>\n",
       "      <td>Leo</td>\n",
       "      <td>None</td>\n",
       "      <td>None</td>\n",
       "      <td>None</td>\n",
       "      <td>None</td>\n",
       "    </tr>\n",
       "    <tr>\n",
       "      <th>492</th>\n",
       "      <td>813217897535406080</td>\n",
       "      <td>NaN</td>\n",
       "      <td>NaN</td>\n",
       "      <td>2016-12-26 03:00:30 +0000</td>\n",
       "      <td>&lt;a href=\"http://twitter.com/download/iphone\" r...</td>\n",
       "      <td>Here is Atlas. He went all out this year. 13/1...</td>\n",
       "      <td>NaN</td>\n",
       "      <td>NaN</td>\n",
       "      <td>NaN</td>\n",
       "      <td>https://twitter.com/dog_rates/status/813217897...</td>\n",
       "      <td>13</td>\n",
       "      <td>10</td>\n",
       "      <td>Atlas</td>\n",
       "      <td>None</td>\n",
       "      <td>None</td>\n",
       "      <td>None</td>\n",
       "      <td>None</td>\n",
       "    </tr>\n",
       "    <tr>\n",
       "      <th>1032</th>\n",
       "      <td>745314880350101504</td>\n",
       "      <td>NaN</td>\n",
       "      <td>NaN</td>\n",
       "      <td>2016-06-21 17:58:09 +0000</td>\n",
       "      <td>&lt;a href=\"http://twitter.com/download/iphone\" r...</td>\n",
       "      <td>This is Sugar. She excels underwater. 12/10 ph...</td>\n",
       "      <td>NaN</td>\n",
       "      <td>NaN</td>\n",
       "      <td>NaN</td>\n",
       "      <td>https://twitter.com/dog_rates/status/745314880...</td>\n",
       "      <td>12</td>\n",
       "      <td>10</td>\n",
       "      <td>Sugar</td>\n",
       "      <td>None</td>\n",
       "      <td>None</td>\n",
       "      <td>None</td>\n",
       "      <td>None</td>\n",
       "    </tr>\n",
       "    <tr>\n",
       "      <th>1134</th>\n",
       "      <td>728653952833728512</td>\n",
       "      <td>NaN</td>\n",
       "      <td>NaN</td>\n",
       "      <td>2016-05-06 18:33:34 +0000</td>\n",
       "      <td>&lt;a href=\"http://twitter.com/download/iphone\" r...</td>\n",
       "      <td>This is Coleman. Somebody needs to tell him th...</td>\n",
       "      <td>NaN</td>\n",
       "      <td>NaN</td>\n",
       "      <td>NaN</td>\n",
       "      <td>https://twitter.com/dog_rates/status/728653952...</td>\n",
       "      <td>8</td>\n",
       "      <td>10</td>\n",
       "      <td>Coleman</td>\n",
       "      <td>None</td>\n",
       "      <td>None</td>\n",
       "      <td>None</td>\n",
       "      <td>None</td>\n",
       "    </tr>\n",
       "    <tr>\n",
       "      <th>183</th>\n",
       "      <td>856543823941562368</td>\n",
       "      <td>NaN</td>\n",
       "      <td>NaN</td>\n",
       "      <td>2017-04-24 16:22:16 +0000</td>\n",
       "      <td>&lt;a href=\"http://twitter.com/download/iphone\" r...</td>\n",
       "      <td>This is Callie. She'll be your navigator today...</td>\n",
       "      <td>NaN</td>\n",
       "      <td>NaN</td>\n",
       "      <td>NaN</td>\n",
       "      <td>https://twitter.com/dog_rates/status/856543823...</td>\n",
       "      <td>12</td>\n",
       "      <td>10</td>\n",
       "      <td>Callie</td>\n",
       "      <td>None</td>\n",
       "      <td>None</td>\n",
       "      <td>None</td>\n",
       "      <td>None</td>\n",
       "    </tr>\n",
       "    <tr>\n",
       "      <th>704</th>\n",
       "      <td>785872687017132033</td>\n",
       "      <td>NaN</td>\n",
       "      <td>NaN</td>\n",
       "      <td>2016-10-11 16:00:24 +0000</td>\n",
       "      <td>&lt;a href=\"http://twitter.com/download/iphone\" r...</td>\n",
       "      <td>Meet Rusty. He appears to be rather h*ckin flu...</td>\n",
       "      <td>NaN</td>\n",
       "      <td>NaN</td>\n",
       "      <td>NaN</td>\n",
       "      <td>https://twitter.com/dog_rates/status/785872687...</td>\n",
       "      <td>12</td>\n",
       "      <td>10</td>\n",
       "      <td>Rusty</td>\n",
       "      <td>None</td>\n",
       "      <td>None</td>\n",
       "      <td>None</td>\n",
       "      <td>None</td>\n",
       "    </tr>\n",
       "    <tr>\n",
       "      <th>593</th>\n",
       "      <td>798925684722855936</td>\n",
       "      <td>NaN</td>\n",
       "      <td>NaN</td>\n",
       "      <td>2016-11-16 16:28:21 +0000</td>\n",
       "      <td>&lt;a href=\"http://twitter.com/download/iphone\" r...</td>\n",
       "      <td>This is Shadow. He's a firm believer that they...</td>\n",
       "      <td>NaN</td>\n",
       "      <td>NaN</td>\n",
       "      <td>NaN</td>\n",
       "      <td>https://twitter.com/dog_rates/status/798925684...</td>\n",
       "      <td>11</td>\n",
       "      <td>10</td>\n",
       "      <td>Shadow</td>\n",
       "      <td>None</td>\n",
       "      <td>None</td>\n",
       "      <td>None</td>\n",
       "      <td>None</td>\n",
       "    </tr>\n",
       "    <tr>\n",
       "      <th>926</th>\n",
       "      <td>754874841593970688</td>\n",
       "      <td>NaN</td>\n",
       "      <td>NaN</td>\n",
       "      <td>2016-07-18 03:06:01 +0000</td>\n",
       "      <td>&lt;a href=\"http://twitter.com/download/iphone\" r...</td>\n",
       "      <td>RT @dog_rates: This is Rubio. He has too much ...</td>\n",
       "      <td>6.791584e+17</td>\n",
       "      <td>4.196984e+09</td>\n",
       "      <td>2015-12-22 04:35:49 +0000</td>\n",
       "      <td>https://twitter.com/dog_rates/status/679158373...</td>\n",
       "      <td>11</td>\n",
       "      <td>10</td>\n",
       "      <td>Rubio</td>\n",
       "      <td>None</td>\n",
       "      <td>None</td>\n",
       "      <td>None</td>\n",
       "      <td>None</td>\n",
       "    </tr>\n",
       "    <tr>\n",
       "      <th>939</th>\n",
       "      <td>753039830821511168</td>\n",
       "      <td>NaN</td>\n",
       "      <td>NaN</td>\n",
       "      <td>2016-07-13 01:34:21 +0000</td>\n",
       "      <td>&lt;a href=\"http://vine.co\" rel=\"nofollow\"&gt;Vine -...</td>\n",
       "      <td>So this just changed my life. 13/10 please enj...</td>\n",
       "      <td>NaN</td>\n",
       "      <td>NaN</td>\n",
       "      <td>NaN</td>\n",
       "      <td>https://vine.co/v/5W2Dg3XPX7a</td>\n",
       "      <td>13</td>\n",
       "      <td>10</td>\n",
       "      <td>None</td>\n",
       "      <td>None</td>\n",
       "      <td>None</td>\n",
       "      <td>None</td>\n",
       "      <td>None</td>\n",
       "    </tr>\n",
       "    <tr>\n",
       "      <th>2023</th>\n",
       "      <td>671896809300709376</td>\n",
       "      <td>NaN</td>\n",
       "      <td>NaN</td>\n",
       "      <td>2015-12-02 03:40:57 +0000</td>\n",
       "      <td>&lt;a href=\"http://twitter.com/download/iphone\" r...</td>\n",
       "      <td>This is Lola. She fell asleep on a piece of pi...</td>\n",
       "      <td>NaN</td>\n",
       "      <td>NaN</td>\n",
       "      <td>NaN</td>\n",
       "      <td>https://twitter.com/dog_rates/status/671896809...</td>\n",
       "      <td>10</td>\n",
       "      <td>10</td>\n",
       "      <td>Lola</td>\n",
       "      <td>None</td>\n",
       "      <td>None</td>\n",
       "      <td>None</td>\n",
       "      <td>None</td>\n",
       "    </tr>\n",
       "    <tr>\n",
       "      <th>1979</th>\n",
       "      <td>672980819271634944</td>\n",
       "      <td>NaN</td>\n",
       "      <td>NaN</td>\n",
       "      <td>2015-12-05 03:28:25 +0000</td>\n",
       "      <td>&lt;a href=\"http://twitter.com/download/iphone\" r...</td>\n",
       "      <td>Extraordinary dog here. Looks large. Just a he...</td>\n",
       "      <td>NaN</td>\n",
       "      <td>NaN</td>\n",
       "      <td>NaN</td>\n",
       "      <td>https://twitter.com/dog_rates/status/672980819...</td>\n",
       "      <td>5</td>\n",
       "      <td>10</td>\n",
       "      <td>None</td>\n",
       "      <td>None</td>\n",
       "      <td>None</td>\n",
       "      <td>None</td>\n",
       "      <td>None</td>\n",
       "    </tr>\n",
       "    <tr>\n",
       "      <th>2073</th>\n",
       "      <td>670995969505435648</td>\n",
       "      <td>NaN</td>\n",
       "      <td>NaN</td>\n",
       "      <td>2015-11-29 16:01:20 +0000</td>\n",
       "      <td>&lt;a href=\"http://twitter.com/download/iphone\" r...</td>\n",
       "      <td>Yea I can't handle this job anymore your dogs ...</td>\n",
       "      <td>NaN</td>\n",
       "      <td>NaN</td>\n",
       "      <td>NaN</td>\n",
       "      <td>https://twitter.com/dog_rates/status/670995969...</td>\n",
       "      <td>12</td>\n",
       "      <td>10</td>\n",
       "      <td>None</td>\n",
       "      <td>None</td>\n",
       "      <td>None</td>\n",
       "      <td>None</td>\n",
       "      <td>None</td>\n",
       "    </tr>\n",
       "  </tbody>\n",
       "</table>\n",
       "</div>"
      ],
      "text/plain": [
       "                tweet_id  in_reply_to_status_id  in_reply_to_user_id  \\\n",
       "1953  673662677122719744                    NaN                  NaN   \n",
       "2111  670442337873600512                    NaN                  NaN   \n",
       "2059  671186162933985280                    NaN                  NaN   \n",
       "1805  676942428000112642                    NaN                  NaN   \n",
       "976   750026558547456000                    NaN                  NaN   \n",
       "1105  734912297295085568                    NaN                  NaN   \n",
       "1640  684147889187209216                    NaN                  NaN   \n",
       "2216  668537837512433665                    NaN                  NaN   \n",
       "361   829501995190984704                    NaN                  NaN   \n",
       "492   813217897535406080                    NaN                  NaN   \n",
       "1032  745314880350101504                    NaN                  NaN   \n",
       "1134  728653952833728512                    NaN                  NaN   \n",
       "183   856543823941562368                    NaN                  NaN   \n",
       "704   785872687017132033                    NaN                  NaN   \n",
       "593   798925684722855936                    NaN                  NaN   \n",
       "926   754874841593970688                    NaN                  NaN   \n",
       "939   753039830821511168                    NaN                  NaN   \n",
       "2023  671896809300709376                    NaN                  NaN   \n",
       "1979  672980819271634944                    NaN                  NaN   \n",
       "2073  670995969505435648                    NaN                  NaN   \n",
       "\n",
       "                      timestamp  \\\n",
       "1953  2015-12-07 00:37:52 +0000   \n",
       "2111  2015-11-28 03:21:24 +0000   \n",
       "2059  2015-11-30 04:37:05 +0000   \n",
       "1805  2015-12-16 01:50:26 +0000   \n",
       "976   2016-07-04 18:00:41 +0000   \n",
       "1105  2016-05-24 01:02:00 +0000   \n",
       "1640  2016-01-04 23:02:22 +0000   \n",
       "2216  2015-11-22 21:13:35 +0000   \n",
       "361   2017-02-09 01:27:41 +0000   \n",
       "492   2016-12-26 03:00:30 +0000   \n",
       "1032  2016-06-21 17:58:09 +0000   \n",
       "1134  2016-05-06 18:33:34 +0000   \n",
       "183   2017-04-24 16:22:16 +0000   \n",
       "704   2016-10-11 16:00:24 +0000   \n",
       "593   2016-11-16 16:28:21 +0000   \n",
       "926   2016-07-18 03:06:01 +0000   \n",
       "939   2016-07-13 01:34:21 +0000   \n",
       "2023  2015-12-02 03:40:57 +0000   \n",
       "1979  2015-12-05 03:28:25 +0000   \n",
       "2073  2015-11-29 16:01:20 +0000   \n",
       "\n",
       "                                                 source  \\\n",
       "1953  <a href=\"http://twitter.com/download/iphone\" r...   \n",
       "2111  <a href=\"http://twitter.com/download/iphone\" r...   \n",
       "2059  <a href=\"http://twitter.com/download/iphone\" r...   \n",
       "1805  <a href=\"http://twitter.com/download/iphone\" r...   \n",
       "976   <a href=\"https://about.twitter.com/products/tw...   \n",
       "1105  <a href=\"http://twitter.com/download/iphone\" r...   \n",
       "1640  <a href=\"http://vine.co\" rel=\"nofollow\">Vine -...   \n",
       "2216  <a href=\"http://twitter.com/download/iphone\" r...   \n",
       "361   <a href=\"http://twitter.com/download/iphone\" r...   \n",
       "492   <a href=\"http://twitter.com/download/iphone\" r...   \n",
       "1032  <a href=\"http://twitter.com/download/iphone\" r...   \n",
       "1134  <a href=\"http://twitter.com/download/iphone\" r...   \n",
       "183   <a href=\"http://twitter.com/download/iphone\" r...   \n",
       "704   <a href=\"http://twitter.com/download/iphone\" r...   \n",
       "593   <a href=\"http://twitter.com/download/iphone\" r...   \n",
       "926   <a href=\"http://twitter.com/download/iphone\" r...   \n",
       "939   <a href=\"http://vine.co\" rel=\"nofollow\">Vine -...   \n",
       "2023  <a href=\"http://twitter.com/download/iphone\" r...   \n",
       "1979  <a href=\"http://twitter.com/download/iphone\" r...   \n",
       "2073  <a href=\"http://twitter.com/download/iphone\" r...   \n",
       "\n",
       "                                                   text  retweeted_status_id  \\\n",
       "1953  This is Kendall. 12/10 would cuddle the hell o...                  NaN   \n",
       "2111  Meet Koda. He's large. Looks very soft. Great ...                  NaN   \n",
       "2059  This is Sparky. That's his pancake now. He wil...                  NaN   \n",
       "1805  Who leaves the last cupcake just sitting there...                  NaN   \n",
       "976   Meet Jax &amp; Jil. Jil is yelling the pledge ...                  NaN   \n",
       "1105  This is Jax. He's a literal fluffball. Sneaky ...                  NaN   \n",
       "1640  This is Sweets the English Bulldog. Waves back...                  NaN   \n",
       "2216  This is Spark. He's nervous. Other dog hasn't ...                  NaN   \n",
       "361   This is Leo. He was a skater pup. She said see...                  NaN   \n",
       "492   Here is Atlas. He went all out this year. 13/1...                  NaN   \n",
       "1032  This is Sugar. She excels underwater. 12/10 ph...                  NaN   \n",
       "1134  This is Coleman. Somebody needs to tell him th...                  NaN   \n",
       "183   This is Callie. She'll be your navigator today...                  NaN   \n",
       "704   Meet Rusty. He appears to be rather h*ckin flu...                  NaN   \n",
       "593   This is Shadow. He's a firm believer that they...                  NaN   \n",
       "926   RT @dog_rates: This is Rubio. He has too much ...         6.791584e+17   \n",
       "939   So this just changed my life. 13/10 please enj...                  NaN   \n",
       "2023  This is Lola. She fell asleep on a piece of pi...                  NaN   \n",
       "1979  Extraordinary dog here. Looks large. Just a he...                  NaN   \n",
       "2073  Yea I can't handle this job anymore your dogs ...                  NaN   \n",
       "\n",
       "      retweeted_status_user_id retweeted_status_timestamp  \\\n",
       "1953                       NaN                        NaN   \n",
       "2111                       NaN                        NaN   \n",
       "2059                       NaN                        NaN   \n",
       "1805                       NaN                        NaN   \n",
       "976                        NaN                        NaN   \n",
       "1105                       NaN                        NaN   \n",
       "1640                       NaN                        NaN   \n",
       "2216                       NaN                        NaN   \n",
       "361                        NaN                        NaN   \n",
       "492                        NaN                        NaN   \n",
       "1032                       NaN                        NaN   \n",
       "1134                       NaN                        NaN   \n",
       "183                        NaN                        NaN   \n",
       "704                        NaN                        NaN   \n",
       "593                        NaN                        NaN   \n",
       "926               4.196984e+09  2015-12-22 04:35:49 +0000   \n",
       "939                        NaN                        NaN   \n",
       "2023                       NaN                        NaN   \n",
       "1979                       NaN                        NaN   \n",
       "2073                       NaN                        NaN   \n",
       "\n",
       "                                          expanded_urls  rating_numerator  \\\n",
       "1953  https://twitter.com/dog_rates/status/673662677...                12   \n",
       "2111  https://twitter.com/dog_rates/status/670442337...                11   \n",
       "2059  https://twitter.com/dog_rates/status/671186162...                10   \n",
       "1805  https://twitter.com/dog_rates/status/676942428...                 9   \n",
       "976   https://twitter.com/dog_rates/status/750026558...                10   \n",
       "1105  https://twitter.com/dog_rates/status/734912297...                10   \n",
       "1640                      https://vine.co/v/ib2nTOEuuOI                12   \n",
       "2216  https://twitter.com/dog_rates/status/668537837...                 8   \n",
       "361   https://twitter.com/dog_rates/status/829501995...                12   \n",
       "492   https://twitter.com/dog_rates/status/813217897...                13   \n",
       "1032  https://twitter.com/dog_rates/status/745314880...                12   \n",
       "1134  https://twitter.com/dog_rates/status/728653952...                 8   \n",
       "183   https://twitter.com/dog_rates/status/856543823...                12   \n",
       "704   https://twitter.com/dog_rates/status/785872687...                12   \n",
       "593   https://twitter.com/dog_rates/status/798925684...                11   \n",
       "926   https://twitter.com/dog_rates/status/679158373...                11   \n",
       "939                       https://vine.co/v/5W2Dg3XPX7a                13   \n",
       "2023  https://twitter.com/dog_rates/status/671896809...                10   \n",
       "1979  https://twitter.com/dog_rates/status/672980819...                 5   \n",
       "2073  https://twitter.com/dog_rates/status/670995969...                12   \n",
       "\n",
       "      rating_denominator     name doggo floofer  pupper puppo  \n",
       "1953                  10  Kendall  None    None    None  None  \n",
       "2111                  10     Koda  None    None    None  None  \n",
       "2059                  10   Sparky  None    None    None  None  \n",
       "1805                  10     None  None    None    None  None  \n",
       "976                   10      Jax  None    None    None  None  \n",
       "1105                  10      Jax  None    None    None  None  \n",
       "1640                  10   Sweets  None    None  pupper  None  \n",
       "2216                  10    Spark  None    None    None  None  \n",
       "361                   10      Leo  None    None    None  None  \n",
       "492                   10    Atlas  None    None    None  None  \n",
       "1032                  10    Sugar  None    None    None  None  \n",
       "1134                  10  Coleman  None    None    None  None  \n",
       "183                   10   Callie  None    None    None  None  \n",
       "704                   10    Rusty  None    None    None  None  \n",
       "593                   10   Shadow  None    None    None  None  \n",
       "926                   10    Rubio  None    None    None  None  \n",
       "939                   10     None  None    None    None  None  \n",
       "2023                  10     Lola  None    None    None  None  \n",
       "1979                  10     None  None    None    None  None  \n",
       "2073                  10     None  None    None    None  None  "
      ]
     },
     "execution_count": 7,
     "metadata": {},
     "output_type": "execute_result"
    }
   ],
   "source": [
    "df_WeRateDogs.sample(20)"
   ]
  },
  {
   "cell_type": "code",
   "execution_count": 8,
   "metadata": {},
   "outputs": [
    {
     "data": {
      "text/plain": [
       "(2356, 17)"
      ]
     },
     "execution_count": 8,
     "metadata": {},
     "output_type": "execute_result"
    }
   ],
   "source": [
    "df_WeRateDogs.shape"
   ]
  },
  {
   "cell_type": "code",
   "execution_count": 9,
   "metadata": {},
   "outputs": [
    {
     "name": "stdout",
     "output_type": "stream",
     "text": [
      "<class 'pandas.core.frame.DataFrame'>\n",
      "RangeIndex: 2356 entries, 0 to 2355\n",
      "Data columns (total 17 columns):\n",
      " #   Column                      Non-Null Count  Dtype  \n",
      "---  ------                      --------------  -----  \n",
      " 0   tweet_id                    2356 non-null   int64  \n",
      " 1   in_reply_to_status_id       78 non-null     float64\n",
      " 2   in_reply_to_user_id         78 non-null     float64\n",
      " 3   timestamp                   2356 non-null   object \n",
      " 4   source                      2356 non-null   object \n",
      " 5   text                        2356 non-null   object \n",
      " 6   retweeted_status_id         181 non-null    float64\n",
      " 7   retweeted_status_user_id    181 non-null    float64\n",
      " 8   retweeted_status_timestamp  181 non-null    object \n",
      " 9   expanded_urls               2297 non-null   object \n",
      " 10  rating_numerator            2356 non-null   int64  \n",
      " 11  rating_denominator          2356 non-null   int64  \n",
      " 12  name                        2356 non-null   object \n",
      " 13  doggo                       2356 non-null   object \n",
      " 14  floofer                     2356 non-null   object \n",
      " 15  pupper                      2356 non-null   object \n",
      " 16  puppo                       2356 non-null   object \n",
      "dtypes: float64(4), int64(3), object(10)\n",
      "memory usage: 313.0+ KB\n"
     ]
    }
   ],
   "source": [
    "df_WeRateDogs.info()"
   ]
  },
  {
   "cell_type": "code",
   "execution_count": 10,
   "metadata": {},
   "outputs": [
    {
     "data": {
      "text/plain": [
       "tweet_id                         0\n",
       "in_reply_to_status_id         2278\n",
       "in_reply_to_user_id           2278\n",
       "timestamp                        0\n",
       "source                           0\n",
       "text                             0\n",
       "retweeted_status_id           2175\n",
       "retweeted_status_user_id      2175\n",
       "retweeted_status_timestamp    2175\n",
       "expanded_urls                   59\n",
       "rating_numerator                 0\n",
       "rating_denominator               0\n",
       "name                             0\n",
       "doggo                            0\n",
       "floofer                          0\n",
       "pupper                           0\n",
       "puppo                            0\n",
       "dtype: int64"
      ]
     },
     "execution_count": 10,
     "metadata": {},
     "output_type": "execute_result"
    }
   ],
   "source": [
    "df_WeRateDogs.isnull().sum()"
   ]
  },
  {
   "cell_type": "code",
   "execution_count": 11,
   "metadata": {},
   "outputs": [
    {
     "data": {
      "text/plain": [
       "0"
      ]
     },
     "execution_count": 11,
     "metadata": {},
     "output_type": "execute_result"
    }
   ],
   "source": [
    "sum(df_WeRateDogs.duplicated())"
   ]
  },
  {
   "cell_type": "code",
   "execution_count": 12,
   "metadata": {},
   "outputs": [
    {
     "data": {
      "text/plain": [
       "0"
      ]
     },
     "execution_count": 12,
     "metadata": {},
     "output_type": "execute_result"
    }
   ],
   "source": [
    "sum(df_WeRateDogs['tweet_id'].duplicated())"
   ]
  },
  {
   "cell_type": "code",
   "execution_count": 13,
   "metadata": {},
   "outputs": [
    {
     "data": {
      "text/plain": [
       "19      RT @dog_rates: This is Canela. She attempted s...\n",
       "32      RT @Athletics: 12/10 #BATP https://t.co/WxwJmv...\n",
       "36      RT @dog_rates: This is Lilly. She just paralle...\n",
       "68      RT @dog_rates: This is Emmy. She was adopted t...\n",
       "73      RT @dog_rates: Meet Shadow. In an attempt to r...\n",
       "                              ...                        \n",
       "1023    RT @dog_rates: This is Shaggy. He knows exactl...\n",
       "1043    RT @dog_rates: Extremely intelligent dog here....\n",
       "1242    RT @twitter: @dog_rates Awesome Tweet! 12/10. ...\n",
       "2259    RT @dogratingrating: Exceptional talent. Origi...\n",
       "2260    RT @dogratingrating: Unoriginal idea. Blatant ...\n",
       "Name: text, Length: 181, dtype: object"
      ]
     },
     "execution_count": 13,
     "metadata": {},
     "output_type": "execute_result"
    }
   ],
   "source": [
    "df_WeRateDogs[df_WeRateDogs['retweeted_status_id'].isnull() == False]['text']"
   ]
  },
  {
   "cell_type": "code",
   "execution_count": 14,
   "metadata": {},
   "outputs": [
    {
     "data": {
      "text/plain": [
       "10     2333\n",
       "11        3\n",
       "50        3\n",
       "20        2\n",
       "80        2\n",
       "70        1\n",
       "7         1\n",
       "15        1\n",
       "150       1\n",
       "170       1\n",
       "0         1\n",
       "90        1\n",
       "40        1\n",
       "130       1\n",
       "110       1\n",
       "16        1\n",
       "120       1\n",
       "2         1\n",
       "Name: rating_denominator, dtype: int64"
      ]
     },
     "execution_count": 14,
     "metadata": {},
     "output_type": "execute_result"
    }
   ],
   "source": [
    "df_WeRateDogs['rating_denominator'].value_counts()"
   ]
  },
  {
   "cell_type": "code",
   "execution_count": 15,
   "metadata": {},
   "outputs": [
    {
     "data": {
      "text/plain": [
       "23"
      ]
     },
     "execution_count": 15,
     "metadata": {},
     "output_type": "execute_result"
    }
   ],
   "source": [
    "df_WeRateDogs[df_WeRateDogs['rating_denominator'] != 10].shape[0]"
   ]
  },
  {
   "cell_type": "code",
   "execution_count": 16,
   "metadata": {},
   "outputs": [
    {
     "data": {
      "text/plain": [
       "\"I'm aware that I could've said 20/16, but here at WeRateDogs we are very professional. An inconsistent rating scale is simply irresponsible\""
      ]
     },
     "execution_count": 16,
     "metadata": {},
     "output_type": "execute_result"
    }
   ],
   "source": [
    "df_WeRateDogs[df_WeRateDogs['rating_denominator'] != 10]['text'][1663]"
   ]
  },
  {
   "cell_type": "code",
   "execution_count": 17,
   "metadata": {},
   "outputs": [
    {
     "data": {
      "text/plain": [
       "'This is Darrel. He just robbed a 7/11 and is in a high speed police chase. Was just spotted by the helicopter 10/10 https://t.co/7EsP8LmSp5'"
      ]
     },
     "execution_count": 17,
     "metadata": {},
     "output_type": "execute_result"
    }
   ],
   "source": [
    "df_WeRateDogs[df_WeRateDogs['rating_denominator'] != 10]['text'][1662]"
   ]
  },
  {
   "cell_type": "code",
   "execution_count": 18,
   "metadata": {},
   "outputs": [
    {
     "data": {
      "text/plain": [
       "'@docmisterio account started on 11/15/15'"
      ]
     },
     "execution_count": 18,
     "metadata": {},
     "output_type": "execute_result"
    }
   ],
   "source": [
    "df_WeRateDogs[df_WeRateDogs['rating_denominator'] != 10]['text'][342]"
   ]
  },
  {
   "cell_type": "code",
   "execution_count": 19,
   "metadata": {},
   "outputs": [
    {
     "data": {
      "text/plain": [
       "None          745\n",
       "a              55\n",
       "Charlie        12\n",
       "Cooper         11\n",
       "Lucy           11\n",
       "             ... \n",
       "Dex             1\n",
       "Ace             1\n",
       "Tayzie          1\n",
       "Grizzie         1\n",
       "Christoper      1\n",
       "Name: name, Length: 957, dtype: int64"
      ]
     },
     "execution_count": 19,
     "metadata": {},
     "output_type": "execute_result"
    }
   ],
   "source": [
    "df_WeRateDogs['name'].value_counts()"
   ]
  },
  {
   "cell_type": "code",
   "execution_count": 20,
   "metadata": {
    "scrolled": true
   },
   "outputs": [
    {
     "data": {
      "text/plain": [
       "array(['Phineas', 'Tilly', 'Archie', 'Darla', 'Franklin', 'None', 'Jax',\n",
       "       'Zoey', 'Cassie', 'Koda', 'Bruno', 'Ted', 'Stuart', 'Oliver',\n",
       "       'Jim', 'Zeke', 'Ralphus', 'Canela', 'Gerald', 'Jeffrey', 'such',\n",
       "       'Maya', 'Mingus', 'Derek', 'Roscoe', 'Waffles', 'Jimbo', 'Maisey',\n",
       "       'Lilly', 'Earl', 'Lola', 'Kevin', 'Yogi', 'Noah', 'Bella',\n",
       "       'Grizzwald', 'Rusty', 'Gus', 'Stanley', 'Alfy', 'Koko', 'Rey',\n",
       "       'Gary', 'a', 'Elliot', 'Louis', 'Jesse', 'Romeo', 'Bailey',\n",
       "       'Duddles', 'Jack', 'Emmy', 'Steven', 'Beau', 'Snoopy', 'Shadow',\n",
       "       'Terrance', 'Aja', 'Penny', 'Dante', 'Nelly', 'Ginger', 'Benedict',\n",
       "       'Venti', 'Goose', 'Nugget', 'Cash', 'Coco', 'Jed', 'Sebastian',\n",
       "       'Walter', 'Sierra', 'Monkey', 'Harry', 'Kody', 'Lassie', 'Rover',\n",
       "       'Napolean', 'Dawn', 'Boomer', 'Cody', 'Rumble', 'Clifford',\n",
       "       'quite', 'Dewey', 'Scout', 'Gizmo', 'Cooper', 'Harold', 'Shikha',\n",
       "       'Jamesy', 'Lili', 'Sammy', 'Meatball', 'Paisley', 'Albus',\n",
       "       'Neptune', 'Quinn', 'Belle', 'Zooey', 'Dave', 'Jersey', 'Hobbes',\n",
       "       'Burt', 'Lorenzo', 'Carl', 'Jordy', 'Milky', 'Trooper', 'Winston',\n",
       "       'Sophie', 'Wyatt', 'Rosie', 'Thor', 'Oscar', 'Luna', 'Callie',\n",
       "       'Cermet', 'George', 'Marlee', 'Arya', 'Einstein', 'Alice',\n",
       "       'Rumpole', 'Benny', 'Aspen', 'Jarod', 'Wiggles', 'General',\n",
       "       'Sailor', 'Astrid', 'Iggy', 'Snoop', 'Kyle', 'Leo', 'Riley',\n",
       "       'Gidget', 'Noosh', 'Odin', 'Jerry', 'Charlie', 'Georgie', 'Rontu',\n",
       "       'Cannon', 'Furzey', 'Daisy', 'Tuck', 'Barney', 'Vixen', 'Jarvis',\n",
       "       'Mimosa', 'Pickles', 'Bungalo', 'Brady', 'Margo', 'Sadie', 'Hank',\n",
       "       'Tycho', 'Stephan', 'Indie', 'Winnie', 'Bentley', 'Ken', 'Max',\n",
       "       'Maddie', 'Pipsy', 'Monty', 'Sojourner', 'Odie', 'Arlo', 'Sunny',\n",
       "       'Vincent', 'Lucy', 'Clark', 'Mookie', 'Meera', 'Buddy', 'Ava',\n",
       "       'Rory', 'Eli', 'Ash', 'Tucker', 'Tobi', 'Chester', 'Wilson',\n",
       "       'Sunshine', 'Lipton', 'Gabby', 'Bronte', 'Poppy', 'Rhino',\n",
       "       'Willow', 'not', 'Orion', 'Eevee', 'Smiley', 'Logan', 'Moreton',\n",
       "       'Klein', 'Miguel', 'Emanuel', 'Kuyu', 'Dutch', 'Pete', 'Scooter',\n",
       "       'Reggie', 'Kyro', 'Samson', 'Loki', 'Mia', 'Malcolm', 'Dexter',\n",
       "       'Alfie', 'Fiona', 'one', 'Mutt', 'Bear', 'Doobert', 'Beebop',\n",
       "       'Alexander', 'Sailer', 'Brutus', 'Kona', 'Boots', 'Ralphie',\n",
       "       'Phil', 'Cupid', 'Pawnd', 'Pilot', 'Ike', 'Mo', 'Toby', 'Sweet',\n",
       "       'Pablo', 'Nala', 'Balto', 'Crawford', 'Gabe', 'Mattie', 'Jimison',\n",
       "       'Hercules', 'Duchess', 'Harlso', 'Sampson', 'Sundance', 'Luca',\n",
       "       'Flash', 'Finn', 'Peaches', 'Howie', 'Jazzy', 'Anna', 'Bo',\n",
       "       'Seamus', 'Wafer', 'Chelsea', 'Tom', 'Moose', 'Florence', 'Autumn',\n",
       "       'Dido', 'Eugene', 'Herschel', 'Strudel', 'Tebow', 'Chloe', 'Betty',\n",
       "       'Timber', 'Binky', 'Dudley', 'Comet', 'Larry', 'Levi', 'Akumi',\n",
       "       'Titan', 'Olivia', 'Alf', 'Oshie', 'Bruce', 'Chubbs', 'Sky',\n",
       "       'Atlas', 'Eleanor', 'Layla', 'Rocky', 'Baron', 'Tyr', 'Bauer',\n",
       "       'Swagger', 'Brandi', 'Mary', 'Moe', 'Halo', 'Augie', 'Craig',\n",
       "       'Sam', 'Hunter', 'Pavlov', 'Maximus', 'Wallace', 'Ito', 'Milo',\n",
       "       'Ollie', 'Cali', 'Lennon', 'incredibly', 'Major', 'Duke',\n",
       "       'Reginald', 'Sansa', 'Shooter', 'Django', 'Diogi', 'Sonny',\n",
       "       'Philbert', 'Marley', 'Severus', 'Ronnie', 'Anakin', 'Bones',\n",
       "       'Mauve', 'Chef', 'Doc', 'Sobe', 'Longfellow', 'Mister', 'Iroh',\n",
       "       'Baloo', 'Stubert', 'Paull', 'Timison', 'Davey', 'Pancake',\n",
       "       'Tyrone', 'Snicku', 'Ruby', 'Brody', 'Rizzy', 'Mack', 'Butter',\n",
       "       'Nimbus', 'Laika', 'Dobby', 'Juno', 'Maude', 'Lily', 'Newt',\n",
       "       'Benji', 'Nida', 'Robin', 'Monster', 'BeBe', 'Remus', 'Mabel',\n",
       "       'Misty', 'Happy', 'Mosby', 'Maggie', 'Leela', 'Ralphy', 'Brownie',\n",
       "       'Meyer', 'Stella', 'mad', 'Frank', 'Tonks', 'Lincoln', 'Oakley',\n",
       "       'Dale', 'Rizzo', 'Arnie', 'Pinot', 'Dallas', 'Hero', 'Frankie',\n",
       "       'Stormy', 'Mairi', 'Loomis', 'Godi', 'Kenny', 'Deacon', 'Timmy',\n",
       "       'Harper', 'Chipson', 'Combo', 'Dash', 'Bell', 'Hurley', 'Jay',\n",
       "       'Mya', 'Strider', 'an', 'Wesley', 'Solomon', 'Huck', 'very', 'O',\n",
       "       'Blue', 'Finley', 'Sprinkles', 'Heinrich', 'Shakespeare', 'Fizz',\n",
       "       'Chip', 'Grey', 'Roosevelt', 'Gromit', 'Willem', 'Dakota', 'Dixie',\n",
       "       'Al', 'Jackson', 'just', 'Carbon', 'DonDon', 'Kirby', 'Lou',\n",
       "       'Nollie', 'Chevy', 'Tito', 'Louie', 'Rupert', 'Rufus', 'Brudge',\n",
       "       'Shadoe', 'Colby', 'Angel', 'Brat', 'Tove', 'my', 'Aubie', 'Kota',\n",
       "       'Eve', 'Glenn', 'Shelby', 'Sephie', 'Bonaparte', 'Albert',\n",
       "       'Wishes', 'Rose', 'Theo', 'Rocco', 'Fido', 'Emma', 'Spencer',\n",
       "       'Lilli', 'Boston', 'Brandonald', 'Corey', 'Leonard', 'Chompsky',\n",
       "       'Beckham', 'Devón', 'Gert', 'Watson', 'Rubio', 'Keith', 'Dex',\n",
       "       'Carly', 'Ace', 'Tayzie', 'Grizzie', 'Fred', 'Gilbert', 'Zoe',\n",
       "       'Stewie', 'Calvin', 'Lilah', 'Spanky', 'Jameson', 'Piper',\n",
       "       'Atticus', 'Blu', 'Dietrich', 'Divine', 'Tripp', 'his', 'Cora',\n",
       "       'Huxley', 'Keurig', 'Bookstore', 'Linus', 'Abby', 'Shaggy',\n",
       "       'Shiloh', 'Gustav', 'Arlen', 'Percy', 'Lenox', 'Sugar', 'Harvey',\n",
       "       'Blanket', 'actually', 'Geno', 'Stark', 'Beya', 'Kilo', 'Kayla',\n",
       "       'Maxaroni', 'Doug', 'Edmund', 'Aqua', 'Theodore', 'Chase',\n",
       "       'getting', 'Rorie', 'Simba', 'Charles', 'Bayley', 'Axel',\n",
       "       'Storkson', 'Remy', 'Chadrick', 'Kellogg', 'Buckley', 'Livvie',\n",
       "       'Terry', 'Hermione', 'Ralpher', 'Aldrick', 'this', 'unacceptable',\n",
       "       'Rooney', 'Crystal', 'Ziva', 'Stefan', 'Pupcasso', 'Puff',\n",
       "       'Flurpson', 'Coleman', 'Enchilada', 'Raymond', 'all', 'Rueben',\n",
       "       'Cilantro', 'Karll', 'Sprout', 'Blitz', 'Bloop', 'Lillie',\n",
       "       'Ashleigh', 'Kreggory', 'Sarge', 'Luther', 'Ivar', 'Jangle',\n",
       "       'Schnitzel', 'Panda', 'Berkeley', 'Ralphé', 'Charleson', 'Clyde',\n",
       "       'Harnold', 'Sid', 'Pippa', 'Otis', 'Carper', 'Bowie',\n",
       "       'Alexanderson', 'Suki', 'Barclay', 'Skittle', 'Ebby', 'Flávio',\n",
       "       'Smokey', 'Link', 'Jennifur', 'Ozzy', 'Bluebert', 'Stephanus',\n",
       "       'Bubbles', 'old', 'Zeus', 'Bertson', 'Nico', 'Michelangelope',\n",
       "       'Siba', 'Calbert', 'Curtis', 'Travis', 'Thumas', 'Kanu', 'Lance',\n",
       "       'Opie', 'Kane', 'Olive', 'Chuckles', 'Staniel', 'Sora', 'Beemo',\n",
       "       'Gunner', 'infuriating', 'Lacy', 'Tater', 'Olaf', 'Cecil', 'Vince',\n",
       "       'Karma', 'Billy', 'Walker', 'Rodney', 'Klevin', 'Malikai',\n",
       "       'Bobble', 'River', 'Jebberson', 'Remington', 'Farfle', 'Jiminus',\n",
       "       'Clarkus', 'Finnegus', 'Cupcake', 'Kathmandu', 'Ellie', 'Katie',\n",
       "       'Kara', 'Adele', 'Zara', 'Ambrose', 'Jimothy', 'Bode', 'Terrenth',\n",
       "       'Reese', 'Chesterson', 'Lucia', 'Bisquick', 'Ralphson', 'Socks',\n",
       "       'Rambo', 'Rudy', 'Fiji', 'Rilo', 'Bilbo', 'Coopson', 'Yoda',\n",
       "       'Millie', 'Chet', 'Crouton', 'Daniel', 'Kaia', 'Murphy', 'Dotsy',\n",
       "       'Eazy', 'Coops', 'Fillup', 'Miley', 'Charl', 'Reagan', 'Yukon',\n",
       "       'CeCe', 'Cuddles', 'Claude', 'Jessiga', 'Carter', 'Ole', 'Pherb',\n",
       "       'Blipson', 'Reptar', 'Trevith', 'Berb', 'Bob', 'Colin', 'Brian',\n",
       "       'Oliviér', 'Grady', 'Kobe', 'Freddery', 'Bodie', 'Dunkin', 'Wally',\n",
       "       'Tupawc', 'Amber', 'Edgar', 'Teddy', 'Kingsley', 'Brockly',\n",
       "       'Richie', 'Molly', 'Vinscent', 'Cedrick', 'Hazel', 'Lolo', 'Eriq',\n",
       "       'Phred', 'the', 'Oddie', 'Maxwell', 'Geoff', 'Covach', 'Durg',\n",
       "       'Fynn', 'Ricky', 'Herald', 'Lucky', 'Ferg', 'Trip', 'Clarence',\n",
       "       'Hamrick', 'Brad', 'Pubert', 'Frönq', 'Derby', 'Lizzie', 'Ember',\n",
       "       'Blakely', 'Opal', 'Marq', 'Kramer', 'Barry', 'Gordon', 'Baxter',\n",
       "       'Mona', 'Horace', 'Crimson', 'Birf', 'Hammond', 'Lorelei', 'Marty',\n",
       "       'Brooks', 'Petrick', 'Hubertson', 'Gerbald', 'Oreo', 'Bruiser',\n",
       "       'Perry', 'Bobby', 'Jeph', 'Obi', 'Tino', 'Kulet', 'Sweets', 'Lupe',\n",
       "       'Tiger', 'Jiminy', 'Griffin', 'Banjo', 'Brandy', 'Lulu', 'Darrel',\n",
       "       'Taco', 'Joey', 'Patrick', 'Kreg', 'Todo', 'Tess', 'Ulysses',\n",
       "       'Toffee', 'Apollo', 'Asher', 'Glacier', 'Chuck', 'Champ', 'Ozzie',\n",
       "       'Griswold', 'Cheesy', 'Moofasa', 'Hector', 'Goliath', 'Kawhi',\n",
       "       'by', 'Emmie', 'Penelope', 'Willie', 'Rinna', 'Mike', 'William',\n",
       "       'Dwight', 'Evy', 'officially', 'Rascal', 'Linda', 'Tug', 'Tango',\n",
       "       'Grizz', 'Jerome', 'Crumpet', 'Jessifer', 'Izzy', 'Ralph', 'Sandy',\n",
       "       'Humphrey', 'Tassy', 'Juckson', 'Chuq', 'Tyrus', 'Karl',\n",
       "       'Godzilla', 'Vinnie', 'Kenneth', 'Herm', 'Bert', 'Striker',\n",
       "       'Donny', 'Pepper', 'Bernie', 'Buddah', 'Lenny', 'Arnold', 'Zuzu',\n",
       "       'Mollie', 'Laela', 'Tedders', 'Superpup', 'Rufio', 'Jeb', 'Rodman',\n",
       "       'Jonah', 'Chesney', 'life', 'Henry', 'Bobbay', 'Mitch', 'Kaiya',\n",
       "       'Acro', 'Aiden', 'Obie', 'Dot', 'Shnuggles', 'Kendall', 'Jeffri',\n",
       "       'Steve', 'Mac', 'Fletcher', 'Kenzie', 'Pumpkin', 'Schnozz',\n",
       "       'Gustaf', 'Cheryl', 'Ed', 'Leonidas', 'Norman', 'Caryl', 'Scott',\n",
       "       'Taz', 'Darby', 'Jackie', 'light', 'Jazz', 'Franq', 'Pippin',\n",
       "       'Rolf', 'Snickers', 'Ridley', 'Cal', 'Bradley', 'Bubba', 'Tuco',\n",
       "       'Patch', 'Mojo', 'Batdog', 'Dylan', 'space', 'Mark', 'JD',\n",
       "       'Alejandro', 'Scruffers', 'Pip', 'Julius', 'Tanner', 'Sparky',\n",
       "       'Anthony', 'Holly', 'Jett', 'Amy', 'Sage', 'Andy', 'Mason',\n",
       "       'Trigger', 'Antony', 'Creg', 'Traviss', 'Gin', 'Jeffrie', 'Danny',\n",
       "       'Ester', 'Pluto', 'Bloo', 'Edd', 'Willy', 'Herb', 'Damon',\n",
       "       'Peanut', 'Nigel', 'Butters', 'Sandra', 'Fabio', 'Randall', 'Liam',\n",
       "       'Tommy', 'Ben', 'Raphael', 'Julio', 'Andru', 'Kloey', 'Shawwn',\n",
       "       'Skye', 'Kollin', 'Ronduh', 'Billl', 'Saydee', 'Dug', 'Tessa',\n",
       "       'Sully', 'Kirk', 'Ralf', 'Clarq', 'Jaspers', 'Samsom', 'Harrison',\n",
       "       'Chaz', 'Jeremy', 'Jaycob', 'Lambeau', 'Ruffles', 'Amélie', 'Bobb',\n",
       "       'Banditt', 'Kevon', 'Winifred', 'Hanz', 'Churlie', 'Zeek',\n",
       "       'Timofy', 'Maks', 'Jomathan', 'Kallie', 'Marvin', 'Spark',\n",
       "       'Gòrdón', 'Jo', 'DayZ', 'Jareld', 'Torque', 'Ron', 'Skittles',\n",
       "       'Cleopatricia', 'Erik', 'Stu', 'Tedrick', 'Filup', 'Kial',\n",
       "       'Naphaniel', 'Dook', 'Hall', 'Philippe', 'Biden', 'Fwed',\n",
       "       'Genevieve', 'Joshwa', 'Bradlay', 'Clybe', 'Keet', 'Carll',\n",
       "       'Jockson', 'Josep', 'Lugan', 'Christoper'], dtype=object)"
      ]
     },
     "execution_count": 20,
     "metadata": {},
     "output_type": "execute_result"
    }
   ],
   "source": [
    "df_WeRateDogs['name'].unique()"
   ]
  },
  {
   "cell_type": "code",
   "execution_count": 21,
   "metadata": {},
   "outputs": [
    {
     "data": {
      "text/plain": [
       "None     2259\n",
       "doggo      97\n",
       "Name: doggo, dtype: int64"
      ]
     },
     "execution_count": 21,
     "metadata": {},
     "output_type": "execute_result"
    }
   ],
   "source": [
    "df_WeRateDogs['doggo'].value_counts()"
   ]
  },
  {
   "cell_type": "code",
   "execution_count": 22,
   "metadata": {},
   "outputs": [
    {
     "data": {
      "text/plain": [
       "None       2346\n",
       "floofer      10\n",
       "Name: floofer, dtype: int64"
      ]
     },
     "execution_count": 22,
     "metadata": {},
     "output_type": "execute_result"
    }
   ],
   "source": [
    "df_WeRateDogs['floofer'].value_counts()"
   ]
  },
  {
   "cell_type": "code",
   "execution_count": 23,
   "metadata": {},
   "outputs": [
    {
     "data": {
      "text/plain": [
       "1"
      ]
     },
     "execution_count": 23,
     "metadata": {},
     "output_type": "execute_result"
    }
   ],
   "source": [
    "df_WeRateDogs[(df_WeRateDogs['doggo'] == 'doggo') & (df_WeRateDogs['floofer'] == 'floofer')].shape[0]"
   ]
  },
  {
   "cell_type": "code",
   "execution_count": 24,
   "metadata": {},
   "outputs": [
    {
     "data": {
      "text/plain": [
       "None      2099\n",
       "pupper     257\n",
       "Name: pupper, dtype: int64"
      ]
     },
     "execution_count": 24,
     "metadata": {},
     "output_type": "execute_result"
    }
   ],
   "source": [
    "df_WeRateDogs['pupper'].value_counts()"
   ]
  },
  {
   "cell_type": "code",
   "execution_count": 25,
   "metadata": {},
   "outputs": [
    {
     "data": {
      "text/plain": [
       "12"
      ]
     },
     "execution_count": 25,
     "metadata": {},
     "output_type": "execute_result"
    }
   ],
   "source": [
    "df_WeRateDogs[(df_WeRateDogs['doggo'] == 'doggo') & (df_WeRateDogs['pupper'] == 'pupper')].shape[0]"
   ]
  },
  {
   "cell_type": "code",
   "execution_count": 26,
   "metadata": {},
   "outputs": [
    {
     "data": {
      "text/plain": [
       "0"
      ]
     },
     "execution_count": 26,
     "metadata": {},
     "output_type": "execute_result"
    }
   ],
   "source": [
    "df_WeRateDogs[(df_WeRateDogs['floofer'] == 'floofer') & (df_WeRateDogs['pupper'] == 'pupper')].shape[0]"
   ]
  },
  {
   "cell_type": "code",
   "execution_count": 27,
   "metadata": {},
   "outputs": [
    {
     "data": {
      "text/plain": [
       "None     2326\n",
       "puppo      30\n",
       "Name: puppo, dtype: int64"
      ]
     },
     "execution_count": 27,
     "metadata": {},
     "output_type": "execute_result"
    }
   ],
   "source": [
    "df_WeRateDogs['puppo'].value_counts()"
   ]
  },
  {
   "cell_type": "code",
   "execution_count": 28,
   "metadata": {},
   "outputs": [
    {
     "data": {
      "text/plain": [
       "1"
      ]
     },
     "execution_count": 28,
     "metadata": {},
     "output_type": "execute_result"
    }
   ],
   "source": [
    "df_WeRateDogs[(df_WeRateDogs['doggo'] == 'doggo') & (df_WeRateDogs['puppo'] == 'puppo')].shape[0]"
   ]
  },
  {
   "cell_type": "code",
   "execution_count": 29,
   "metadata": {},
   "outputs": [
    {
     "data": {
      "text/plain": [
       "0"
      ]
     },
     "execution_count": 29,
     "metadata": {},
     "output_type": "execute_result"
    }
   ],
   "source": [
    "df_WeRateDogs[(df_WeRateDogs['floofer'] == 'floofer') & (df_WeRateDogs['puppo'] == 'puppo')].shape[0]"
   ]
  },
  {
   "cell_type": "code",
   "execution_count": 30,
   "metadata": {},
   "outputs": [
    {
     "data": {
      "text/plain": [
       "0"
      ]
     },
     "execution_count": 30,
     "metadata": {},
     "output_type": "execute_result"
    }
   ],
   "source": [
    "df_WeRateDogs[(df_WeRateDogs['pupper'] == 'pupper') & (df_WeRateDogs['puppo'] == 'puppo')].shape[0]"
   ]
  },
  {
   "cell_type": "markdown",
   "metadata": {},
   "source": [
    "## Dataset 2: Image Predictions"
   ]
  },
  {
   "cell_type": "code",
   "execution_count": 31,
   "metadata": {},
   "outputs": [
    {
     "data": {
      "text/html": [
       "<div>\n",
       "<style scoped>\n",
       "    .dataframe tbody tr th:only-of-type {\n",
       "        vertical-align: middle;\n",
       "    }\n",
       "\n",
       "    .dataframe tbody tr th {\n",
       "        vertical-align: top;\n",
       "    }\n",
       "\n",
       "    .dataframe thead th {\n",
       "        text-align: right;\n",
       "    }\n",
       "</style>\n",
       "<table border=\"1\" class=\"dataframe\">\n",
       "  <thead>\n",
       "    <tr style=\"text-align: right;\">\n",
       "      <th></th>\n",
       "      <th>tweet_id</th>\n",
       "      <th>jpg_url</th>\n",
       "      <th>img_num</th>\n",
       "      <th>p1</th>\n",
       "      <th>p1_conf</th>\n",
       "      <th>p1_dog</th>\n",
       "      <th>p2</th>\n",
       "      <th>p2_conf</th>\n",
       "      <th>p2_dog</th>\n",
       "      <th>p3</th>\n",
       "      <th>p3_conf</th>\n",
       "      <th>p3_dog</th>\n",
       "    </tr>\n",
       "  </thead>\n",
       "  <tbody>\n",
       "    <tr>\n",
       "      <th>260</th>\n",
       "      <td>670783437142401025</td>\n",
       "      <td>https://pbs.twimg.com/media/CU8Z-OxXAAA-sd2.jpg</td>\n",
       "      <td>1</td>\n",
       "      <td>lacewing</td>\n",
       "      <td>0.381955</td>\n",
       "      <td>False</td>\n",
       "      <td>sulphur_butterfly</td>\n",
       "      <td>0.106810</td>\n",
       "      <td>False</td>\n",
       "      <td>leafhopper</td>\n",
       "      <td>0.068347</td>\n",
       "      <td>False</td>\n",
       "    </tr>\n",
       "    <tr>\n",
       "      <th>108</th>\n",
       "      <td>667878741721415682</td>\n",
       "      <td>https://pbs.twimg.com/media/CUTILFiWcAE8Rle.jpg</td>\n",
       "      <td>1</td>\n",
       "      <td>seat_belt</td>\n",
       "      <td>0.200373</td>\n",
       "      <td>False</td>\n",
       "      <td>miniature_pinscher</td>\n",
       "      <td>0.106003</td>\n",
       "      <td>True</td>\n",
       "      <td>schipperke</td>\n",
       "      <td>0.104733</td>\n",
       "      <td>True</td>\n",
       "    </tr>\n",
       "    <tr>\n",
       "      <th>1839</th>\n",
       "      <td>837482249356513284</td>\n",
       "      <td>https://pbs.twimg.com/media/C59VqMUXEAAzldG.jpg</td>\n",
       "      <td>2</td>\n",
       "      <td>birdhouse</td>\n",
       "      <td>0.541196</td>\n",
       "      <td>False</td>\n",
       "      <td>can_opener</td>\n",
       "      <td>0.121094</td>\n",
       "      <td>False</td>\n",
       "      <td>carton</td>\n",
       "      <td>0.056137</td>\n",
       "      <td>False</td>\n",
       "    </tr>\n",
       "    <tr>\n",
       "      <th>1314</th>\n",
       "      <td>754856583969079297</td>\n",
       "      <td>https://pbs.twimg.com/media/CnnKCKNWgAAcOB8.jpg</td>\n",
       "      <td>2</td>\n",
       "      <td>golden_retriever</td>\n",
       "      <td>0.872385</td>\n",
       "      <td>True</td>\n",
       "      <td>Labrador_retriever</td>\n",
       "      <td>0.099963</td>\n",
       "      <td>True</td>\n",
       "      <td>cocker_spaniel</td>\n",
       "      <td>0.006051</td>\n",
       "      <td>True</td>\n",
       "    </tr>\n",
       "    <tr>\n",
       "      <th>1201</th>\n",
       "      <td>741067306818797568</td>\n",
       "      <td>https://pbs.twimg.com/media/CkjMx99UoAM2B1a.jpg</td>\n",
       "      <td>1</td>\n",
       "      <td>golden_retriever</td>\n",
       "      <td>0.843799</td>\n",
       "      <td>True</td>\n",
       "      <td>Labrador_retriever</td>\n",
       "      <td>0.052956</td>\n",
       "      <td>True</td>\n",
       "      <td>kelpie</td>\n",
       "      <td>0.035711</td>\n",
       "      <td>True</td>\n",
       "    </tr>\n",
       "    <tr>\n",
       "      <th>474</th>\n",
       "      <td>675147105808306176</td>\n",
       "      <td>https://pbs.twimg.com/media/CV6atgoWcAEsdv6.jpg</td>\n",
       "      <td>1</td>\n",
       "      <td>golden_retriever</td>\n",
       "      <td>0.949215</td>\n",
       "      <td>True</td>\n",
       "      <td>Labrador_retriever</td>\n",
       "      <td>0.016765</td>\n",
       "      <td>True</td>\n",
       "      <td>flat-coated_retriever</td>\n",
       "      <td>0.010637</td>\n",
       "      <td>True</td>\n",
       "    </tr>\n",
       "    <tr>\n",
       "      <th>18</th>\n",
       "      <td>666268910803644416</td>\n",
       "      <td>https://pbs.twimg.com/media/CT8QCd1WEAADXws.jpg</td>\n",
       "      <td>1</td>\n",
       "      <td>desktop_computer</td>\n",
       "      <td>0.086502</td>\n",
       "      <td>False</td>\n",
       "      <td>desk</td>\n",
       "      <td>0.085547</td>\n",
       "      <td>False</td>\n",
       "      <td>bookcase</td>\n",
       "      <td>0.079480</td>\n",
       "      <td>False</td>\n",
       "    </tr>\n",
       "    <tr>\n",
       "      <th>309</th>\n",
       "      <td>671538301157904385</td>\n",
       "      <td>https://pbs.twimg.com/media/CVHIhi2WsAEgdKk.jpg</td>\n",
       "      <td>1</td>\n",
       "      <td>park_bench</td>\n",
       "      <td>0.194211</td>\n",
       "      <td>False</td>\n",
       "      <td>water_bottle</td>\n",
       "      <td>0.071870</td>\n",
       "      <td>False</td>\n",
       "      <td>beacon</td>\n",
       "      <td>0.053433</td>\n",
       "      <td>False</td>\n",
       "    </tr>\n",
       "    <tr>\n",
       "      <th>968</th>\n",
       "      <td>706346369204748288</td>\n",
       "      <td>https://pbs.twimg.com/media/Cc1yRE2WoAAgxFQ.jpg</td>\n",
       "      <td>1</td>\n",
       "      <td>Tibetan_mastiff</td>\n",
       "      <td>0.956462</td>\n",
       "      <td>True</td>\n",
       "      <td>Rottweiler</td>\n",
       "      <td>0.025381</td>\n",
       "      <td>True</td>\n",
       "      <td>Appenzeller</td>\n",
       "      <td>0.008679</td>\n",
       "      <td>True</td>\n",
       "    </tr>\n",
       "    <tr>\n",
       "      <th>1364</th>\n",
       "      <td>761371037149827077</td>\n",
       "      <td>https://pbs.twimg.com/tweet_video_thumb/CeBym7...</td>\n",
       "      <td>1</td>\n",
       "      <td>brown_bear</td>\n",
       "      <td>0.713293</td>\n",
       "      <td>False</td>\n",
       "      <td>Indian_elephant</td>\n",
       "      <td>0.172844</td>\n",
       "      <td>False</td>\n",
       "      <td>water_buffalo</td>\n",
       "      <td>0.038902</td>\n",
       "      <td>False</td>\n",
       "    </tr>\n",
       "    <tr>\n",
       "      <th>636</th>\n",
       "      <td>681242418453299201</td>\n",
       "      <td>https://pbs.twimg.com/media/CXRCXesVAAArSXt.jpg</td>\n",
       "      <td>1</td>\n",
       "      <td>motor_scooter</td>\n",
       "      <td>0.255934</td>\n",
       "      <td>False</td>\n",
       "      <td>rifle</td>\n",
       "      <td>0.145202</td>\n",
       "      <td>False</td>\n",
       "      <td>assault_rifle</td>\n",
       "      <td>0.097000</td>\n",
       "      <td>False</td>\n",
       "    </tr>\n",
       "    <tr>\n",
       "      <th>1751</th>\n",
       "      <td>824297048279236611</td>\n",
       "      <td>https://pbs.twimg.com/media/C3B9ypNWEAM1bVs.jpg</td>\n",
       "      <td>2</td>\n",
       "      <td>teddy</td>\n",
       "      <td>0.588230</td>\n",
       "      <td>False</td>\n",
       "      <td>jigsaw_puzzle</td>\n",
       "      <td>0.028910</td>\n",
       "      <td>False</td>\n",
       "      <td>doormat</td>\n",
       "      <td>0.022251</td>\n",
       "      <td>False</td>\n",
       "    </tr>\n",
       "    <tr>\n",
       "      <th>1743</th>\n",
       "      <td>822859134160621569</td>\n",
       "      <td>https://pbs.twimg.com/media/C2tiAzGXgAIFdqi.jpg</td>\n",
       "      <td>1</td>\n",
       "      <td>malinois</td>\n",
       "      <td>0.332897</td>\n",
       "      <td>True</td>\n",
       "      <td>Chihuahua</td>\n",
       "      <td>0.104116</td>\n",
       "      <td>True</td>\n",
       "      <td>Staffordshire_bullterrier</td>\n",
       "      <td>0.047745</td>\n",
       "      <td>True</td>\n",
       "    </tr>\n",
       "    <tr>\n",
       "      <th>1394</th>\n",
       "      <td>767500508068192258</td>\n",
       "      <td>https://pbs.twimg.com/media/Cqa1ofnXEAAG0yn.jpg</td>\n",
       "      <td>1</td>\n",
       "      <td>chow</td>\n",
       "      <td>0.483228</td>\n",
       "      <td>True</td>\n",
       "      <td>golden_retriever</td>\n",
       "      <td>0.165063</td>\n",
       "      <td>True</td>\n",
       "      <td>Norfolk_terrier</td>\n",
       "      <td>0.060173</td>\n",
       "      <td>True</td>\n",
       "    </tr>\n",
       "    <tr>\n",
       "      <th>274</th>\n",
       "      <td>670833812859932673</td>\n",
       "      <td>https://pbs.twimg.com/media/CU9HyzSWIAAVcte.jpg</td>\n",
       "      <td>1</td>\n",
       "      <td>Pekinese</td>\n",
       "      <td>0.609853</td>\n",
       "      <td>True</td>\n",
       "      <td>Persian_cat</td>\n",
       "      <td>0.265442</td>\n",
       "      <td>False</td>\n",
       "      <td>Japanese_spaniel</td>\n",
       "      <td>0.027460</td>\n",
       "      <td>True</td>\n",
       "    </tr>\n",
       "    <tr>\n",
       "      <th>925</th>\n",
       "      <td>702539513671897089</td>\n",
       "      <td>https://pbs.twimg.com/media/Cb_r8qTUsAASgdF.jpg</td>\n",
       "      <td>3</td>\n",
       "      <td>Pomeranian</td>\n",
       "      <td>0.714367</td>\n",
       "      <td>True</td>\n",
       "      <td>Shih-Tzu</td>\n",
       "      <td>0.040574</td>\n",
       "      <td>True</td>\n",
       "      <td>silky_terrier</td>\n",
       "      <td>0.032510</td>\n",
       "      <td>True</td>\n",
       "    </tr>\n",
       "    <tr>\n",
       "      <th>1232</th>\n",
       "      <td>746056683365994496</td>\n",
       "      <td>https://pbs.twimg.com/media/ClqGl7fXIAA8nDe.jpg</td>\n",
       "      <td>1</td>\n",
       "      <td>Shetland_sheepdog</td>\n",
       "      <td>0.433320</td>\n",
       "      <td>True</td>\n",
       "      <td>collie</td>\n",
       "      <td>0.335997</td>\n",
       "      <td>True</td>\n",
       "      <td>borzoi</td>\n",
       "      <td>0.177179</td>\n",
       "      <td>True</td>\n",
       "    </tr>\n",
       "    <tr>\n",
       "      <th>188</th>\n",
       "      <td>669371483794317312</td>\n",
       "      <td>https://pbs.twimg.com/media/CUoVz8rU8AAfW-c.jpg</td>\n",
       "      <td>1</td>\n",
       "      <td>Brabancon_griffon</td>\n",
       "      <td>0.483268</td>\n",
       "      <td>True</td>\n",
       "      <td>miniature_pinscher</td>\n",
       "      <td>0.307465</td>\n",
       "      <td>True</td>\n",
       "      <td>redbone</td>\n",
       "      <td>0.070524</td>\n",
       "      <td>True</td>\n",
       "    </tr>\n",
       "    <tr>\n",
       "      <th>1135</th>\n",
       "      <td>728751179681943552</td>\n",
       "      <td>https://pbs.twimg.com/media/Ch0LVPdW0AEdHgU.jpg</td>\n",
       "      <td>1</td>\n",
       "      <td>Saint_Bernard</td>\n",
       "      <td>0.482050</td>\n",
       "      <td>True</td>\n",
       "      <td>collie</td>\n",
       "      <td>0.202740</td>\n",
       "      <td>True</td>\n",
       "      <td>borzoi</td>\n",
       "      <td>0.037976</td>\n",
       "      <td>True</td>\n",
       "    </tr>\n",
       "    <tr>\n",
       "      <th>50</th>\n",
       "      <td>666837028449972224</td>\n",
       "      <td>https://pbs.twimg.com/media/CUEUva1WsAA2jPb.jpg</td>\n",
       "      <td>1</td>\n",
       "      <td>triceratops</td>\n",
       "      <td>0.442113</td>\n",
       "      <td>False</td>\n",
       "      <td>armadillo</td>\n",
       "      <td>0.114071</td>\n",
       "      <td>False</td>\n",
       "      <td>common_iguana</td>\n",
       "      <td>0.043255</td>\n",
       "      <td>False</td>\n",
       "    </tr>\n",
       "    <tr>\n",
       "      <th>477</th>\n",
       "      <td>675166823650848770</td>\n",
       "      <td>https://pbs.twimg.com/media/CV6spB7XAAIpMyP.jpg</td>\n",
       "      <td>1</td>\n",
       "      <td>llama</td>\n",
       "      <td>0.284394</td>\n",
       "      <td>False</td>\n",
       "      <td>standard_poodle</td>\n",
       "      <td>0.132569</td>\n",
       "      <td>True</td>\n",
       "      <td>teddy</td>\n",
       "      <td>0.127975</td>\n",
       "      <td>False</td>\n",
       "    </tr>\n",
       "    <tr>\n",
       "      <th>1615</th>\n",
       "      <td>802247111496568832</td>\n",
       "      <td>https://pbs.twimg.com/media/Cs_DYr1XEAA54Pu.jpg</td>\n",
       "      <td>1</td>\n",
       "      <td>Chihuahua</td>\n",
       "      <td>0.721188</td>\n",
       "      <td>True</td>\n",
       "      <td>toy_terrier</td>\n",
       "      <td>0.112943</td>\n",
       "      <td>True</td>\n",
       "      <td>kelpie</td>\n",
       "      <td>0.053364</td>\n",
       "      <td>True</td>\n",
       "    </tr>\n",
       "    <tr>\n",
       "      <th>1745</th>\n",
       "      <td>822975315408461824</td>\n",
       "      <td>https://pbs.twimg.com/media/C2vLrpvWIAA3LM3.jpg</td>\n",
       "      <td>1</td>\n",
       "      <td>bathtub</td>\n",
       "      <td>0.331098</td>\n",
       "      <td>False</td>\n",
       "      <td>tub</td>\n",
       "      <td>0.248860</td>\n",
       "      <td>False</td>\n",
       "      <td>Pembroke</td>\n",
       "      <td>0.233162</td>\n",
       "      <td>True</td>\n",
       "    </tr>\n",
       "    <tr>\n",
       "      <th>1169</th>\n",
       "      <td>736010884653420544</td>\n",
       "      <td>https://pbs.twimg.com/media/CjbV-lEWgAAr6WY.jpg</td>\n",
       "      <td>2</td>\n",
       "      <td>golden_retriever</td>\n",
       "      <td>0.553901</td>\n",
       "      <td>True</td>\n",
       "      <td>Labrador_retriever</td>\n",
       "      <td>0.119475</td>\n",
       "      <td>True</td>\n",
       "      <td>bluetick</td>\n",
       "      <td>0.077475</td>\n",
       "      <td>True</td>\n",
       "    </tr>\n",
       "    <tr>\n",
       "      <th>125</th>\n",
       "      <td>668248472370458624</td>\n",
       "      <td>https://pbs.twimg.com/media/CUYYcMfXAAAixe7.jpg</td>\n",
       "      <td>1</td>\n",
       "      <td>Chihuahua</td>\n",
       "      <td>0.734547</td>\n",
       "      <td>True</td>\n",
       "      <td>miniature_pinscher</td>\n",
       "      <td>0.068294</td>\n",
       "      <td>True</td>\n",
       "      <td>toy_terrier</td>\n",
       "      <td>0.046367</td>\n",
       "      <td>True</td>\n",
       "    </tr>\n",
       "    <tr>\n",
       "      <th>1356</th>\n",
       "      <td>760539183865880579</td>\n",
       "      <td>https://pbs.twimg.com/media/Co36VZfWcAEN3R3.jpg</td>\n",
       "      <td>1</td>\n",
       "      <td>Samoyed</td>\n",
       "      <td>0.988013</td>\n",
       "      <td>True</td>\n",
       "      <td>malamute</td>\n",
       "      <td>0.004518</td>\n",
       "      <td>True</td>\n",
       "      <td>West_Highland_white_terrier</td>\n",
       "      <td>0.001189</td>\n",
       "      <td>True</td>\n",
       "    </tr>\n",
       "    <tr>\n",
       "      <th>2009</th>\n",
       "      <td>878281511006478336</td>\n",
       "      <td>https://pbs.twimg.com/media/DDBIX9QVYAAohGa.jpg</td>\n",
       "      <td>1</td>\n",
       "      <td>basset</td>\n",
       "      <td>0.320420</td>\n",
       "      <td>True</td>\n",
       "      <td>collie</td>\n",
       "      <td>0.215975</td>\n",
       "      <td>True</td>\n",
       "      <td>Appenzeller</td>\n",
       "      <td>0.128507</td>\n",
       "      <td>True</td>\n",
       "    </tr>\n",
       "    <tr>\n",
       "      <th>1665</th>\n",
       "      <td>812503143955202048</td>\n",
       "      <td>https://pbs.twimg.com/media/C0aXTLqXEAADxBi.jpg</td>\n",
       "      <td>2</td>\n",
       "      <td>loupe</td>\n",
       "      <td>0.546856</td>\n",
       "      <td>False</td>\n",
       "      <td>web_site</td>\n",
       "      <td>0.345298</td>\n",
       "      <td>False</td>\n",
       "      <td>bubble</td>\n",
       "      <td>0.010528</td>\n",
       "      <td>False</td>\n",
       "    </tr>\n",
       "    <tr>\n",
       "      <th>1493</th>\n",
       "      <td>783085703974514689</td>\n",
       "      <td>https://pbs.twimg.com/media/Ct4URfWUAAQ7lKe.jpg</td>\n",
       "      <td>1</td>\n",
       "      <td>Chesapeake_Bay_retriever</td>\n",
       "      <td>0.240602</td>\n",
       "      <td>True</td>\n",
       "      <td>Airedale</td>\n",
       "      <td>0.164088</td>\n",
       "      <td>True</td>\n",
       "      <td>boxer</td>\n",
       "      <td>0.134506</td>\n",
       "      <td>True</td>\n",
       "    </tr>\n",
       "    <tr>\n",
       "      <th>549</th>\n",
       "      <td>677530072887205888</td>\n",
       "      <td>https://pbs.twimg.com/media/CWcSAI-WUAAOB9W.jpg</td>\n",
       "      <td>1</td>\n",
       "      <td>Staffordshire_bullterrier</td>\n",
       "      <td>0.689259</td>\n",
       "      <td>True</td>\n",
       "      <td>Norwegian_elkhound</td>\n",
       "      <td>0.026121</td>\n",
       "      <td>True</td>\n",
       "      <td>American_Staffordshire_terrier</td>\n",
       "      <td>0.023075</td>\n",
       "      <td>True</td>\n",
       "    </tr>\n",
       "    <tr>\n",
       "      <th>1415</th>\n",
       "      <td>771102124360998913</td>\n",
       "      <td>https://pbs.twimg.com/media/CrOBSfgXgAABsTE.jpg</td>\n",
       "      <td>1</td>\n",
       "      <td>Labrador_retriever</td>\n",
       "      <td>0.568789</td>\n",
       "      <td>True</td>\n",
       "      <td>pug</td>\n",
       "      <td>0.179918</td>\n",
       "      <td>True</td>\n",
       "      <td>Staffordshire_bullterrier</td>\n",
       "      <td>0.034437</td>\n",
       "      <td>True</td>\n",
       "    </tr>\n",
       "    <tr>\n",
       "      <th>1062</th>\n",
       "      <td>715220193576927233</td>\n",
       "      <td>https://pbs.twimg.com/media/Cez49UqWsAIRQXc.jpg</td>\n",
       "      <td>1</td>\n",
       "      <td>Chihuahua</td>\n",
       "      <td>0.584026</td>\n",
       "      <td>True</td>\n",
       "      <td>Italian_greyhound</td>\n",
       "      <td>0.377077</td>\n",
       "      <td>True</td>\n",
       "      <td>Boston_bull</td>\n",
       "      <td>0.017400</td>\n",
       "      <td>True</td>\n",
       "    </tr>\n",
       "    <tr>\n",
       "      <th>814</th>\n",
       "      <td>692568918515392513</td>\n",
       "      <td>https://pbs.twimg.com/media/CZx_wV2UMAArgsJ.jpg</td>\n",
       "      <td>2</td>\n",
       "      <td>golden_retriever</td>\n",
       "      <td>0.636845</td>\n",
       "      <td>True</td>\n",
       "      <td>Labrador_retriever</td>\n",
       "      <td>0.163362</td>\n",
       "      <td>True</td>\n",
       "      <td>Pekinese</td>\n",
       "      <td>0.045554</td>\n",
       "      <td>True</td>\n",
       "    </tr>\n",
       "    <tr>\n",
       "      <th>191</th>\n",
       "      <td>669564461267722241</td>\n",
       "      <td>https://pbs.twimg.com/media/CUrFUvDVAAA9H-F.jpg</td>\n",
       "      <td>1</td>\n",
       "      <td>toy_poodle</td>\n",
       "      <td>0.623685</td>\n",
       "      <td>True</td>\n",
       "      <td>miniature_poodle</td>\n",
       "      <td>0.259920</td>\n",
       "      <td>True</td>\n",
       "      <td>standard_poodle</td>\n",
       "      <td>0.082530</td>\n",
       "      <td>True</td>\n",
       "    </tr>\n",
       "    <tr>\n",
       "      <th>1543</th>\n",
       "      <td>791406955684368384</td>\n",
       "      <td>https://pbs.twimg.com/media/CvukbEkWAAAV-69.jpg</td>\n",
       "      <td>4</td>\n",
       "      <td>Pembroke</td>\n",
       "      <td>0.972629</td>\n",
       "      <td>True</td>\n",
       "      <td>Cardigan</td>\n",
       "      <td>0.027026</td>\n",
       "      <td>True</td>\n",
       "      <td>basenji</td>\n",
       "      <td>0.000153</td>\n",
       "      <td>True</td>\n",
       "    </tr>\n",
       "    <tr>\n",
       "      <th>684</th>\n",
       "      <td>683852578183077888</td>\n",
       "      <td>https://pbs.twimg.com/media/CX2ISqSWYAAEtCF.jpg</td>\n",
       "      <td>1</td>\n",
       "      <td>toy_poodle</td>\n",
       "      <td>0.551352</td>\n",
       "      <td>True</td>\n",
       "      <td>teddy</td>\n",
       "      <td>0.180678</td>\n",
       "      <td>False</td>\n",
       "      <td>miniature_poodle</td>\n",
       "      <td>0.164095</td>\n",
       "      <td>True</td>\n",
       "    </tr>\n",
       "    <tr>\n",
       "      <th>533</th>\n",
       "      <td>676897532954456065</td>\n",
       "      <td>https://pbs.twimg.com/media/CWTSt0UW4AALMNB.jpg</td>\n",
       "      <td>1</td>\n",
       "      <td>hamster</td>\n",
       "      <td>0.628255</td>\n",
       "      <td>False</td>\n",
       "      <td>guinea_pig</td>\n",
       "      <td>0.318646</td>\n",
       "      <td>False</td>\n",
       "      <td>macaque</td>\n",
       "      <td>0.013058</td>\n",
       "      <td>False</td>\n",
       "    </tr>\n",
       "    <tr>\n",
       "      <th>1264</th>\n",
       "      <td>749064354620928000</td>\n",
       "      <td>https://pbs.twimg.com/media/CmU2DVWWgAArvp3.jpg</td>\n",
       "      <td>2</td>\n",
       "      <td>pug</td>\n",
       "      <td>0.985222</td>\n",
       "      <td>True</td>\n",
       "      <td>Brabancon_griffon</td>\n",
       "      <td>0.003314</td>\n",
       "      <td>True</td>\n",
       "      <td>Pekinese</td>\n",
       "      <td>0.002989</td>\n",
       "      <td>True</td>\n",
       "    </tr>\n",
       "    <tr>\n",
       "      <th>1799</th>\n",
       "      <td>831670449226514432</td>\n",
       "      <td>https://pbs.twimg.com/media/C4qv3JUW8AADirb.jpg</td>\n",
       "      <td>1</td>\n",
       "      <td>Pembroke</td>\n",
       "      <td>0.624802</td>\n",
       "      <td>True</td>\n",
       "      <td>Cardigan</td>\n",
       "      <td>0.362861</td>\n",
       "      <td>True</td>\n",
       "      <td>Appenzeller</td>\n",
       "      <td>0.003926</td>\n",
       "      <td>True</td>\n",
       "    </tr>\n",
       "    <tr>\n",
       "      <th>1181</th>\n",
       "      <td>738184450748633089</td>\n",
       "      <td>https://pbs.twimg.com/media/Cj6O1G9UYAAIU-1.jpg</td>\n",
       "      <td>1</td>\n",
       "      <td>Bedlington_terrier</td>\n",
       "      <td>0.289471</td>\n",
       "      <td>True</td>\n",
       "      <td>standard_poodle</td>\n",
       "      <td>0.173685</td>\n",
       "      <td>True</td>\n",
       "      <td>Great_Pyrenees</td>\n",
       "      <td>0.157081</td>\n",
       "      <td>True</td>\n",
       "    </tr>\n",
       "    <tr>\n",
       "      <th>344</th>\n",
       "      <td>672267570918129665</td>\n",
       "      <td>https://pbs.twimg.com/media/CVRfyZxWUAAFIQR.jpg</td>\n",
       "      <td>1</td>\n",
       "      <td>Irish_terrier</td>\n",
       "      <td>0.716932</td>\n",
       "      <td>True</td>\n",
       "      <td>miniature_pinscher</td>\n",
       "      <td>0.051234</td>\n",
       "      <td>True</td>\n",
       "      <td>Airedale</td>\n",
       "      <td>0.044381</td>\n",
       "      <td>True</td>\n",
       "    </tr>\n",
       "    <tr>\n",
       "      <th>1392</th>\n",
       "      <td>767122157629476866</td>\n",
       "      <td>https://pbs.twimg.com/media/CqVdiBJWIAEDZB4.jpg</td>\n",
       "      <td>2</td>\n",
       "      <td>toy_poodle</td>\n",
       "      <td>0.873841</td>\n",
       "      <td>True</td>\n",
       "      <td>miniature_poodle</td>\n",
       "      <td>0.059192</td>\n",
       "      <td>True</td>\n",
       "      <td>Irish_terrier</td>\n",
       "      <td>0.035306</td>\n",
       "      <td>True</td>\n",
       "    </tr>\n",
       "    <tr>\n",
       "      <th>1684</th>\n",
       "      <td>814153002265309185</td>\n",
       "      <td>https://pbs.twimg.com/media/C0xz04SVIAAeyDb.jpg</td>\n",
       "      <td>1</td>\n",
       "      <td>golden_retriever</td>\n",
       "      <td>0.490068</td>\n",
       "      <td>True</td>\n",
       "      <td>Labrador_retriever</td>\n",
       "      <td>0.291956</td>\n",
       "      <td>True</td>\n",
       "      <td>chow</td>\n",
       "      <td>0.072475</td>\n",
       "      <td>True</td>\n",
       "    </tr>\n",
       "    <tr>\n",
       "      <th>645</th>\n",
       "      <td>681610798867845120</td>\n",
       "      <td>https://pbs.twimg.com/media/CXWRZBgWkAEHMea.jpg</td>\n",
       "      <td>1</td>\n",
       "      <td>toy_poodle</td>\n",
       "      <td>0.821704</td>\n",
       "      <td>True</td>\n",
       "      <td>miniature_poodle</td>\n",
       "      <td>0.116042</td>\n",
       "      <td>True</td>\n",
       "      <td>Yorkshire_terrier</td>\n",
       "      <td>0.014847</td>\n",
       "      <td>True</td>\n",
       "    </tr>\n",
       "    <tr>\n",
       "      <th>1994</th>\n",
       "      <td>874057562936811520</td>\n",
       "      <td>https://pbs.twimg.com/media/DCFGtdoXkAEsqIw.jpg</td>\n",
       "      <td>1</td>\n",
       "      <td>flat-coated_retriever</td>\n",
       "      <td>0.832177</td>\n",
       "      <td>True</td>\n",
       "      <td>black-and-tan_coonhound</td>\n",
       "      <td>0.040437</td>\n",
       "      <td>True</td>\n",
       "      <td>Newfoundland</td>\n",
       "      <td>0.028228</td>\n",
       "      <td>True</td>\n",
       "    </tr>\n",
       "    <tr>\n",
       "      <th>1165</th>\n",
       "      <td>735274964362878976</td>\n",
       "      <td>https://pbs.twimg.com/media/CjQ4radW0AENP-m.jpg</td>\n",
       "      <td>1</td>\n",
       "      <td>studio_couch</td>\n",
       "      <td>0.944692</td>\n",
       "      <td>False</td>\n",
       "      <td>four-poster</td>\n",
       "      <td>0.007942</td>\n",
       "      <td>False</td>\n",
       "      <td>quilt</td>\n",
       "      <td>0.006302</td>\n",
       "      <td>False</td>\n",
       "    </tr>\n",
       "    <tr>\n",
       "      <th>1512</th>\n",
       "      <td>786363235746385920</td>\n",
       "      <td>https://pbs.twimg.com/media/Cum5LlfWAAAyPcS.jpg</td>\n",
       "      <td>1</td>\n",
       "      <td>golden_retriever</td>\n",
       "      <td>0.929266</td>\n",
       "      <td>True</td>\n",
       "      <td>Labrador_retriever</td>\n",
       "      <td>0.062867</td>\n",
       "      <td>True</td>\n",
       "      <td>Saluki</td>\n",
       "      <td>0.002157</td>\n",
       "      <td>True</td>\n",
       "    </tr>\n",
       "    <tr>\n",
       "      <th>9</th>\n",
       "      <td>666058600524156928</td>\n",
       "      <td>https://pbs.twimg.com/media/CT5Qw94XAAA_2dP.jpg</td>\n",
       "      <td>1</td>\n",
       "      <td>miniature_poodle</td>\n",
       "      <td>0.201493</td>\n",
       "      <td>True</td>\n",
       "      <td>komondor</td>\n",
       "      <td>0.192305</td>\n",
       "      <td>True</td>\n",
       "      <td>soft-coated_wheaten_terrier</td>\n",
       "      <td>0.082086</td>\n",
       "      <td>True</td>\n",
       "    </tr>\n",
       "    <tr>\n",
       "      <th>2055</th>\n",
       "      <td>888202515573088257</td>\n",
       "      <td>https://pbs.twimg.com/media/DFDw2tyUQAAAFke.jpg</td>\n",
       "      <td>2</td>\n",
       "      <td>Pembroke</td>\n",
       "      <td>0.809197</td>\n",
       "      <td>True</td>\n",
       "      <td>Rhodesian_ridgeback</td>\n",
       "      <td>0.054950</td>\n",
       "      <td>True</td>\n",
       "      <td>beagle</td>\n",
       "      <td>0.038915</td>\n",
       "      <td>True</td>\n",
       "    </tr>\n",
       "    <tr>\n",
       "      <th>202</th>\n",
       "      <td>669683899023405056</td>\n",
       "      <td>https://pbs.twimg.com/media/CUsx8q_WUAA-m4k.jpg</td>\n",
       "      <td>1</td>\n",
       "      <td>Pomeranian</td>\n",
       "      <td>0.998275</td>\n",
       "      <td>True</td>\n",
       "      <td>Chihuahua</td>\n",
       "      <td>0.000605</td>\n",
       "      <td>True</td>\n",
       "      <td>Pekinese</td>\n",
       "      <td>0.000516</td>\n",
       "      <td>True</td>\n",
       "    </tr>\n",
       "  </tbody>\n",
       "</table>\n",
       "</div>"
      ],
      "text/plain": [
       "                tweet_id                                            jpg_url  \\\n",
       "260   670783437142401025    https://pbs.twimg.com/media/CU8Z-OxXAAA-sd2.jpg   \n",
       "108   667878741721415682    https://pbs.twimg.com/media/CUTILFiWcAE8Rle.jpg   \n",
       "1839  837482249356513284    https://pbs.twimg.com/media/C59VqMUXEAAzldG.jpg   \n",
       "1314  754856583969079297    https://pbs.twimg.com/media/CnnKCKNWgAAcOB8.jpg   \n",
       "1201  741067306818797568    https://pbs.twimg.com/media/CkjMx99UoAM2B1a.jpg   \n",
       "474   675147105808306176    https://pbs.twimg.com/media/CV6atgoWcAEsdv6.jpg   \n",
       "18    666268910803644416    https://pbs.twimg.com/media/CT8QCd1WEAADXws.jpg   \n",
       "309   671538301157904385    https://pbs.twimg.com/media/CVHIhi2WsAEgdKk.jpg   \n",
       "968   706346369204748288    https://pbs.twimg.com/media/Cc1yRE2WoAAgxFQ.jpg   \n",
       "1364  761371037149827077  https://pbs.twimg.com/tweet_video_thumb/CeBym7...   \n",
       "636   681242418453299201    https://pbs.twimg.com/media/CXRCXesVAAArSXt.jpg   \n",
       "1751  824297048279236611    https://pbs.twimg.com/media/C3B9ypNWEAM1bVs.jpg   \n",
       "1743  822859134160621569    https://pbs.twimg.com/media/C2tiAzGXgAIFdqi.jpg   \n",
       "1394  767500508068192258    https://pbs.twimg.com/media/Cqa1ofnXEAAG0yn.jpg   \n",
       "274   670833812859932673    https://pbs.twimg.com/media/CU9HyzSWIAAVcte.jpg   \n",
       "925   702539513671897089    https://pbs.twimg.com/media/Cb_r8qTUsAASgdF.jpg   \n",
       "1232  746056683365994496    https://pbs.twimg.com/media/ClqGl7fXIAA8nDe.jpg   \n",
       "188   669371483794317312    https://pbs.twimg.com/media/CUoVz8rU8AAfW-c.jpg   \n",
       "1135  728751179681943552    https://pbs.twimg.com/media/Ch0LVPdW0AEdHgU.jpg   \n",
       "50    666837028449972224    https://pbs.twimg.com/media/CUEUva1WsAA2jPb.jpg   \n",
       "477   675166823650848770    https://pbs.twimg.com/media/CV6spB7XAAIpMyP.jpg   \n",
       "1615  802247111496568832    https://pbs.twimg.com/media/Cs_DYr1XEAA54Pu.jpg   \n",
       "1745  822975315408461824    https://pbs.twimg.com/media/C2vLrpvWIAA3LM3.jpg   \n",
       "1169  736010884653420544    https://pbs.twimg.com/media/CjbV-lEWgAAr6WY.jpg   \n",
       "125   668248472370458624    https://pbs.twimg.com/media/CUYYcMfXAAAixe7.jpg   \n",
       "1356  760539183865880579    https://pbs.twimg.com/media/Co36VZfWcAEN3R3.jpg   \n",
       "2009  878281511006478336    https://pbs.twimg.com/media/DDBIX9QVYAAohGa.jpg   \n",
       "1665  812503143955202048    https://pbs.twimg.com/media/C0aXTLqXEAADxBi.jpg   \n",
       "1493  783085703974514689    https://pbs.twimg.com/media/Ct4URfWUAAQ7lKe.jpg   \n",
       "549   677530072887205888    https://pbs.twimg.com/media/CWcSAI-WUAAOB9W.jpg   \n",
       "1415  771102124360998913    https://pbs.twimg.com/media/CrOBSfgXgAABsTE.jpg   \n",
       "1062  715220193576927233    https://pbs.twimg.com/media/Cez49UqWsAIRQXc.jpg   \n",
       "814   692568918515392513    https://pbs.twimg.com/media/CZx_wV2UMAArgsJ.jpg   \n",
       "191   669564461267722241    https://pbs.twimg.com/media/CUrFUvDVAAA9H-F.jpg   \n",
       "1543  791406955684368384    https://pbs.twimg.com/media/CvukbEkWAAAV-69.jpg   \n",
       "684   683852578183077888    https://pbs.twimg.com/media/CX2ISqSWYAAEtCF.jpg   \n",
       "533   676897532954456065    https://pbs.twimg.com/media/CWTSt0UW4AALMNB.jpg   \n",
       "1264  749064354620928000    https://pbs.twimg.com/media/CmU2DVWWgAArvp3.jpg   \n",
       "1799  831670449226514432    https://pbs.twimg.com/media/C4qv3JUW8AADirb.jpg   \n",
       "1181  738184450748633089    https://pbs.twimg.com/media/Cj6O1G9UYAAIU-1.jpg   \n",
       "344   672267570918129665    https://pbs.twimg.com/media/CVRfyZxWUAAFIQR.jpg   \n",
       "1392  767122157629476866    https://pbs.twimg.com/media/CqVdiBJWIAEDZB4.jpg   \n",
       "1684  814153002265309185    https://pbs.twimg.com/media/C0xz04SVIAAeyDb.jpg   \n",
       "645   681610798867845120    https://pbs.twimg.com/media/CXWRZBgWkAEHMea.jpg   \n",
       "1994  874057562936811520    https://pbs.twimg.com/media/DCFGtdoXkAEsqIw.jpg   \n",
       "1165  735274964362878976    https://pbs.twimg.com/media/CjQ4radW0AENP-m.jpg   \n",
       "1512  786363235746385920    https://pbs.twimg.com/media/Cum5LlfWAAAyPcS.jpg   \n",
       "9     666058600524156928    https://pbs.twimg.com/media/CT5Qw94XAAA_2dP.jpg   \n",
       "2055  888202515573088257    https://pbs.twimg.com/media/DFDw2tyUQAAAFke.jpg   \n",
       "202   669683899023405056    https://pbs.twimg.com/media/CUsx8q_WUAA-m4k.jpg   \n",
       "\n",
       "      img_num                         p1   p1_conf  p1_dog  \\\n",
       "260         1                   lacewing  0.381955   False   \n",
       "108         1                  seat_belt  0.200373   False   \n",
       "1839        2                  birdhouse  0.541196   False   \n",
       "1314        2           golden_retriever  0.872385    True   \n",
       "1201        1           golden_retriever  0.843799    True   \n",
       "474         1           golden_retriever  0.949215    True   \n",
       "18          1           desktop_computer  0.086502   False   \n",
       "309         1                 park_bench  0.194211   False   \n",
       "968         1            Tibetan_mastiff  0.956462    True   \n",
       "1364        1                 brown_bear  0.713293   False   \n",
       "636         1              motor_scooter  0.255934   False   \n",
       "1751        2                      teddy  0.588230   False   \n",
       "1743        1                   malinois  0.332897    True   \n",
       "1394        1                       chow  0.483228    True   \n",
       "274         1                   Pekinese  0.609853    True   \n",
       "925         3                 Pomeranian  0.714367    True   \n",
       "1232        1          Shetland_sheepdog  0.433320    True   \n",
       "188         1          Brabancon_griffon  0.483268    True   \n",
       "1135        1              Saint_Bernard  0.482050    True   \n",
       "50          1                triceratops  0.442113   False   \n",
       "477         1                      llama  0.284394   False   \n",
       "1615        1                  Chihuahua  0.721188    True   \n",
       "1745        1                    bathtub  0.331098   False   \n",
       "1169        2           golden_retriever  0.553901    True   \n",
       "125         1                  Chihuahua  0.734547    True   \n",
       "1356        1                    Samoyed  0.988013    True   \n",
       "2009        1                     basset  0.320420    True   \n",
       "1665        2                      loupe  0.546856   False   \n",
       "1493        1   Chesapeake_Bay_retriever  0.240602    True   \n",
       "549         1  Staffordshire_bullterrier  0.689259    True   \n",
       "1415        1         Labrador_retriever  0.568789    True   \n",
       "1062        1                  Chihuahua  0.584026    True   \n",
       "814         2           golden_retriever  0.636845    True   \n",
       "191         1                 toy_poodle  0.623685    True   \n",
       "1543        4                   Pembroke  0.972629    True   \n",
       "684         1                 toy_poodle  0.551352    True   \n",
       "533         1                    hamster  0.628255   False   \n",
       "1264        2                        pug  0.985222    True   \n",
       "1799        1                   Pembroke  0.624802    True   \n",
       "1181        1         Bedlington_terrier  0.289471    True   \n",
       "344         1              Irish_terrier  0.716932    True   \n",
       "1392        2                 toy_poodle  0.873841    True   \n",
       "1684        1           golden_retriever  0.490068    True   \n",
       "645         1                 toy_poodle  0.821704    True   \n",
       "1994        1      flat-coated_retriever  0.832177    True   \n",
       "1165        1               studio_couch  0.944692   False   \n",
       "1512        1           golden_retriever  0.929266    True   \n",
       "9           1           miniature_poodle  0.201493    True   \n",
       "2055        2                   Pembroke  0.809197    True   \n",
       "202         1                 Pomeranian  0.998275    True   \n",
       "\n",
       "                           p2   p2_conf  p2_dog  \\\n",
       "260         sulphur_butterfly  0.106810   False   \n",
       "108        miniature_pinscher  0.106003    True   \n",
       "1839               can_opener  0.121094   False   \n",
       "1314       Labrador_retriever  0.099963    True   \n",
       "1201       Labrador_retriever  0.052956    True   \n",
       "474        Labrador_retriever  0.016765    True   \n",
       "18                       desk  0.085547   False   \n",
       "309              water_bottle  0.071870   False   \n",
       "968                Rottweiler  0.025381    True   \n",
       "1364          Indian_elephant  0.172844   False   \n",
       "636                     rifle  0.145202   False   \n",
       "1751            jigsaw_puzzle  0.028910   False   \n",
       "1743                Chihuahua  0.104116    True   \n",
       "1394         golden_retriever  0.165063    True   \n",
       "274               Persian_cat  0.265442   False   \n",
       "925                  Shih-Tzu  0.040574    True   \n",
       "1232                   collie  0.335997    True   \n",
       "188        miniature_pinscher  0.307465    True   \n",
       "1135                   collie  0.202740    True   \n",
       "50                  armadillo  0.114071   False   \n",
       "477           standard_poodle  0.132569    True   \n",
       "1615              toy_terrier  0.112943    True   \n",
       "1745                      tub  0.248860   False   \n",
       "1169       Labrador_retriever  0.119475    True   \n",
       "125        miniature_pinscher  0.068294    True   \n",
       "1356                 malamute  0.004518    True   \n",
       "2009                   collie  0.215975    True   \n",
       "1665                 web_site  0.345298   False   \n",
       "1493                 Airedale  0.164088    True   \n",
       "549        Norwegian_elkhound  0.026121    True   \n",
       "1415                      pug  0.179918    True   \n",
       "1062        Italian_greyhound  0.377077    True   \n",
       "814        Labrador_retriever  0.163362    True   \n",
       "191          miniature_poodle  0.259920    True   \n",
       "1543                 Cardigan  0.027026    True   \n",
       "684                     teddy  0.180678   False   \n",
       "533                guinea_pig  0.318646   False   \n",
       "1264        Brabancon_griffon  0.003314    True   \n",
       "1799                 Cardigan  0.362861    True   \n",
       "1181          standard_poodle  0.173685    True   \n",
       "344        miniature_pinscher  0.051234    True   \n",
       "1392         miniature_poodle  0.059192    True   \n",
       "1684       Labrador_retriever  0.291956    True   \n",
       "645          miniature_poodle  0.116042    True   \n",
       "1994  black-and-tan_coonhound  0.040437    True   \n",
       "1165              four-poster  0.007942   False   \n",
       "1512       Labrador_retriever  0.062867    True   \n",
       "9                    komondor  0.192305    True   \n",
       "2055      Rhodesian_ridgeback  0.054950    True   \n",
       "202                 Chihuahua  0.000605    True   \n",
       "\n",
       "                                  p3   p3_conf  p3_dog  \n",
       "260                       leafhopper  0.068347   False  \n",
       "108                       schipperke  0.104733    True  \n",
       "1839                          carton  0.056137   False  \n",
       "1314                  cocker_spaniel  0.006051    True  \n",
       "1201                          kelpie  0.035711    True  \n",
       "474            flat-coated_retriever  0.010637    True  \n",
       "18                          bookcase  0.079480   False  \n",
       "309                           beacon  0.053433   False  \n",
       "968                      Appenzeller  0.008679    True  \n",
       "1364                   water_buffalo  0.038902   False  \n",
       "636                    assault_rifle  0.097000   False  \n",
       "1751                         doormat  0.022251   False  \n",
       "1743       Staffordshire_bullterrier  0.047745    True  \n",
       "1394                 Norfolk_terrier  0.060173    True  \n",
       "274                 Japanese_spaniel  0.027460    True  \n",
       "925                    silky_terrier  0.032510    True  \n",
       "1232                          borzoi  0.177179    True  \n",
       "188                          redbone  0.070524    True  \n",
       "1135                          borzoi  0.037976    True  \n",
       "50                     common_iguana  0.043255   False  \n",
       "477                            teddy  0.127975   False  \n",
       "1615                          kelpie  0.053364    True  \n",
       "1745                        Pembroke  0.233162    True  \n",
       "1169                        bluetick  0.077475    True  \n",
       "125                      toy_terrier  0.046367    True  \n",
       "1356     West_Highland_white_terrier  0.001189    True  \n",
       "2009                     Appenzeller  0.128507    True  \n",
       "1665                          bubble  0.010528   False  \n",
       "1493                           boxer  0.134506    True  \n",
       "549   American_Staffordshire_terrier  0.023075    True  \n",
       "1415       Staffordshire_bullterrier  0.034437    True  \n",
       "1062                     Boston_bull  0.017400    True  \n",
       "814                         Pekinese  0.045554    True  \n",
       "191                  standard_poodle  0.082530    True  \n",
       "1543                         basenji  0.000153    True  \n",
       "684                 miniature_poodle  0.164095    True  \n",
       "533                          macaque  0.013058   False  \n",
       "1264                        Pekinese  0.002989    True  \n",
       "1799                     Appenzeller  0.003926    True  \n",
       "1181                  Great_Pyrenees  0.157081    True  \n",
       "344                         Airedale  0.044381    True  \n",
       "1392                   Irish_terrier  0.035306    True  \n",
       "1684                            chow  0.072475    True  \n",
       "645                Yorkshire_terrier  0.014847    True  \n",
       "1994                    Newfoundland  0.028228    True  \n",
       "1165                           quilt  0.006302   False  \n",
       "1512                          Saluki  0.002157    True  \n",
       "9        soft-coated_wheaten_terrier  0.082086    True  \n",
       "2055                          beagle  0.038915    True  \n",
       "202                         Pekinese  0.000516    True  "
      ]
     },
     "execution_count": 31,
     "metadata": {},
     "output_type": "execute_result"
    }
   ],
   "source": [
    "df_image_predictions.sample(50)"
   ]
  },
  {
   "cell_type": "code",
   "execution_count": 32,
   "metadata": {},
   "outputs": [
    {
     "data": {
      "text/plain": [
       "(2075, 12)"
      ]
     },
     "execution_count": 32,
     "metadata": {},
     "output_type": "execute_result"
    }
   ],
   "source": [
    "df_image_predictions.shape"
   ]
  },
  {
   "cell_type": "code",
   "execution_count": 33,
   "metadata": {},
   "outputs": [
    {
     "name": "stdout",
     "output_type": "stream",
     "text": [
      "<class 'pandas.core.frame.DataFrame'>\n",
      "RangeIndex: 2075 entries, 0 to 2074\n",
      "Data columns (total 12 columns):\n",
      " #   Column    Non-Null Count  Dtype  \n",
      "---  ------    --------------  -----  \n",
      " 0   tweet_id  2075 non-null   int64  \n",
      " 1   jpg_url   2075 non-null   object \n",
      " 2   img_num   2075 non-null   int64  \n",
      " 3   p1        2075 non-null   object \n",
      " 4   p1_conf   2075 non-null   float64\n",
      " 5   p1_dog    2075 non-null   bool   \n",
      " 6   p2        2075 non-null   object \n",
      " 7   p2_conf   2075 non-null   float64\n",
      " 8   p2_dog    2075 non-null   bool   \n",
      " 9   p3        2075 non-null   object \n",
      " 10  p3_conf   2075 non-null   float64\n",
      " 11  p3_dog    2075 non-null   bool   \n",
      "dtypes: bool(3), float64(3), int64(2), object(4)\n",
      "memory usage: 152.1+ KB\n"
     ]
    }
   ],
   "source": [
    "df_image_predictions.info()"
   ]
  },
  {
   "cell_type": "code",
   "execution_count": 34,
   "metadata": {},
   "outputs": [
    {
     "data": {
      "text/plain": [
       "tweet_id    0\n",
       "jpg_url     0\n",
       "img_num     0\n",
       "p1          0\n",
       "p1_conf     0\n",
       "p1_dog      0\n",
       "p2          0\n",
       "p2_conf     0\n",
       "p2_dog      0\n",
       "p3          0\n",
       "p3_conf     0\n",
       "p3_dog      0\n",
       "dtype: int64"
      ]
     },
     "execution_count": 34,
     "metadata": {},
     "output_type": "execute_result"
    }
   ],
   "source": [
    "df_image_predictions.isnull().sum()"
   ]
  },
  {
   "cell_type": "code",
   "execution_count": 35,
   "metadata": {},
   "outputs": [
    {
     "data": {
      "text/plain": [
       "0"
      ]
     },
     "execution_count": 35,
     "metadata": {},
     "output_type": "execute_result"
    }
   ],
   "source": [
    "sum(df_image_predictions.duplicated())"
   ]
  },
  {
   "cell_type": "code",
   "execution_count": 36,
   "metadata": {},
   "outputs": [
    {
     "data": {
      "text/plain": [
       "0"
      ]
     },
     "execution_count": 36,
     "metadata": {},
     "output_type": "execute_result"
    }
   ],
   "source": [
    "sum(df_image_predictions['tweet_id'].duplicated())"
   ]
  },
  {
   "cell_type": "code",
   "execution_count": 37,
   "metadata": {},
   "outputs": [
    {
     "data": {
      "text/plain": [
       "array(['Welsh_springer_spaniel', 'redbone', 'German_shepherd',\n",
       "       'Rhodesian_ridgeback', 'miniature_pinscher',\n",
       "       'Bernese_mountain_dog', 'box_turtle', 'chow', 'shopping_cart',\n",
       "       'miniature_poodle', 'golden_retriever', 'Gordon_setter',\n",
       "       'Walker_hound', 'pug', 'bloodhound', 'Lhasa', 'English_setter',\n",
       "       'hen', 'desktop_computer', 'Italian_greyhound'], dtype=object)"
      ]
     },
     "execution_count": 37,
     "metadata": {},
     "output_type": "execute_result"
    }
   ],
   "source": [
    "df_image_predictions['p1'].unique()[:20]"
   ]
  },
  {
   "cell_type": "code",
   "execution_count": 38,
   "metadata": {},
   "outputs": [
    {
     "data": {
      "text/plain": [
       "array(['collie', 'miniature_pinscher', 'malinois', 'redbone',\n",
       "       'Rottweiler', 'English_springer', 'mud_turtle', 'Tibetan_mastiff',\n",
       "       'shopping_basket', 'komondor', 'Yorkshire_terrier',\n",
       "       'English_foxhound', 'bull_mastiff', 'German_shepherd', 'Shih-Tzu',\n",
       "       'Newfoundland', 'cock', 'desk', 'toy_terrier', 'toy_poodle'],\n",
       "      dtype=object)"
      ]
     },
     "execution_count": 38,
     "metadata": {},
     "output_type": "execute_result"
    }
   ],
   "source": [
    "df_image_predictions['p2'].unique()[:20]"
   ]
  },
  {
   "cell_type": "code",
   "execution_count": 39,
   "metadata": {},
   "outputs": [
    {
     "data": {
      "text/plain": [
       "array(['Shetland_sheepdog', 'Rhodesian_ridgeback', 'bloodhound',\n",
       "       'miniature_pinscher', 'Doberman', 'Greater_Swiss_Mountain_dog',\n",
       "       'terrapin', 'fur_coat', 'golden_retriever',\n",
       "       'soft-coated_wheaten_terrier', 'Labrador_retriever', 'Pekinese',\n",
       "       'Ibizan_hound', 'French_bulldog', 'malinois', 'Dandie_Dinmont',\n",
       "       'borzoi', 'partridge', 'bookcase', 'basenji'], dtype=object)"
      ]
     },
     "execution_count": 39,
     "metadata": {},
     "output_type": "execute_result"
    }
   ],
   "source": [
    "df_image_predictions['p3'].unique()[:20]"
   ]
  },
  {
   "cell_type": "markdown",
   "metadata": {},
   "source": [
    "## Dataset 3: Twitter API Data"
   ]
  },
  {
   "cell_type": "code",
   "execution_count": 40,
   "metadata": {},
   "outputs": [
    {
     "data": {
      "text/html": [
       "<div>\n",
       "<style scoped>\n",
       "    .dataframe tbody tr th:only-of-type {\n",
       "        vertical-align: middle;\n",
       "    }\n",
       "\n",
       "    .dataframe tbody tr th {\n",
       "        vertical-align: top;\n",
       "    }\n",
       "\n",
       "    .dataframe thead th {\n",
       "        text-align: right;\n",
       "    }\n",
       "</style>\n",
       "<table border=\"1\" class=\"dataframe\">\n",
       "  <thead>\n",
       "    <tr style=\"text-align: right;\">\n",
       "      <th></th>\n",
       "      <th>tweet_id</th>\n",
       "      <th>retweet_count</th>\n",
       "      <th>favorite_count</th>\n",
       "    </tr>\n",
       "  </thead>\n",
       "  <tbody>\n",
       "    <tr>\n",
       "      <th>581</th>\n",
       "      <td>800388270626521089</td>\n",
       "      <td>3265</td>\n",
       "      <td>12456</td>\n",
       "    </tr>\n",
       "    <tr>\n",
       "      <th>508</th>\n",
       "      <td>812466873996607488</td>\n",
       "      <td>2231</td>\n",
       "      <td>8900</td>\n",
       "    </tr>\n",
       "    <tr>\n",
       "      <th>1878</th>\n",
       "      <td>675006312288268288</td>\n",
       "      <td>252</td>\n",
       "      <td>1057</td>\n",
       "    </tr>\n",
       "    <tr>\n",
       "      <th>196</th>\n",
       "      <td>854482394044301312</td>\n",
       "      <td>7608</td>\n",
       "      <td>31131</td>\n",
       "    </tr>\n",
       "    <tr>\n",
       "      <th>564</th>\n",
       "      <td>802265048156610565</td>\n",
       "      <td>1573</td>\n",
       "      <td>7039</td>\n",
       "    </tr>\n",
       "    <tr>\n",
       "      <th>622</th>\n",
       "      <td>796031486298386433</td>\n",
       "      <td>4284</td>\n",
       "      <td>12071</td>\n",
       "    </tr>\n",
       "    <tr>\n",
       "      <th>2080</th>\n",
       "      <td>670815497391357952</td>\n",
       "      <td>1708</td>\n",
       "      <td>3410</td>\n",
       "    </tr>\n",
       "    <tr>\n",
       "      <th>1685</th>\n",
       "      <td>681579835668455424</td>\n",
       "      <td>1489</td>\n",
       "      <td>3893</td>\n",
       "    </tr>\n",
       "    <tr>\n",
       "      <th>2225</th>\n",
       "      <td>668268907921326080</td>\n",
       "      <td>261</td>\n",
       "      <td>592</td>\n",
       "    </tr>\n",
       "    <tr>\n",
       "      <th>92</th>\n",
       "      <td>874057562936811520</td>\n",
       "      <td>4125</td>\n",
       "      <td>23134</td>\n",
       "    </tr>\n",
       "    <tr>\n",
       "      <th>1575</th>\n",
       "      <td>687399393394311168</td>\n",
       "      <td>702</td>\n",
       "      <td>2081</td>\n",
       "    </tr>\n",
       "    <tr>\n",
       "      <th>1167</th>\n",
       "      <td>720785406564900865</td>\n",
       "      <td>866</td>\n",
       "      <td>3400</td>\n",
       "    </tr>\n",
       "    <tr>\n",
       "      <th>1182</th>\n",
       "      <td>718631497683582976</td>\n",
       "      <td>9126</td>\n",
       "      <td>20697</td>\n",
       "    </tr>\n",
       "    <tr>\n",
       "      <th>943</th>\n",
       "      <td>752660715232722944</td>\n",
       "      <td>1794</td>\n",
       "      <td>4878</td>\n",
       "    </tr>\n",
       "    <tr>\n",
       "      <th>769</th>\n",
       "      <td>776819012571455488</td>\n",
       "      <td>15839</td>\n",
       "      <td>0</td>\n",
       "    </tr>\n",
       "    <tr>\n",
       "      <th>395</th>\n",
       "      <td>825147591692263424</td>\n",
       "      <td>5244</td>\n",
       "      <td>20181</td>\n",
       "    </tr>\n",
       "    <tr>\n",
       "      <th>1922</th>\n",
       "      <td>674075285688614912</td>\n",
       "      <td>316</td>\n",
       "      <td>1047</td>\n",
       "    </tr>\n",
       "    <tr>\n",
       "      <th>2111</th>\n",
       "      <td>670434127938719744</td>\n",
       "      <td>708</td>\n",
       "      <td>1501</td>\n",
       "    </tr>\n",
       "    <tr>\n",
       "      <th>977</th>\n",
       "      <td>749981277374128128</td>\n",
       "      <td>2772</td>\n",
       "      <td>5569</td>\n",
       "    </tr>\n",
       "    <tr>\n",
       "      <th>1996</th>\n",
       "      <td>672538107540070400</td>\n",
       "      <td>404</td>\n",
       "      <td>1089</td>\n",
       "    </tr>\n",
       "  </tbody>\n",
       "</table>\n",
       "</div>"
      ],
      "text/plain": [
       "                tweet_id  retweet_count  favorite_count\n",
       "581   800388270626521089           3265           12456\n",
       "508   812466873996607488           2231            8900\n",
       "1878  675006312288268288            252            1057\n",
       "196   854482394044301312           7608           31131\n",
       "564   802265048156610565           1573            7039\n",
       "622   796031486298386433           4284           12071\n",
       "2080  670815497391357952           1708            3410\n",
       "1685  681579835668455424           1489            3893\n",
       "2225  668268907921326080            261             592\n",
       "92    874057562936811520           4125           23134\n",
       "1575  687399393394311168            702            2081\n",
       "1167  720785406564900865            866            3400\n",
       "1182  718631497683582976           9126           20697\n",
       "943   752660715232722944           1794            4878\n",
       "769   776819012571455488          15839               0\n",
       "395   825147591692263424           5244           20181\n",
       "1922  674075285688614912            316            1047\n",
       "2111  670434127938719744            708            1501\n",
       "977   749981277374128128           2772            5569\n",
       "1996  672538107540070400            404            1089"
      ]
     },
     "execution_count": 40,
     "metadata": {},
     "output_type": "execute_result"
    }
   ],
   "source": [
    "df_tweet_json.sample(20)"
   ]
  },
  {
   "cell_type": "code",
   "execution_count": 41,
   "metadata": {},
   "outputs": [
    {
     "data": {
      "text/plain": [
       "(2354, 3)"
      ]
     },
     "execution_count": 41,
     "metadata": {},
     "output_type": "execute_result"
    }
   ],
   "source": [
    "df_tweet_json.shape"
   ]
  },
  {
   "cell_type": "code",
   "execution_count": 42,
   "metadata": {},
   "outputs": [
    {
     "name": "stdout",
     "output_type": "stream",
     "text": [
      "<class 'pandas.core.frame.DataFrame'>\n",
      "RangeIndex: 2354 entries, 0 to 2353\n",
      "Data columns (total 3 columns):\n",
      " #   Column          Non-Null Count  Dtype\n",
      "---  ------          --------------  -----\n",
      " 0   tweet_id        2354 non-null   int64\n",
      " 1   retweet_count   2354 non-null   int64\n",
      " 2   favorite_count  2354 non-null   int64\n",
      "dtypes: int64(3)\n",
      "memory usage: 55.3 KB\n"
     ]
    }
   ],
   "source": [
    "df_tweet_json.info()"
   ]
  },
  {
   "cell_type": "code",
   "execution_count": 43,
   "metadata": {},
   "outputs": [
    {
     "data": {
      "text/plain": [
       "tweet_id          0\n",
       "retweet_count     0\n",
       "favorite_count    0\n",
       "dtype: int64"
      ]
     },
     "execution_count": 43,
     "metadata": {},
     "output_type": "execute_result"
    }
   ],
   "source": [
    "df_tweet_json.isnull().sum()"
   ]
  },
  {
   "cell_type": "code",
   "execution_count": 44,
   "metadata": {},
   "outputs": [
    {
     "data": {
      "text/plain": [
       "0"
      ]
     },
     "execution_count": 44,
     "metadata": {},
     "output_type": "execute_result"
    }
   ],
   "source": [
    "sum(df_tweet_json.duplicated())"
   ]
  },
  {
   "cell_type": "code",
   "execution_count": 45,
   "metadata": {},
   "outputs": [
    {
     "data": {
      "text/plain": [
       "0"
      ]
     },
     "execution_count": 45,
     "metadata": {},
     "output_type": "execute_result"
    }
   ],
   "source": [
    "sum(df_tweet_json['tweet_id'].duplicated())"
   ]
  },
  {
   "cell_type": "markdown",
   "metadata": {},
   "source": [
    "### Quality issues\n",
    "1. Text column in df_WeRateDogs starts with RT @ which mean a user can retweet their own tweet\n",
    "\n",
    "2. Missing values 2175 out of 2356 in retweeted_status_id, retweeted_status_user_id, retweeted_status_timestamp columns in df_WeRateDogs\n",
    "\n",
    "3. Missing values 2278 out of 2356 in in_reply_to_status_id, in_reply_to_user_id columns in df_WeRateDogs\n",
    "\n",
    "4. The rating_denominator in df_WeRateDogs has different values other than 10 which is invalid\n",
    "\n",
    "5. The name in df_WeRateDogs has invalid values (None, a, an, O, all, the, by)\n",
    "\n",
    "6. In df_WeRateDogs there is 1 dog who is both doggo and floofer, and 1 who is both doggo and puppo \n",
    "\n",
    "7. In df_WeRateDogs there are 12 dogs who are both doggo and pupper\n",
    "\n",
    "8. The source column in df_WeRateDogs has herf tag with url\n",
    "\n",
    "9. Different letter cases and symbols (\"-\", \"_\") in p1, p2, p3 columns in df_image_predictions"
   ]
  },
  {
   "cell_type": "markdown",
   "metadata": {
    "extensions": {
     "jupyter_dashboards": {
      "version": 1,
      "views": {
       "grid_default": {
        "col": 0,
        "height": 7,
        "hidden": false,
        "row": 40,
        "width": 12
       },
       "report_default": {
        "hidden": false
       }
      }
     }
    }
   },
   "source": [
    "### Tidiness issues\n",
    "1. Date and time in the timestamp column\n",
    "\n",
    "2. There are 4 columns for dog type (doggo, floofer, pupper, puppo)\n",
    "\n",
    "3. Join the 3 tables together"
   ]
  },
  {
   "cell_type": "markdown",
   "metadata": {
    "extensions": {
     "jupyter_dashboards": {
      "version": 1,
      "views": {
       "grid_default": {
        "col": 4,
        "height": 4,
        "hidden": false,
        "row": 32,
        "width": 4
       },
       "report_default": {
        "hidden": false
       }
      }
     }
    }
   },
   "source": [
    "<a id='cleaning'></a>\n",
    "\n",
    "## Cleaning Data\n",
    "In this section, clean **all** of the issues you documented while assessing. \n",
    "\n",
    "**Note:** Make a copy of the original data before cleaning. Cleaning includes merging individual pieces of data according to the rules of [tidy data](https://cran.r-project.org/web/packages/tidyr/vignettes/tidy-data.html). The result should be a high-quality and tidy master pandas DataFrame (or DataFrames, if appropriate)."
   ]
  },
  {
   "cell_type": "code",
   "execution_count": 46,
   "metadata": {},
   "outputs": [],
   "source": [
    "# Make copies of original pieces of data\n",
    "df_WeRateDogs_clean = df_WeRateDogs.copy()\n",
    "df_image_predictions_clean = df_image_predictions.copy()"
   ]
  },
  {
   "cell_type": "markdown",
   "metadata": {},
   "source": [
    "-------------------------------------\n",
    "#### Define:"
   ]
  },
  {
   "cell_type": "markdown",
   "metadata": {},
   "source": [
    "- *Text column in df_WeRateDogs starts with RT @ which mean a user can retweet their own tweet*\n",
    "\n",
    "\n",
    "We will remove retweets (text starting with RT @) by removing all rows that have values (not blank or non-null) in retweeted_status_id, retweeted_status_user_id, and retweeted_status_timestamp columns."
   ]
  },
  {
   "cell_type": "markdown",
   "metadata": {},
   "source": [
    "#### Code"
   ]
  },
  {
   "cell_type": "code",
   "execution_count": 47,
   "metadata": {},
   "outputs": [],
   "source": [
    "df_WeRateDogs_clean = df_WeRateDogs_clean[df_WeRateDogs_clean['retweeted_status_id'].isnull()]\n",
    "df_WeRateDogs_clean = df_WeRateDogs_clean[df_WeRateDogs_clean['retweeted_status_user_id'].isnull()]\n",
    "df_WeRateDogs_clean = df_WeRateDogs_clean[df_WeRateDogs_clean['retweeted_status_timestamp'].isnull()]"
   ]
  },
  {
   "cell_type": "markdown",
   "metadata": {},
   "source": [
    "#### Test"
   ]
  },
  {
   "cell_type": "code",
   "execution_count": 48,
   "metadata": {},
   "outputs": [
    {
     "data": {
      "text/plain": [
       "Series([], Name: text, dtype: object)"
      ]
     },
     "execution_count": 48,
     "metadata": {},
     "output_type": "execute_result"
    }
   ],
   "source": [
    "df_WeRateDogs_clean[df_WeRateDogs_clean['retweeted_status_id'].isnull() == False]['text']"
   ]
  },
  {
   "cell_type": "markdown",
   "metadata": {},
   "source": [
    "-------------------------------------\n",
    "#### Define:"
   ]
  },
  {
   "cell_type": "markdown",
   "metadata": {},
   "source": [
    "- *Missing values 2175 out of 2356 in retweeted_status_id, retweeted_status_user_id, retweeted_status_timestamp columns in df_WeRateDogs*\n",
    "\n",
    "- *Missing values 2278 out of 2356 in in_reply_to_status_id, in_reply_to_user_id columns in df_WeRateDogs*\n",
    "\n",
    "Since There is a lot of missing values in these columns we will drop them"
   ]
  },
  {
   "cell_type": "markdown",
   "metadata": {},
   "source": [
    "#### Code"
   ]
  },
  {
   "cell_type": "code",
   "execution_count": 49,
   "metadata": {},
   "outputs": [],
   "source": [
    "df_WeRateDogs_clean.drop(columns=['retweeted_status_id', 'retweeted_status_user_id', 'retweeted_status_timestamp', \\\n",
    "                                 'in_reply_to_status_id', 'in_reply_to_user_id', 'expanded_urls'], inplace=True)"
   ]
  },
  {
   "cell_type": "markdown",
   "metadata": {},
   "source": [
    "#### Test"
   ]
  },
  {
   "cell_type": "code",
   "execution_count": 50,
   "metadata": {},
   "outputs": [
    {
     "name": "stdout",
     "output_type": "stream",
     "text": [
      "<class 'pandas.core.frame.DataFrame'>\n",
      "Int64Index: 2175 entries, 0 to 2355\n",
      "Data columns (total 11 columns):\n",
      " #   Column              Non-Null Count  Dtype \n",
      "---  ------              --------------  ----- \n",
      " 0   tweet_id            2175 non-null   int64 \n",
      " 1   timestamp           2175 non-null   object\n",
      " 2   source              2175 non-null   object\n",
      " 3   text                2175 non-null   object\n",
      " 4   rating_numerator    2175 non-null   int64 \n",
      " 5   rating_denominator  2175 non-null   int64 \n",
      " 6   name                2175 non-null   object\n",
      " 7   doggo               2175 non-null   object\n",
      " 8   floofer             2175 non-null   object\n",
      " 9   pupper              2175 non-null   object\n",
      " 10  puppo               2175 non-null   object\n",
      "dtypes: int64(3), object(8)\n",
      "memory usage: 203.9+ KB\n"
     ]
    }
   ],
   "source": [
    "df_WeRateDogs_clean.info()"
   ]
  },
  {
   "cell_type": "code",
   "execution_count": 51,
   "metadata": {
    "scrolled": true
   },
   "outputs": [
    {
     "data": {
      "text/plain": [
       "tweet_id              0\n",
       "timestamp             0\n",
       "source                0\n",
       "text                  0\n",
       "rating_numerator      0\n",
       "rating_denominator    0\n",
       "name                  0\n",
       "doggo                 0\n",
       "floofer               0\n",
       "pupper                0\n",
       "puppo                 0\n",
       "dtype: int64"
      ]
     },
     "execution_count": 51,
     "metadata": {},
     "output_type": "execute_result"
    }
   ],
   "source": [
    "df_WeRateDogs_clean.isnull().sum()"
   ]
  },
  {
   "cell_type": "markdown",
   "metadata": {},
   "source": [
    "-------------------------------------\n",
    "#### Define:"
   ]
  },
  {
   "cell_type": "markdown",
   "metadata": {},
   "source": [
    "- *The rating_denominator in df_WeRateDogs has different values other than 10 which is invalid*\n",
    "\n",
    "\n",
    "As we only have 23 incorrect rows, rows that doesn't have 10 in their text column will be removed, and the rest will be modified in both values in rating_denominator and columns."
   ]
  },
  {
   "cell_type": "markdown",
   "metadata": {},
   "source": [
    "#### Code"
   ]
  },
  {
   "cell_type": "code",
   "execution_count": 52,
   "metadata": {},
   "outputs": [
    {
     "data": {
      "text/plain": [
       "22"
      ]
     },
     "execution_count": 52,
     "metadata": {},
     "output_type": "execute_result"
    }
   ],
   "source": [
    "df_WeRateDogs_clean[df_WeRateDogs_clean['rating_denominator'] != 10].shape[0]"
   ]
  },
  {
   "cell_type": "code",
   "execution_count": 53,
   "metadata": {},
   "outputs": [
    {
     "data": {
      "text/plain": [
       "6"
      ]
     },
     "execution_count": 53,
     "metadata": {},
     "output_type": "execute_result"
    }
   ],
   "source": [
    "sum((df_WeRateDogs_clean[df_WeRateDogs_clean['rating_denominator'] != 10]['text']).str.contains('/10'))"
   ]
  },
  {
   "cell_type": "code",
   "execution_count": 54,
   "metadata": {},
   "outputs": [],
   "source": [
    "df_WeRateDogs_clean = df_WeRateDogs_clean.drop(df_WeRateDogs_clean[(df_WeRateDogs_clean['rating_denominator'] != 10) & \\\n",
    "                                          (df_WeRateDogs_clean['text'].str.contains('/10')== False)].index)\n"
   ]
  },
  {
   "cell_type": "code",
   "execution_count": 55,
   "metadata": {},
   "outputs": [
    {
     "data": {
      "text/plain": [
       "[{'index': 313, 'rating_numerator': '13', 'rating_denominator': 10},\n",
       " {'index': 1068, 'rating_numerator': '14', 'rating_denominator': 10},\n",
       " {'index': 1165, 'rating_numerator': '13', 'rating_denominator': 10},\n",
       " {'index': 1202, 'rating_numerator': '11', 'rating_denominator': 10},\n",
       " {'index': 1662, 'rating_numerator': '10', 'rating_denominator': 10},\n",
       " {'index': 2335, 'rating_numerator': '9', 'rating_denominator': 10}]"
      ]
     },
     "execution_count": 55,
     "metadata": {},
     "output_type": "execute_result"
    }
   ],
   "source": [
    "ss = df_WeRateDogs_clean[df_WeRateDogs_clean['rating_denominator'] != 10]\n",
    "\n",
    "dic_10 = []\n",
    "\n",
    "for index, row in ss.iterrows():\n",
    "    num = row['text'][row['text'].index('/10')-2:row['text'].index('/10')+3].replace(\" \", \"\")\n",
    "    temp = {\"index\":index, 'rating_numerator' : num[0:num.index('/10')], 'rating_denominator' : 10 }\n",
    "    dic_10.append(temp)\n",
    "dic_10"
   ]
  },
  {
   "cell_type": "code",
   "execution_count": 56,
   "metadata": {},
   "outputs": [],
   "source": [
    "for x in dic_10:\n",
    "    df_WeRateDogs_clean['rating_numerator'][x['index']] = x['rating_numerator']\n",
    "    df_WeRateDogs_clean['rating_denominator'][x['index']] = x['rating_denominator']"
   ]
  },
  {
   "cell_type": "markdown",
   "metadata": {},
   "source": [
    "#### Test"
   ]
  },
  {
   "cell_type": "code",
   "execution_count": 57,
   "metadata": {},
   "outputs": [
    {
     "data": {
      "text/plain": [
       "0"
      ]
     },
     "execution_count": 57,
     "metadata": {},
     "output_type": "execute_result"
    }
   ],
   "source": [
    "df_WeRateDogs_clean[df_WeRateDogs_clean['rating_denominator'] != 10].shape[0]"
   ]
  },
  {
   "cell_type": "code",
   "execution_count": 58,
   "metadata": {},
   "outputs": [
    {
     "data": {
      "text/plain": [
       "(2159, 11)"
      ]
     },
     "execution_count": 58,
     "metadata": {},
     "output_type": "execute_result"
    }
   ],
   "source": [
    "df_WeRateDogs_clean.shape"
   ]
  },
  {
   "cell_type": "markdown",
   "metadata": {},
   "source": [
    "-------------------------------------\n",
    "#### Define:"
   ]
  },
  {
   "cell_type": "markdown",
   "metadata": {},
   "source": [
    "- *The name in df_WeRateDogs has invalid values (None, a, an, O, all, the, by)*\n",
    "\n",
    "\n",
    "We will replace all these invalid names with \"Johndoe\""
   ]
  },
  {
   "cell_type": "markdown",
   "metadata": {},
   "source": [
    "#### Code"
   ]
  },
  {
   "cell_type": "code",
   "execution_count": 59,
   "metadata": {},
   "outputs": [
    {
     "data": {
      "text/plain": [
       "None          667\n",
       "a              54\n",
       "Charlie        11\n",
       "Lucy           11\n",
       "Oliver         10\n",
       "             ... \n",
       "Wishes          1\n",
       "Rose            1\n",
       "Theo            1\n",
       "Fido            1\n",
       "Christoper      1\n",
       "Name: name, Length: 955, dtype: int64"
      ]
     },
     "execution_count": 59,
     "metadata": {},
     "output_type": "execute_result"
    }
   ],
   "source": [
    "df_WeRateDogs_clean['name'].value_counts()"
   ]
  },
  {
   "cell_type": "code",
   "execution_count": 60,
   "metadata": {},
   "outputs": [
    {
     "data": {
      "text/plain": [
       "955"
      ]
     },
     "execution_count": 60,
     "metadata": {},
     "output_type": "execute_result"
    }
   ],
   "source": [
    "df_WeRateDogs_clean['name'].nunique()"
   ]
  },
  {
   "cell_type": "code",
   "execution_count": 61,
   "metadata": {},
   "outputs": [],
   "source": [
    "to_replace = {'None', 'a', 'an', 'O', 'all', 'the', 'by'}\n",
    "\n",
    "for char in to_replace:\n",
    "    df_WeRateDogs_clean['name'] = df_WeRateDogs_clean['name'].str.replace(char, \"Johndoe\")"
   ]
  },
  {
   "cell_type": "markdown",
   "metadata": {},
   "source": [
    "#### Test"
   ]
  },
  {
   "cell_type": "code",
   "execution_count": 62,
   "metadata": {},
   "outputs": [
    {
     "data": {
      "text/plain": [
       "951"
      ]
     },
     "execution_count": 62,
     "metadata": {},
     "output_type": "execute_result"
    }
   ],
   "source": [
    "df_WeRateDogs_clean['name'].nunique()"
   ]
  },
  {
   "cell_type": "code",
   "execution_count": 63,
   "metadata": {},
   "outputs": [
    {
     "data": {
      "text/plain": [
       "Johndoe          731\n",
       "Lucy              11\n",
       "ChJohndoerlie     11\n",
       "Cooper            10\n",
       "Johndoeliver      10\n",
       "                ... \n",
       "Wishes             1\n",
       "Rose               1\n",
       "Theo               1\n",
       "Fido               1\n",
       "Christoper         1\n",
       "Name: name, Length: 951, dtype: int64"
      ]
     },
     "execution_count": 63,
     "metadata": {},
     "output_type": "execute_result"
    }
   ],
   "source": [
    "df_WeRateDogs_clean['name'].value_counts()"
   ]
  },
  {
   "cell_type": "markdown",
   "metadata": {},
   "source": [
    "-------------------------------------\n",
    "#### Define:"
   ]
  },
  {
   "cell_type": "markdown",
   "metadata": {},
   "source": [
    "- *In df_WeRateDogs there is 1 dog who is both doggo and floofer, and 1 who is both doggo and puppo*\n",
    "\n",
    "- *In df_WeRateDogs there are 12 dogs who are both doggo and pupper*\n",
    "\n",
    "- *There are 4 columns for dog type (doggo, floofer, pupper, puppo)*\n",
    "\n",
    "\n",
    "Since every dog belong to 1 type we will remove the rows that have more than 1 type and merge the 4 columns to one column name \"dog_type\", then drop the 4 columns"
   ]
  },
  {
   "cell_type": "markdown",
   "metadata": {},
   "source": [
    "#### Code"
   ]
  },
  {
   "cell_type": "code",
   "execution_count": 64,
   "metadata": {},
   "outputs": [
    {
     "data": {
      "text/plain": [
       "2159"
      ]
     },
     "execution_count": 64,
     "metadata": {},
     "output_type": "execute_result"
    }
   ],
   "source": [
    "df_WeRateDogs_clean.shape[0]"
   ]
  },
  {
   "cell_type": "code",
   "execution_count": 65,
   "metadata": {},
   "outputs": [],
   "source": [
    "df_WeRateDogs_clean = df_WeRateDogs_clean.drop(df_WeRateDogs_clean[(df_WeRateDogs_clean['doggo'] == 'doggo') & \\\n",
    "                                                                   (df_WeRateDogs_clean['floofer'] == 'floofer')].index)\n",
    "df_WeRateDogs_clean = df_WeRateDogs_clean.drop(df_WeRateDogs_clean[(df_WeRateDogs_clean['doggo'] == 'doggo') & \\\n",
    "                                                                   (df_WeRateDogs_clean['puppo'] == 'puppo')].index)\n",
    "df_WeRateDogs_clean = df_WeRateDogs_clean.drop(df_WeRateDogs_clean[(df_WeRateDogs_clean['doggo'] == 'doggo') & \\\n",
    "                                                                   (df_WeRateDogs_clean['pupper'] == 'pupper')].index)\n"
   ]
  },
  {
   "cell_type": "code",
   "execution_count": 66,
   "metadata": {},
   "outputs": [],
   "source": [
    "df_WeRateDogs_clean.replace('None', np.nan, inplace=True)\n",
    "    \n",
    "df_WeRateDogs_clean['dog_type'] = df_WeRateDogs_clean[['doggo', 'floofer', 'pupper', 'puppo']].apply(lambda x: ','.join(x.dropna().astype(str)),axis=1)\n",
    "\n",
    "df_WeRateDogs_clean['dog_type'].replace('', 'other', inplace=True)\n",
    "\n",
    "df_WeRateDogs_clean.drop(columns=['doggo', 'floofer', 'pupper', 'puppo'], inplace=True)\n"
   ]
  },
  {
   "cell_type": "markdown",
   "metadata": {},
   "source": [
    "#### Test"
   ]
  },
  {
   "cell_type": "code",
   "execution_count": 67,
   "metadata": {},
   "outputs": [
    {
     "data": {
      "text/plain": [
       "(2147, 8)"
      ]
     },
     "execution_count": 67,
     "metadata": {},
     "output_type": "execute_result"
    }
   ],
   "source": [
    "df_WeRateDogs_clean.shape"
   ]
  },
  {
   "cell_type": "code",
   "execution_count": 68,
   "metadata": {},
   "outputs": [
    {
     "data": {
      "text/html": [
       "<div>\n",
       "<style scoped>\n",
       "    .dataframe tbody tr th:only-of-type {\n",
       "        vertical-align: middle;\n",
       "    }\n",
       "\n",
       "    .dataframe tbody tr th {\n",
       "        vertical-align: top;\n",
       "    }\n",
       "\n",
       "    .dataframe thead th {\n",
       "        text-align: right;\n",
       "    }\n",
       "</style>\n",
       "<table border=\"1\" class=\"dataframe\">\n",
       "  <thead>\n",
       "    <tr style=\"text-align: right;\">\n",
       "      <th></th>\n",
       "      <th>tweet_id</th>\n",
       "      <th>timestamp</th>\n",
       "      <th>source</th>\n",
       "      <th>text</th>\n",
       "      <th>rating_numerator</th>\n",
       "      <th>rating_denominator</th>\n",
       "      <th>name</th>\n",
       "      <th>dog_type</th>\n",
       "    </tr>\n",
       "  </thead>\n",
       "  <tbody>\n",
       "    <tr>\n",
       "      <th>0</th>\n",
       "      <td>892420643555336193</td>\n",
       "      <td>2017-08-01 16:23:56 +0000</td>\n",
       "      <td>&lt;a href=\"http://twitter.com/download/iphone\" r...</td>\n",
       "      <td>This is Phineas. He's a mystical boy. Only eve...</td>\n",
       "      <td>13</td>\n",
       "      <td>10</td>\n",
       "      <td>PhineJohndoes</td>\n",
       "      <td>other</td>\n",
       "    </tr>\n",
       "  </tbody>\n",
       "</table>\n",
       "</div>"
      ],
      "text/plain": [
       "             tweet_id                  timestamp  \\\n",
       "0  892420643555336193  2017-08-01 16:23:56 +0000   \n",
       "\n",
       "                                              source  \\\n",
       "0  <a href=\"http://twitter.com/download/iphone\" r...   \n",
       "\n",
       "                                                text rating_numerator  \\\n",
       "0  This is Phineas. He's a mystical boy. Only eve...               13   \n",
       "\n",
       "   rating_denominator           name dog_type  \n",
       "0                  10  PhineJohndoes    other  "
      ]
     },
     "execution_count": 68,
     "metadata": {},
     "output_type": "execute_result"
    }
   ],
   "source": [
    "df_WeRateDogs_clean.head(1)"
   ]
  },
  {
   "cell_type": "code",
   "execution_count": 69,
   "metadata": {},
   "outputs": [
    {
     "data": {
      "text/plain": [
       "other      1815\n",
       "pupper      224\n",
       "doggo        75\n",
       "puppo        24\n",
       "floofer       9\n",
       "Name: dog_type, dtype: int64"
      ]
     },
     "execution_count": 69,
     "metadata": {},
     "output_type": "execute_result"
    }
   ],
   "source": [
    "df_WeRateDogs_clean['dog_type'].value_counts()"
   ]
  },
  {
   "cell_type": "markdown",
   "metadata": {},
   "source": [
    "-------------------------------------\n",
    "#### Define:"
   ]
  },
  {
   "cell_type": "markdown",
   "metadata": {},
   "source": [
    "- *The source column in df_WeRateDogs has herf tag with url*\n",
    "\n",
    "\n",
    "\n",
    "Remove the HTML tags and the urls"
   ]
  },
  {
   "cell_type": "markdown",
   "metadata": {},
   "source": [
    "#### Code"
   ]
  },
  {
   "cell_type": "code",
   "execution_count": 70,
   "metadata": {},
   "outputs": [
    {
     "data": {
      "text/plain": [
       "<a href=\"http://twitter.com/download/iphone\" rel=\"nofollow\">Twitter for iPhone</a>     2015\n",
       "<a href=\"http://vine.co\" rel=\"nofollow\">Vine - Make a Scene</a>                          90\n",
       "<a href=\"http://twitter.com\" rel=\"nofollow\">Twitter Web Client</a>                       31\n",
       "<a href=\"https://about.twitter.com/products/tweetdeck\" rel=\"nofollow\">TweetDeck</a>      11\n",
       "Name: source, dtype: int64"
      ]
     },
     "execution_count": 70,
     "metadata": {},
     "output_type": "execute_result"
    }
   ],
   "source": [
    "df_WeRateDogs_clean['source'].value_counts()"
   ]
  },
  {
   "cell_type": "code",
   "execution_count": 71,
   "metadata": {},
   "outputs": [],
   "source": [
    "df_WeRateDogs_clean['source'] = df_WeRateDogs_clean['source'].apply(lambda x: re.sub('<[^<]+?>', '', x))"
   ]
  },
  {
   "cell_type": "markdown",
   "metadata": {},
   "source": [
    "#### Test"
   ]
  },
  {
   "cell_type": "code",
   "execution_count": 72,
   "metadata": {},
   "outputs": [
    {
     "data": {
      "text/plain": [
       "Twitter for iPhone     2015\n",
       "Vine - Make a Scene      90\n",
       "Twitter Web Client       31\n",
       "TweetDeck                11\n",
       "Name: source, dtype: int64"
      ]
     },
     "execution_count": 72,
     "metadata": {},
     "output_type": "execute_result"
    }
   ],
   "source": [
    "df_WeRateDogs_clean['source'].value_counts()"
   ]
  },
  {
   "cell_type": "markdown",
   "metadata": {},
   "source": [
    "-------------------------------------\n",
    "#### Define:"
   ]
  },
  {
   "cell_type": "markdown",
   "metadata": {},
   "source": [
    "- *Different letter cases and symbols (\"-\", \"_\") in p1, p2, p3 columns in df_image_predictions*\n",
    "\n",
    "\n",
    "\n",
    "Covert all strings to lower case letters and replace \"-\" with \"_\""
   ]
  },
  {
   "cell_type": "markdown",
   "metadata": {},
   "source": [
    "#### Code"
   ]
  },
  {
   "cell_type": "code",
   "execution_count": 73,
   "metadata": {},
   "outputs": [
    {
     "data": {
      "text/plain": [
       "array(['Shetland_sheepdog', 'Rhodesian_ridgeback', 'bloodhound',\n",
       "       'miniature_pinscher', 'Doberman', 'Greater_Swiss_Mountain_dog',\n",
       "       'terrapin', 'fur_coat', 'golden_retriever',\n",
       "       'soft-coated_wheaten_terrier', 'Labrador_retriever', 'Pekinese',\n",
       "       'Ibizan_hound', 'French_bulldog', 'malinois', 'Dandie_Dinmont',\n",
       "       'borzoi', 'partridge', 'bookcase', 'basenji'], dtype=object)"
      ]
     },
     "execution_count": 73,
     "metadata": {},
     "output_type": "execute_result"
    }
   ],
   "source": [
    "df_image_predictions_clean['p3'].unique()[:20]"
   ]
  },
  {
   "cell_type": "code",
   "execution_count": 74,
   "metadata": {},
   "outputs": [],
   "source": [
    "df_image_predictions_clean['p1'] = df_image_predictions_clean['p1'].str.lower()\n",
    "df_image_predictions_clean['p2'] = df_image_predictions_clean['p2'].str.lower()\n",
    "df_image_predictions_clean['p3'] = df_image_predictions_clean['p3'].str.lower()\n",
    "df_image_predictions_clean['p1'] = df_image_predictions_clean['p1'].str.replace(\"-\", \"_\")\n",
    "df_image_predictions_clean['p2'] = df_image_predictions_clean['p2'].str.replace(\"-\", \"_\")\n",
    "df_image_predictions_clean['p3'] = df_image_predictions_clean['p3'].str.replace(\"-\", \"_\")"
   ]
  },
  {
   "cell_type": "markdown",
   "metadata": {},
   "source": [
    "#### Test"
   ]
  },
  {
   "cell_type": "code",
   "execution_count": 75,
   "metadata": {},
   "outputs": [
    {
     "data": {
      "text/plain": [
       "array(['shetland_sheepdog', 'rhodesian_ridgeback', 'bloodhound',\n",
       "       'miniature_pinscher', 'doberman', 'greater_swiss_mountain_dog',\n",
       "       'terrapin', 'fur_coat', 'golden_retriever',\n",
       "       'soft_coated_wheaten_terrier', 'labrador_retriever', 'pekinese',\n",
       "       'ibizan_hound', 'french_bulldog', 'malinois', 'dandie_dinmont',\n",
       "       'borzoi', 'partridge', 'bookcase', 'basenji'], dtype=object)"
      ]
     },
     "execution_count": 75,
     "metadata": {},
     "output_type": "execute_result"
    }
   ],
   "source": [
    "df_image_predictions_clean['p3'].unique()[:20]"
   ]
  },
  {
   "cell_type": "markdown",
   "metadata": {},
   "source": [
    "-------------------------------------\n",
    "#### Define:"
   ]
  },
  {
   "cell_type": "markdown",
   "metadata": {},
   "source": [
    "- *Date and time in the timestamp column*\n",
    "\n",
    "\n",
    "\n",
    "Covert the timestamp column to Date, then split it into date and time columns, then drop the timestamp column"
   ]
  },
  {
   "cell_type": "markdown",
   "metadata": {},
   "source": [
    "#### Code"
   ]
  },
  {
   "cell_type": "code",
   "execution_count": 76,
   "metadata": {},
   "outputs": [
    {
     "name": "stdout",
     "output_type": "stream",
     "text": [
      "<class 'pandas.core.series.Series'>\n",
      "Int64Index: 2147 entries, 0 to 2355\n",
      "Series name: timestamp\n",
      "Non-Null Count  Dtype \n",
      "--------------  ----- \n",
      "2147 non-null   object\n",
      "dtypes: object(1)\n",
      "memory usage: 33.5+ KB\n"
     ]
    }
   ],
   "source": [
    "df_WeRateDogs_clean['timestamp'].info()"
   ]
  },
  {
   "cell_type": "code",
   "execution_count": 77,
   "metadata": {},
   "outputs": [],
   "source": [
    "df_WeRateDogs_clean['date'] = pd.to_datetime(df_WeRateDogs_clean['timestamp']).dt.date\n",
    "df_WeRateDogs_clean['time'] = pd.to_datetime(df_WeRateDogs_clean['timestamp']).dt.time\n",
    "\n",
    "df_WeRateDogs_clean.drop(columns=['timestamp'], inplace=True)"
   ]
  },
  {
   "cell_type": "markdown",
   "metadata": {},
   "source": [
    "#### Test"
   ]
  },
  {
   "cell_type": "code",
   "execution_count": 78,
   "metadata": {},
   "outputs": [
    {
     "data": {
      "text/html": [
       "<div>\n",
       "<style scoped>\n",
       "    .dataframe tbody tr th:only-of-type {\n",
       "        vertical-align: middle;\n",
       "    }\n",
       "\n",
       "    .dataframe tbody tr th {\n",
       "        vertical-align: top;\n",
       "    }\n",
       "\n",
       "    .dataframe thead th {\n",
       "        text-align: right;\n",
       "    }\n",
       "</style>\n",
       "<table border=\"1\" class=\"dataframe\">\n",
       "  <thead>\n",
       "    <tr style=\"text-align: right;\">\n",
       "      <th></th>\n",
       "      <th>tweet_id</th>\n",
       "      <th>source</th>\n",
       "      <th>text</th>\n",
       "      <th>rating_numerator</th>\n",
       "      <th>rating_denominator</th>\n",
       "      <th>name</th>\n",
       "      <th>dog_type</th>\n",
       "      <th>date</th>\n",
       "      <th>time</th>\n",
       "    </tr>\n",
       "  </thead>\n",
       "  <tbody>\n",
       "    <tr>\n",
       "      <th>0</th>\n",
       "      <td>892420643555336193</td>\n",
       "      <td>Twitter for iPhone</td>\n",
       "      <td>This is Phineas. He's a mystical boy. Only eve...</td>\n",
       "      <td>13</td>\n",
       "      <td>10</td>\n",
       "      <td>PhineJohndoes</td>\n",
       "      <td>other</td>\n",
       "      <td>2017-08-01</td>\n",
       "      <td>16:23:56</td>\n",
       "    </tr>\n",
       "  </tbody>\n",
       "</table>\n",
       "</div>"
      ],
      "text/plain": [
       "             tweet_id              source  \\\n",
       "0  892420643555336193  Twitter for iPhone   \n",
       "\n",
       "                                                text rating_numerator  \\\n",
       "0  This is Phineas. He's a mystical boy. Only eve...               13   \n",
       "\n",
       "   rating_denominator           name dog_type        date      time  \n",
       "0                  10  PhineJohndoes    other  2017-08-01  16:23:56  "
      ]
     },
     "execution_count": 78,
     "metadata": {},
     "output_type": "execute_result"
    }
   ],
   "source": [
    "df_WeRateDogs_clean.head(1)"
   ]
  },
  {
   "cell_type": "markdown",
   "metadata": {},
   "source": [
    "-------------------------------------\n",
    "#### Define:"
   ]
  },
  {
   "cell_type": "markdown",
   "metadata": {},
   "source": [
    "- *Join the 3 tables together*\n",
    "\n",
    "\n",
    "\n",
    "Using inner join based on tweet_id to join the 3 tabes into one"
   ]
  },
  {
   "cell_type": "markdown",
   "metadata": {},
   "source": [
    "#### Code"
   ]
  },
  {
   "cell_type": "code",
   "execution_count": 79,
   "metadata": {},
   "outputs": [],
   "source": [
    "first_df = pd.merge(df_WeRateDogs_clean, df_image_predictions_clean, how = 'inner', on = ['tweet_id'] )\n",
    "df = pd.merge(first_df, df_tweet_json, how = 'inner', on = ['tweet_id'])"
   ]
  },
  {
   "cell_type": "markdown",
   "metadata": {},
   "source": [
    "#### Test"
   ]
  },
  {
   "cell_type": "code",
   "execution_count": 80,
   "metadata": {},
   "outputs": [
    {
     "data": {
      "text/html": [
       "<div>\n",
       "<style scoped>\n",
       "    .dataframe tbody tr th:only-of-type {\n",
       "        vertical-align: middle;\n",
       "    }\n",
       "\n",
       "    .dataframe tbody tr th {\n",
       "        vertical-align: top;\n",
       "    }\n",
       "\n",
       "    .dataframe thead th {\n",
       "        text-align: right;\n",
       "    }\n",
       "</style>\n",
       "<table border=\"1\" class=\"dataframe\">\n",
       "  <thead>\n",
       "    <tr style=\"text-align: right;\">\n",
       "      <th></th>\n",
       "      <th>tweet_id</th>\n",
       "      <th>source</th>\n",
       "      <th>text</th>\n",
       "      <th>rating_numerator</th>\n",
       "      <th>rating_denominator</th>\n",
       "      <th>name</th>\n",
       "      <th>dog_type</th>\n",
       "      <th>date</th>\n",
       "      <th>time</th>\n",
       "      <th>jpg_url</th>\n",
       "      <th>...</th>\n",
       "      <th>p1_conf</th>\n",
       "      <th>p1_dog</th>\n",
       "      <th>p2</th>\n",
       "      <th>p2_conf</th>\n",
       "      <th>p2_dog</th>\n",
       "      <th>p3</th>\n",
       "      <th>p3_conf</th>\n",
       "      <th>p3_dog</th>\n",
       "      <th>retweet_count</th>\n",
       "      <th>favorite_count</th>\n",
       "    </tr>\n",
       "  </thead>\n",
       "  <tbody>\n",
       "    <tr>\n",
       "      <th>0</th>\n",
       "      <td>892420643555336193</td>\n",
       "      <td>Twitter for iPhone</td>\n",
       "      <td>This is Phineas. He's a mystical boy. Only eve...</td>\n",
       "      <td>13</td>\n",
       "      <td>10</td>\n",
       "      <td>PhineJohndoes</td>\n",
       "      <td>other</td>\n",
       "      <td>2017-08-01</td>\n",
       "      <td>16:23:56</td>\n",
       "      <td>https://pbs.twimg.com/media/DGKD1-bXoAAIAUK.jpg</td>\n",
       "      <td>...</td>\n",
       "      <td>0.097049</td>\n",
       "      <td>False</td>\n",
       "      <td>bagel</td>\n",
       "      <td>0.085851</td>\n",
       "      <td>False</td>\n",
       "      <td>banana</td>\n",
       "      <td>0.076110</td>\n",
       "      <td>False</td>\n",
       "      <td>8853</td>\n",
       "      <td>39467</td>\n",
       "    </tr>\n",
       "    <tr>\n",
       "      <th>1</th>\n",
       "      <td>892177421306343426</td>\n",
       "      <td>Twitter for iPhone</td>\n",
       "      <td>This is Tilly. She's just checking pup on you....</td>\n",
       "      <td>13</td>\n",
       "      <td>10</td>\n",
       "      <td>Tilly</td>\n",
       "      <td>other</td>\n",
       "      <td>2017-08-01</td>\n",
       "      <td>00:17:27</td>\n",
       "      <td>https://pbs.twimg.com/media/DGGmoV4XsAAUL6n.jpg</td>\n",
       "      <td>...</td>\n",
       "      <td>0.323581</td>\n",
       "      <td>True</td>\n",
       "      <td>pekinese</td>\n",
       "      <td>0.090647</td>\n",
       "      <td>True</td>\n",
       "      <td>papillon</td>\n",
       "      <td>0.068957</td>\n",
       "      <td>True</td>\n",
       "      <td>6514</td>\n",
       "      <td>33819</td>\n",
       "    </tr>\n",
       "    <tr>\n",
       "      <th>2</th>\n",
       "      <td>891815181378084864</td>\n",
       "      <td>Twitter for iPhone</td>\n",
       "      <td>This is Archie. He is a rare Norwegian Pouncin...</td>\n",
       "      <td>12</td>\n",
       "      <td>10</td>\n",
       "      <td>Archie</td>\n",
       "      <td>other</td>\n",
       "      <td>2017-07-31</td>\n",
       "      <td>00:18:03</td>\n",
       "      <td>https://pbs.twimg.com/media/DGBdLU1WsAANxJ9.jpg</td>\n",
       "      <td>...</td>\n",
       "      <td>0.716012</td>\n",
       "      <td>True</td>\n",
       "      <td>malamute</td>\n",
       "      <td>0.078253</td>\n",
       "      <td>True</td>\n",
       "      <td>kelpie</td>\n",
       "      <td>0.031379</td>\n",
       "      <td>True</td>\n",
       "      <td>4328</td>\n",
       "      <td>25461</td>\n",
       "    </tr>\n",
       "    <tr>\n",
       "      <th>3</th>\n",
       "      <td>891689557279858688</td>\n",
       "      <td>Twitter for iPhone</td>\n",
       "      <td>This is Darla. She commenced a snooze mid meal...</td>\n",
       "      <td>13</td>\n",
       "      <td>10</td>\n",
       "      <td>DJohndoerlJohndoe</td>\n",
       "      <td>other</td>\n",
       "      <td>2017-07-30</td>\n",
       "      <td>15:58:51</td>\n",
       "      <td>https://pbs.twimg.com/media/DF_q7IAWsAEuuN8.jpg</td>\n",
       "      <td>...</td>\n",
       "      <td>0.170278</td>\n",
       "      <td>False</td>\n",
       "      <td>labrador_retriever</td>\n",
       "      <td>0.168086</td>\n",
       "      <td>True</td>\n",
       "      <td>spatula</td>\n",
       "      <td>0.040836</td>\n",
       "      <td>False</td>\n",
       "      <td>8964</td>\n",
       "      <td>42908</td>\n",
       "    </tr>\n",
       "    <tr>\n",
       "      <th>4</th>\n",
       "      <td>891327558926688256</td>\n",
       "      <td>Twitter for iPhone</td>\n",
       "      <td>This is Franklin. He would like you to stop ca...</td>\n",
       "      <td>12</td>\n",
       "      <td>10</td>\n",
       "      <td>FrJohndoenklin</td>\n",
       "      <td>other</td>\n",
       "      <td>2017-07-29</td>\n",
       "      <td>16:00:24</td>\n",
       "      <td>https://pbs.twimg.com/media/DF6hr6BUMAAzZgT.jpg</td>\n",
       "      <td>...</td>\n",
       "      <td>0.555712</td>\n",
       "      <td>True</td>\n",
       "      <td>english_springer</td>\n",
       "      <td>0.225770</td>\n",
       "      <td>True</td>\n",
       "      <td>german_short_haired_pointer</td>\n",
       "      <td>0.175219</td>\n",
       "      <td>True</td>\n",
       "      <td>9774</td>\n",
       "      <td>41048</td>\n",
       "    </tr>\n",
       "  </tbody>\n",
       "</table>\n",
       "<p>5 rows × 22 columns</p>\n",
       "</div>"
      ],
      "text/plain": [
       "             tweet_id              source  \\\n",
       "0  892420643555336193  Twitter for iPhone   \n",
       "1  892177421306343426  Twitter for iPhone   \n",
       "2  891815181378084864  Twitter for iPhone   \n",
       "3  891689557279858688  Twitter for iPhone   \n",
       "4  891327558926688256  Twitter for iPhone   \n",
       "\n",
       "                                                text rating_numerator  \\\n",
       "0  This is Phineas. He's a mystical boy. Only eve...               13   \n",
       "1  This is Tilly. She's just checking pup on you....               13   \n",
       "2  This is Archie. He is a rare Norwegian Pouncin...               12   \n",
       "3  This is Darla. She commenced a snooze mid meal...               13   \n",
       "4  This is Franklin. He would like you to stop ca...               12   \n",
       "\n",
       "   rating_denominator               name dog_type        date      time  \\\n",
       "0                  10      PhineJohndoes    other  2017-08-01  16:23:56   \n",
       "1                  10              Tilly    other  2017-08-01  00:17:27   \n",
       "2                  10             Archie    other  2017-07-31  00:18:03   \n",
       "3                  10  DJohndoerlJohndoe    other  2017-07-30  15:58:51   \n",
       "4                  10     FrJohndoenklin    other  2017-07-29  16:00:24   \n",
       "\n",
       "                                           jpg_url  ...   p1_conf p1_dog  \\\n",
       "0  https://pbs.twimg.com/media/DGKD1-bXoAAIAUK.jpg  ...  0.097049  False   \n",
       "1  https://pbs.twimg.com/media/DGGmoV4XsAAUL6n.jpg  ...  0.323581   True   \n",
       "2  https://pbs.twimg.com/media/DGBdLU1WsAANxJ9.jpg  ...  0.716012   True   \n",
       "3  https://pbs.twimg.com/media/DF_q7IAWsAEuuN8.jpg  ...  0.170278  False   \n",
       "4  https://pbs.twimg.com/media/DF6hr6BUMAAzZgT.jpg  ...  0.555712   True   \n",
       "\n",
       "                   p2   p2_conf p2_dog                           p3   p3_conf  \\\n",
       "0               bagel  0.085851  False                       banana  0.076110   \n",
       "1            pekinese  0.090647   True                     papillon  0.068957   \n",
       "2            malamute  0.078253   True                       kelpie  0.031379   \n",
       "3  labrador_retriever  0.168086   True                      spatula  0.040836   \n",
       "4    english_springer  0.225770   True  german_short_haired_pointer  0.175219   \n",
       "\n",
       "  p3_dog  retweet_count  favorite_count  \n",
       "0  False           8853           39467  \n",
       "1   True           6514           33819  \n",
       "2   True           4328           25461  \n",
       "3  False           8964           42908  \n",
       "4   True           9774           41048  \n",
       "\n",
       "[5 rows x 22 columns]"
      ]
     },
     "execution_count": 80,
     "metadata": {},
     "output_type": "execute_result"
    }
   ],
   "source": [
    "df.head()"
   ]
  },
  {
   "cell_type": "code",
   "execution_count": 81,
   "metadata": {},
   "outputs": [
    {
     "name": "stdout",
     "output_type": "stream",
     "text": [
      "<class 'pandas.core.frame.DataFrame'>\n",
      "Int64Index: 1970 entries, 0 to 1969\n",
      "Data columns (total 22 columns):\n",
      " #   Column              Non-Null Count  Dtype  \n",
      "---  ------              --------------  -----  \n",
      " 0   tweet_id            1970 non-null   int64  \n",
      " 1   source              1970 non-null   object \n",
      " 2   text                1970 non-null   object \n",
      " 3   rating_numerator    1970 non-null   object \n",
      " 4   rating_denominator  1970 non-null   int64  \n",
      " 5   name                1970 non-null   object \n",
      " 6   dog_type            1970 non-null   object \n",
      " 7   date                1970 non-null   object \n",
      " 8   time                1970 non-null   object \n",
      " 9   jpg_url             1970 non-null   object \n",
      " 10  img_num             1970 non-null   int64  \n",
      " 11  p1                  1970 non-null   object \n",
      " 12  p1_conf             1970 non-null   float64\n",
      " 13  p1_dog              1970 non-null   bool   \n",
      " 14  p2                  1970 non-null   object \n",
      " 15  p2_conf             1970 non-null   float64\n",
      " 16  p2_dog              1970 non-null   bool   \n",
      " 17  p3                  1970 non-null   object \n",
      " 18  p3_conf             1970 non-null   float64\n",
      " 19  p3_dog              1970 non-null   bool   \n",
      " 20  retweet_count       1970 non-null   int64  \n",
      " 21  favorite_count      1970 non-null   int64  \n",
      "dtypes: bool(3), float64(3), int64(5), object(11)\n",
      "memory usage: 313.6+ KB\n"
     ]
    }
   ],
   "source": [
    "df.info()"
   ]
  },
  {
   "cell_type": "markdown",
   "metadata": {},
   "source": [
    "-------------------------------------\n",
    "<a id='storing'></a>\n",
    "\n",
    "## Storing Data\n",
    "Save gathered, assessed, and cleaned master dataset to a CSV file named \"twitter_archive_master.csv\"."
   ]
  },
  {
   "cell_type": "code",
   "execution_count": 82,
   "metadata": {},
   "outputs": [],
   "source": [
    "df.to_csv('twitter_archive_master.csv', index=False,)"
   ]
  },
  {
   "cell_type": "markdown",
   "metadata": {},
   "source": [
    "<a id='analyzing'></a>\n",
    "## Analyzing and Visualizing Data\n",
    "In this section, analyze and visualize your wrangled data."
   ]
  },
  {
   "cell_type": "code",
   "execution_count": 83,
   "metadata": {},
   "outputs": [
    {
     "data": {
      "text/html": [
       "<div>\n",
       "<style scoped>\n",
       "    .dataframe tbody tr th:only-of-type {\n",
       "        vertical-align: middle;\n",
       "    }\n",
       "\n",
       "    .dataframe tbody tr th {\n",
       "        vertical-align: top;\n",
       "    }\n",
       "\n",
       "    .dataframe thead th {\n",
       "        text-align: right;\n",
       "    }\n",
       "</style>\n",
       "<table border=\"1\" class=\"dataframe\">\n",
       "  <thead>\n",
       "    <tr style=\"text-align: right;\">\n",
       "      <th></th>\n",
       "      <th>tweet_id</th>\n",
       "      <th>source</th>\n",
       "      <th>text</th>\n",
       "      <th>rating_numerator</th>\n",
       "      <th>rating_denominator</th>\n",
       "      <th>name</th>\n",
       "      <th>dog_type</th>\n",
       "      <th>date</th>\n",
       "      <th>time</th>\n",
       "      <th>jpg_url</th>\n",
       "      <th>...</th>\n",
       "      <th>p1_conf</th>\n",
       "      <th>p1_dog</th>\n",
       "      <th>p2</th>\n",
       "      <th>p2_conf</th>\n",
       "      <th>p2_dog</th>\n",
       "      <th>p3</th>\n",
       "      <th>p3_conf</th>\n",
       "      <th>p3_dog</th>\n",
       "      <th>retweet_count</th>\n",
       "      <th>favorite_count</th>\n",
       "    </tr>\n",
       "  </thead>\n",
       "  <tbody>\n",
       "    <tr>\n",
       "      <th>0</th>\n",
       "      <td>892420643555336193</td>\n",
       "      <td>Twitter for iPhone</td>\n",
       "      <td>This is Phineas. He's a mystical boy. Only eve...</td>\n",
       "      <td>13</td>\n",
       "      <td>10</td>\n",
       "      <td>PhineJohndoes</td>\n",
       "      <td>other</td>\n",
       "      <td>2017-08-01</td>\n",
       "      <td>16:23:56</td>\n",
       "      <td>https://pbs.twimg.com/media/DGKD1-bXoAAIAUK.jpg</td>\n",
       "      <td>...</td>\n",
       "      <td>0.097049</td>\n",
       "      <td>False</td>\n",
       "      <td>bagel</td>\n",
       "      <td>0.085851</td>\n",
       "      <td>False</td>\n",
       "      <td>banana</td>\n",
       "      <td>0.076110</td>\n",
       "      <td>False</td>\n",
       "      <td>8853</td>\n",
       "      <td>39467</td>\n",
       "    </tr>\n",
       "    <tr>\n",
       "      <th>1</th>\n",
       "      <td>892177421306343426</td>\n",
       "      <td>Twitter for iPhone</td>\n",
       "      <td>This is Tilly. She's just checking pup on you....</td>\n",
       "      <td>13</td>\n",
       "      <td>10</td>\n",
       "      <td>Tilly</td>\n",
       "      <td>other</td>\n",
       "      <td>2017-08-01</td>\n",
       "      <td>00:17:27</td>\n",
       "      <td>https://pbs.twimg.com/media/DGGmoV4XsAAUL6n.jpg</td>\n",
       "      <td>...</td>\n",
       "      <td>0.323581</td>\n",
       "      <td>True</td>\n",
       "      <td>pekinese</td>\n",
       "      <td>0.090647</td>\n",
       "      <td>True</td>\n",
       "      <td>papillon</td>\n",
       "      <td>0.068957</td>\n",
       "      <td>True</td>\n",
       "      <td>6514</td>\n",
       "      <td>33819</td>\n",
       "    </tr>\n",
       "    <tr>\n",
       "      <th>2</th>\n",
       "      <td>891815181378084864</td>\n",
       "      <td>Twitter for iPhone</td>\n",
       "      <td>This is Archie. He is a rare Norwegian Pouncin...</td>\n",
       "      <td>12</td>\n",
       "      <td>10</td>\n",
       "      <td>Archie</td>\n",
       "      <td>other</td>\n",
       "      <td>2017-07-31</td>\n",
       "      <td>00:18:03</td>\n",
       "      <td>https://pbs.twimg.com/media/DGBdLU1WsAANxJ9.jpg</td>\n",
       "      <td>...</td>\n",
       "      <td>0.716012</td>\n",
       "      <td>True</td>\n",
       "      <td>malamute</td>\n",
       "      <td>0.078253</td>\n",
       "      <td>True</td>\n",
       "      <td>kelpie</td>\n",
       "      <td>0.031379</td>\n",
       "      <td>True</td>\n",
       "      <td>4328</td>\n",
       "      <td>25461</td>\n",
       "    </tr>\n",
       "    <tr>\n",
       "      <th>3</th>\n",
       "      <td>891689557279858688</td>\n",
       "      <td>Twitter for iPhone</td>\n",
       "      <td>This is Darla. She commenced a snooze mid meal...</td>\n",
       "      <td>13</td>\n",
       "      <td>10</td>\n",
       "      <td>DJohndoerlJohndoe</td>\n",
       "      <td>other</td>\n",
       "      <td>2017-07-30</td>\n",
       "      <td>15:58:51</td>\n",
       "      <td>https://pbs.twimg.com/media/DF_q7IAWsAEuuN8.jpg</td>\n",
       "      <td>...</td>\n",
       "      <td>0.170278</td>\n",
       "      <td>False</td>\n",
       "      <td>labrador_retriever</td>\n",
       "      <td>0.168086</td>\n",
       "      <td>True</td>\n",
       "      <td>spatula</td>\n",
       "      <td>0.040836</td>\n",
       "      <td>False</td>\n",
       "      <td>8964</td>\n",
       "      <td>42908</td>\n",
       "    </tr>\n",
       "    <tr>\n",
       "      <th>4</th>\n",
       "      <td>891327558926688256</td>\n",
       "      <td>Twitter for iPhone</td>\n",
       "      <td>This is Franklin. He would like you to stop ca...</td>\n",
       "      <td>12</td>\n",
       "      <td>10</td>\n",
       "      <td>FrJohndoenklin</td>\n",
       "      <td>other</td>\n",
       "      <td>2017-07-29</td>\n",
       "      <td>16:00:24</td>\n",
       "      <td>https://pbs.twimg.com/media/DF6hr6BUMAAzZgT.jpg</td>\n",
       "      <td>...</td>\n",
       "      <td>0.555712</td>\n",
       "      <td>True</td>\n",
       "      <td>english_springer</td>\n",
       "      <td>0.225770</td>\n",
       "      <td>True</td>\n",
       "      <td>german_short_haired_pointer</td>\n",
       "      <td>0.175219</td>\n",
       "      <td>True</td>\n",
       "      <td>9774</td>\n",
       "      <td>41048</td>\n",
       "    </tr>\n",
       "  </tbody>\n",
       "</table>\n",
       "<p>5 rows × 22 columns</p>\n",
       "</div>"
      ],
      "text/plain": [
       "             tweet_id              source  \\\n",
       "0  892420643555336193  Twitter for iPhone   \n",
       "1  892177421306343426  Twitter for iPhone   \n",
       "2  891815181378084864  Twitter for iPhone   \n",
       "3  891689557279858688  Twitter for iPhone   \n",
       "4  891327558926688256  Twitter for iPhone   \n",
       "\n",
       "                                                text  rating_numerator  \\\n",
       "0  This is Phineas. He's a mystical boy. Only eve...                13   \n",
       "1  This is Tilly. She's just checking pup on you....                13   \n",
       "2  This is Archie. He is a rare Norwegian Pouncin...                12   \n",
       "3  This is Darla. She commenced a snooze mid meal...                13   \n",
       "4  This is Franklin. He would like you to stop ca...                12   \n",
       "\n",
       "   rating_denominator               name dog_type        date      time  \\\n",
       "0                  10      PhineJohndoes    other  2017-08-01  16:23:56   \n",
       "1                  10              Tilly    other  2017-08-01  00:17:27   \n",
       "2                  10             Archie    other  2017-07-31  00:18:03   \n",
       "3                  10  DJohndoerlJohndoe    other  2017-07-30  15:58:51   \n",
       "4                  10     FrJohndoenklin    other  2017-07-29  16:00:24   \n",
       "\n",
       "                                           jpg_url  ...   p1_conf p1_dog  \\\n",
       "0  https://pbs.twimg.com/media/DGKD1-bXoAAIAUK.jpg  ...  0.097049  False   \n",
       "1  https://pbs.twimg.com/media/DGGmoV4XsAAUL6n.jpg  ...  0.323581   True   \n",
       "2  https://pbs.twimg.com/media/DGBdLU1WsAANxJ9.jpg  ...  0.716012   True   \n",
       "3  https://pbs.twimg.com/media/DF_q7IAWsAEuuN8.jpg  ...  0.170278  False   \n",
       "4  https://pbs.twimg.com/media/DF6hr6BUMAAzZgT.jpg  ...  0.555712   True   \n",
       "\n",
       "                   p2   p2_conf p2_dog                           p3   p3_conf  \\\n",
       "0               bagel  0.085851  False                       banana  0.076110   \n",
       "1            pekinese  0.090647   True                     papillon  0.068957   \n",
       "2            malamute  0.078253   True                       kelpie  0.031379   \n",
       "3  labrador_retriever  0.168086   True                      spatula  0.040836   \n",
       "4    english_springer  0.225770   True  german_short_haired_pointer  0.175219   \n",
       "\n",
       "  p3_dog  retweet_count  favorite_count  \n",
       "0  False           8853           39467  \n",
       "1   True           6514           33819  \n",
       "2   True           4328           25461  \n",
       "3  False           8964           42908  \n",
       "4   True           9774           41048  \n",
       "\n",
       "[5 rows x 22 columns]"
      ]
     },
     "execution_count": 83,
     "metadata": {},
     "output_type": "execute_result"
    }
   ],
   "source": [
    "df = pd.read_csv('twitter_archive_master.csv')\n",
    "df.head()"
   ]
  },
  {
   "cell_type": "code",
   "execution_count": 84,
   "metadata": {},
   "outputs": [
    {
     "data": {
      "text/html": [
       "<div>\n",
       "<style scoped>\n",
       "    .dataframe tbody tr th:only-of-type {\n",
       "        vertical-align: middle;\n",
       "    }\n",
       "\n",
       "    .dataframe tbody tr th {\n",
       "        vertical-align: top;\n",
       "    }\n",
       "\n",
       "    .dataframe thead th {\n",
       "        text-align: right;\n",
       "    }\n",
       "</style>\n",
       "<table border=\"1\" class=\"dataframe\">\n",
       "  <thead>\n",
       "    <tr style=\"text-align: right;\">\n",
       "      <th></th>\n",
       "      <th>tweet_id</th>\n",
       "      <th>rating_numerator</th>\n",
       "      <th>rating_denominator</th>\n",
       "      <th>img_num</th>\n",
       "      <th>p1_conf</th>\n",
       "      <th>p2_conf</th>\n",
       "      <th>p3_conf</th>\n",
       "      <th>retweet_count</th>\n",
       "      <th>favorite_count</th>\n",
       "    </tr>\n",
       "  </thead>\n",
       "  <tbody>\n",
       "    <tr>\n",
       "      <th>count</th>\n",
       "      <td>1.970000e+03</td>\n",
       "      <td>1970.000000</td>\n",
       "      <td>1970.0</td>\n",
       "      <td>1970.000000</td>\n",
       "      <td>1970.000000</td>\n",
       "      <td>1.970000e+03</td>\n",
       "      <td>1.970000e+03</td>\n",
       "      <td>1970.000000</td>\n",
       "      <td>1970.000000</td>\n",
       "    </tr>\n",
       "    <tr>\n",
       "      <th>mean</th>\n",
       "      <td>7.356333e+17</td>\n",
       "      <td>11.700508</td>\n",
       "      <td>10.0</td>\n",
       "      <td>1.204061</td>\n",
       "      <td>0.592616</td>\n",
       "      <td>1.350295e-01</td>\n",
       "      <td>6.041528e-02</td>\n",
       "      <td>2760.939086</td>\n",
       "      <td>8885.426904</td>\n",
       "    </tr>\n",
       "    <tr>\n",
       "      <th>std</th>\n",
       "      <td>6.757927e+16</td>\n",
       "      <td>40.913225</td>\n",
       "      <td>0.0</td>\n",
       "      <td>0.562935</td>\n",
       "      <td>0.272020</td>\n",
       "      <td>1.008177e-01</td>\n",
       "      <td>5.099559e-02</td>\n",
       "      <td>4674.438635</td>\n",
       "      <td>12219.395294</td>\n",
       "    </tr>\n",
       "    <tr>\n",
       "      <th>min</th>\n",
       "      <td>6.660209e+17</td>\n",
       "      <td>0.000000</td>\n",
       "      <td>10.0</td>\n",
       "      <td>1.000000</td>\n",
       "      <td>0.044333</td>\n",
       "      <td>1.011300e-08</td>\n",
       "      <td>1.740170e-10</td>\n",
       "      <td>16.000000</td>\n",
       "      <td>81.000000</td>\n",
       "    </tr>\n",
       "    <tr>\n",
       "      <th>25%</th>\n",
       "      <td>6.757183e+17</td>\n",
       "      <td>10.000000</td>\n",
       "      <td>10.0</td>\n",
       "      <td>1.000000</td>\n",
       "      <td>0.360437</td>\n",
       "      <td>5.435947e-02</td>\n",
       "      <td>1.621080e-02</td>\n",
       "      <td>620.000000</td>\n",
       "      <td>1947.000000</td>\n",
       "    </tr>\n",
       "    <tr>\n",
       "      <th>50%</th>\n",
       "      <td>7.081144e+17</td>\n",
       "      <td>11.000000</td>\n",
       "      <td>10.0</td>\n",
       "      <td>1.000000</td>\n",
       "      <td>0.587026</td>\n",
       "      <td>1.186490e-01</td>\n",
       "      <td>4.975535e-02</td>\n",
       "      <td>1344.500000</td>\n",
       "      <td>4096.500000</td>\n",
       "    </tr>\n",
       "    <tr>\n",
       "      <th>75%</th>\n",
       "      <td>7.873791e+17</td>\n",
       "      <td>12.000000</td>\n",
       "      <td>10.0</td>\n",
       "      <td>1.000000</td>\n",
       "      <td>0.841932</td>\n",
       "      <td>1.955692e-01</td>\n",
       "      <td>9.166433e-02</td>\n",
       "      <td>3223.000000</td>\n",
       "      <td>11326.500000</td>\n",
       "    </tr>\n",
       "    <tr>\n",
       "      <th>max</th>\n",
       "      <td>8.924206e+17</td>\n",
       "      <td>1776.000000</td>\n",
       "      <td>10.0</td>\n",
       "      <td>4.000000</td>\n",
       "      <td>1.000000</td>\n",
       "      <td>4.880140e-01</td>\n",
       "      <td>2.734190e-01</td>\n",
       "      <td>79515.000000</td>\n",
       "      <td>132810.000000</td>\n",
       "    </tr>\n",
       "  </tbody>\n",
       "</table>\n",
       "</div>"
      ],
      "text/plain": [
       "           tweet_id  rating_numerator  rating_denominator      img_num  \\\n",
       "count  1.970000e+03       1970.000000              1970.0  1970.000000   \n",
       "mean   7.356333e+17         11.700508                10.0     1.204061   \n",
       "std    6.757927e+16         40.913225                 0.0     0.562935   \n",
       "min    6.660209e+17          0.000000                10.0     1.000000   \n",
       "25%    6.757183e+17         10.000000                10.0     1.000000   \n",
       "50%    7.081144e+17         11.000000                10.0     1.000000   \n",
       "75%    7.873791e+17         12.000000                10.0     1.000000   \n",
       "max    8.924206e+17       1776.000000                10.0     4.000000   \n",
       "\n",
       "           p1_conf       p2_conf       p3_conf  retweet_count  favorite_count  \n",
       "count  1970.000000  1.970000e+03  1.970000e+03    1970.000000     1970.000000  \n",
       "mean      0.592616  1.350295e-01  6.041528e-02    2760.939086     8885.426904  \n",
       "std       0.272020  1.008177e-01  5.099559e-02    4674.438635    12219.395294  \n",
       "min       0.044333  1.011300e-08  1.740170e-10      16.000000       81.000000  \n",
       "25%       0.360437  5.435947e-02  1.621080e-02     620.000000     1947.000000  \n",
       "50%       0.587026  1.186490e-01  4.975535e-02    1344.500000     4096.500000  \n",
       "75%       0.841932  1.955692e-01  9.166433e-02    3223.000000    11326.500000  \n",
       "max       1.000000  4.880140e-01  2.734190e-01   79515.000000   132810.000000  "
      ]
     },
     "execution_count": 84,
     "metadata": {},
     "output_type": "execute_result"
    }
   ],
   "source": [
    "df.describe()"
   ]
  },
  {
   "cell_type": "code",
   "execution_count": 85,
   "metadata": {},
   "outputs": [
    {
     "data": {
      "text/html": [
       "<div>\n",
       "<style scoped>\n",
       "    .dataframe tbody tr th:only-of-type {\n",
       "        vertical-align: middle;\n",
       "    }\n",
       "\n",
       "    .dataframe tbody tr th {\n",
       "        vertical-align: top;\n",
       "    }\n",
       "\n",
       "    .dataframe thead th {\n",
       "        text-align: right;\n",
       "    }\n",
       "</style>\n",
       "<table border=\"1\" class=\"dataframe\">\n",
       "  <thead>\n",
       "    <tr style=\"text-align: right;\">\n",
       "      <th></th>\n",
       "      <th>source</th>\n",
       "      <th>text</th>\n",
       "      <th>name</th>\n",
       "      <th>dog_type</th>\n",
       "      <th>date</th>\n",
       "      <th>time</th>\n",
       "      <th>jpg_url</th>\n",
       "      <th>p1</th>\n",
       "      <th>p2</th>\n",
       "      <th>p3</th>\n",
       "    </tr>\n",
       "  </thead>\n",
       "  <tbody>\n",
       "    <tr>\n",
       "      <th>count</th>\n",
       "      <td>1970</td>\n",
       "      <td>1970</td>\n",
       "      <td>1970</td>\n",
       "      <td>1970</td>\n",
       "      <td>1970</td>\n",
       "      <td>1970</td>\n",
       "      <td>1970</td>\n",
       "      <td>1970</td>\n",
       "      <td>1970</td>\n",
       "      <td>1970</td>\n",
       "    </tr>\n",
       "    <tr>\n",
       "      <th>unique</th>\n",
       "      <td>3</td>\n",
       "      <td>1970</td>\n",
       "      <td>928</td>\n",
       "      <td>5</td>\n",
       "      <td>593</td>\n",
       "      <td>1920</td>\n",
       "      <td>1970</td>\n",
       "      <td>374</td>\n",
       "      <td>397</td>\n",
       "      <td>405</td>\n",
       "    </tr>\n",
       "    <tr>\n",
       "      <th>top</th>\n",
       "      <td>Twitter for iPhone</td>\n",
       "      <td>This is Phineas. He's a mystical boy. Only eve...</td>\n",
       "      <td>Johndoe</td>\n",
       "      <td>other</td>\n",
       "      <td>2015-11-28</td>\n",
       "      <td>01:00:05</td>\n",
       "      <td>https://pbs.twimg.com/media/DGKD1-bXoAAIAUK.jpg</td>\n",
       "      <td>golden_retriever</td>\n",
       "      <td>labrador_retriever</td>\n",
       "      <td>labrador_retriever</td>\n",
       "    </tr>\n",
       "    <tr>\n",
       "      <th>freq</th>\n",
       "      <td>1931</td>\n",
       "      <td>1</td>\n",
       "      <td>593</td>\n",
       "      <td>1675</td>\n",
       "      <td>26</td>\n",
       "      <td>3</td>\n",
       "      <td>1</td>\n",
       "      <td>132</td>\n",
       "      <td>91</td>\n",
       "      <td>75</td>\n",
       "    </tr>\n",
       "  </tbody>\n",
       "</table>\n",
       "</div>"
      ],
      "text/plain": [
       "                    source                                               text  \\\n",
       "count                 1970                                               1970   \n",
       "unique                   3                                               1970   \n",
       "top     Twitter for iPhone  This is Phineas. He's a mystical boy. Only eve...   \n",
       "freq                  1931                                                  1   \n",
       "\n",
       "           name dog_type        date      time  \\\n",
       "count      1970     1970        1970      1970   \n",
       "unique      928        5         593      1920   \n",
       "top     Johndoe    other  2015-11-28  01:00:05   \n",
       "freq        593     1675          26         3   \n",
       "\n",
       "                                                jpg_url                p1  \\\n",
       "count                                              1970              1970   \n",
       "unique                                             1970               374   \n",
       "top     https://pbs.twimg.com/media/DGKD1-bXoAAIAUK.jpg  golden_retriever   \n",
       "freq                                                  1               132   \n",
       "\n",
       "                        p2                  p3  \n",
       "count                 1970                1970  \n",
       "unique                 397                 405  \n",
       "top     labrador_retriever  labrador_retriever  \n",
       "freq                    91                  75  "
      ]
     },
     "execution_count": 85,
     "metadata": {},
     "output_type": "execute_result"
    }
   ],
   "source": [
    "df.describe(include=['O'])"
   ]
  },
  {
   "cell_type": "code",
   "execution_count": 86,
   "metadata": {},
   "outputs": [
    {
     "name": "stdout",
     "output_type": "stream",
     "text": [
      "<class 'pandas.core.frame.DataFrame'>\n",
      "RangeIndex: 1970 entries, 0 to 1969\n",
      "Data columns (total 22 columns):\n",
      " #   Column              Non-Null Count  Dtype  \n",
      "---  ------              --------------  -----  \n",
      " 0   tweet_id            1970 non-null   int64  \n",
      " 1   source              1970 non-null   object \n",
      " 2   text                1970 non-null   object \n",
      " 3   rating_numerator    1970 non-null   int64  \n",
      " 4   rating_denominator  1970 non-null   int64  \n",
      " 5   name                1970 non-null   object \n",
      " 6   dog_type            1970 non-null   object \n",
      " 7   date                1970 non-null   object \n",
      " 8   time                1970 non-null   object \n",
      " 9   jpg_url             1970 non-null   object \n",
      " 10  img_num             1970 non-null   int64  \n",
      " 11  p1                  1970 non-null   object \n",
      " 12  p1_conf             1970 non-null   float64\n",
      " 13  p1_dog              1970 non-null   bool   \n",
      " 14  p2                  1970 non-null   object \n",
      " 15  p2_conf             1970 non-null   float64\n",
      " 16  p2_dog              1970 non-null   bool   \n",
      " 17  p3                  1970 non-null   object \n",
      " 18  p3_conf             1970 non-null   float64\n",
      " 19  p3_dog              1970 non-null   bool   \n",
      " 20  retweet_count       1970 non-null   int64  \n",
      " 21  favorite_count      1970 non-null   int64  \n",
      "dtypes: bool(3), float64(3), int64(6), object(10)\n",
      "memory usage: 298.3+ KB\n"
     ]
    }
   ],
   "source": [
    "df['rating_denominator'] = df['rating_denominator'].astype(\"int64\")\n",
    "df.info()"
   ]
  },
  {
   "cell_type": "code",
   "execution_count": 87,
   "metadata": {},
   "outputs": [
    {
     "data": {
      "image/png": "[encoded data removed]",
      "text/plain": [
       "<Figure size 720x432 with 1 Axes>"
      ]
     },
     "metadata": {
      "needs_background": "light"
     },
     "output_type": "display_data"
    }
   ],
   "source": [
    "ax = sns.barplot(y='retweet_count', x='dog_type',data=df, palette='Blues', ci=None) # it shows the average \n",
    "ax.figure.set_size_inches(10,6);"
   ]
  },
  {
   "cell_type": "code",
   "execution_count": 88,
   "metadata": {},
   "outputs": [
    {
     "data": {
      "image/png": "[encoded data removed]",
      "text/plain": [
       "<Figure size 720x432 with 1 Axes>"
      ]
     },
     "metadata": {
      "needs_background": "light"
     },
     "output_type": "display_data"
    }
   ],
   "source": [
    "ax = sns.barplot(y='favorite_count', x='dog_type',data=df, palette='Blues', ci=None) # it shows the average \n",
    "ax.figure.set_size_inches(10,6);"
   ]
  },
  {
   "cell_type": "markdown",
   "metadata": {},
   "source": [
    "Looking at the bar charts above, we can see that:\n",
    "- Dog-type doggo and puppo have higher popularity than other types, as they have higher retweets and favorite counts than the rest.\n",
    "- Dog-type pupper is the least popular as it has the lowest retweets and favorite counts.\n"
   ]
  },
  {
   "cell_type": "code",
   "execution_count": 89,
   "metadata": {},
   "outputs": [
    {
     "data": {
      "image/png": "[encoded data removed]",
      "text/plain": [
       "<Figure size 1440x1080 with 2 Axes>"
      ]
     },
     "metadata": {
      "needs_background": "light"
     },
     "output_type": "display_data"
    }
   ],
   "source": [
    "df_cor = df.copy()\n",
    "df_cor.drop(columns=['rating_denominator'], inplace=True)\n",
    "plt.figure(figsize = (20,15)) \n",
    "sns.heatmap(df_cor.corr(), annot=True, cmap=\"Blues\");"
   ]
  },
  {
   "cell_type": "markdown",
   "metadata": {},
   "source": [
    "Looking at the heatmap above, we can see that:\n",
    "- There is a strong negative correlation **-0.71** between p1_conf and p3_conf, which is interesting as it means that the confidence level of the prediction algorithm is opposite for their #1 and #3 predictions.\n",
    "- There is a strong positive correlation **0.91** between retweet_count and favorit_count, which reflects the more popular the tweet is the higher both retweet and favorite counts."
   ]
  }
 ],
 "metadata": {
  "extensions": {
   "jupyter_dashboards": {
    "activeView": "report_default",
    "version": 1,
    "views": {
     "grid_default": {
      "cellMargin": 10,
      "defaultCellHeight": 20,
      "maxColumns": 12,
      "name": "grid",
      "type": "grid"
     },
     "report_default": {
      "name": "report",
      "type": "report"
     }
    }
   }
  },
  "kernelspec": {
   "display_name": "Python 3 (ipykernel)",
   "language": "python",
   "name": "python3"
  },
  "language_info": {
   "codemirror_mode": {
    "name": "ipython",
    "version": 3
   },
   "file_extension": ".py",
   "mimetype": "text/x-python",
   "name": "python",
   "nbconvert_exporter": "python",
   "pygments_lexer": "ipython3",
   "version": "3.9.7"
  }
 },
 "nbformat": 4,
 "nbformat_minor": 2
}
